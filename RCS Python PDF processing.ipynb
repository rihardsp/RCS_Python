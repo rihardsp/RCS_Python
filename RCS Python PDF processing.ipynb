{
 "cells": [
  {
   "cell_type": "markdown",
   "metadata": {},
   "source": [
    "## RCS Python PDF processing"
   ]
  },
  {
   "cell_type": "code",
   "execution_count": null,
   "metadata": {},
   "outputs": [],
   "source": [
    "##PDF - beautiful results outside, ugly beast inside\n",
    "\n",
    "## Library is highly recommended"
   ]
  },
  {
   "cell_type": "markdown",
   "metadata": {},
   "source": [
    "### Python PDF libraries:\n",
    "\n",
    "* [PYPDF2](https://github.com/mstamy2/PyPDF2) - pure-python PDF library capable of splitting, merging together, cropping, and transforming the pages of PDF files\n",
    "\n",
    "* [PyFPDF](https://pyfpdf.readthedocs.io/en/latest/) - PDF generator(last update 2012)\n",
    "* [PDFtoText](https://github.com/jalan/pdftotext) - best for text extraction but requires some external dependencies\n",
    "* [PDFminer](https://pypi.org/project/pdfminer.six/) -tool for extracting information from PDF documents. Unlike other PDF-related tools, it focuses entirely on getting and analyzing text data."
   ]
  },
  {
   "cell_type": "code",
   "execution_count": 1,
   "metadata": {},
   "outputs": [
    {
     "ename": "ModuleNotFoundError",
     "evalue": "No module named 'PyPDF2'",
     "output_type": "error",
     "traceback": [
      "\u001b[0;31m---------------------------------------------------------------------------\u001b[0m",
      "\u001b[0;31mModuleNotFoundError\u001b[0m                       Traceback (most recent call last)",
      "\u001b[0;32m<ipython-input-1-69e9e6162b4c>\u001b[0m in \u001b[0;36m<module>\u001b[0;34m()\u001b[0m\n\u001b[0;32m----> 1\u001b[0;31m \u001b[0;32mimport\u001b[0m \u001b[0mPyPDF2\u001b[0m\u001b[0;34m\u001b[0m\u001b[0m\n\u001b[0m",
      "\u001b[0;31mModuleNotFoundError\u001b[0m: No module named 'PyPDF2'"
     ]
    }
   ],
   "source": [
    "import PyPDF2"
   ]
  },
  {
   "cell_type": "code",
   "execution_count": 2,
   "metadata": {
    "scrolled": true
   },
   "outputs": [
    {
     "name": "stdout",
     "output_type": "stream",
     "text": [
      "Collecting PyPDF2\n",
      "  Downloading https://files.pythonhosted.org/packages/b4/01/68fcc0d43daf4c6bdbc6b33cc3f77bda531c86b174cac56ef0ffdb96faab/PyPDF2-1.26.0.tar.gz (77kB)\n",
      "\u001b[K    100% |████████████████████████████████| 81kB 1.6MB/s ta 0:00:01\n",
      "\u001b[?25hBuilding wheels for collected packages: PyPDF2\n",
      "  Running setup.py bdist_wheel for PyPDF2 ... \u001b[?25ldone\n",
      "\u001b[?25h  Stored in directory: /Users/rihardspaze/Library/Caches/pip/wheels/53/84/19/35bc977c8bf5f0c23a8a011aa958acd4da4bbd7a229315c1b7\n",
      "Successfully built PyPDF2\n",
      "Installing collected packages: PyPDF2\n",
      "Successfully installed PyPDF2-1.26.0\n",
      "\u001b[33mYou are using pip version 9.0.1, however version 10.0.1 is available.\n",
      "You should consider upgrading via the 'pip install --upgrade pip' command.\u001b[0m\n"
     ]
    }
   ],
   "source": [
    "! pip install PyPDF2"
   ]
  },
  {
   "cell_type": "code",
   "execution_count": 3,
   "metadata": {},
   "outputs": [],
   "source": [
    "import PyPDF2\n"
   ]
  },
  {
   "cell_type": "code",
   "execution_count": 4,
   "metadata": {},
   "outputs": [
    {
     "data": {
      "text/plain": [
       "'/Users/rihardspaze/Documents/Python/GitHub/RCS_Python_10'"
      ]
     },
     "execution_count": 4,
     "metadata": {},
     "output_type": "execute_result"
    }
   ],
   "source": [
    "pwd"
   ]
  },
  {
   "cell_type": "code",
   "execution_count": 5,
   "metadata": {},
   "outputs": [],
   "source": [
    "inFile = open('Lorem Ipsum.pdf', 'rb')\n",
    "pdfRead=PyPDF2.PdfFileReader(inFile)\n",
    "# could also do pdfRead = PyPDF2.PdfFileReader('Lorem Ipsum.pdf', 'rb') but closing then becomes an issue\n"
   ]
  },
  {
   "cell_type": "code",
   "execution_count": 6,
   "metadata": {},
   "outputs": [
    {
     "data": {
      "text/plain": [
       "PyPDF2.pdf.PdfFileReader"
      ]
     },
     "execution_count": 6,
     "metadata": {},
     "output_type": "execute_result"
    }
   ],
   "source": [
    "type(pdfRead)"
   ]
  },
  {
   "cell_type": "code",
   "execution_count": 7,
   "metadata": {},
   "outputs": [
    {
     "data": {
      "text/plain": [
       "{'/Author': 'vdell',\n",
       " '/CreationDate': \"D:20180523114936+03'00'\",\n",
       " '/Creator': 'Microsoft® Word 2013',\n",
       " '/ModDate': \"D:20180523114936+03'00'\",\n",
       " '/Producer': 'Microsoft® Word 2013'}"
      ]
     },
     "execution_count": 7,
     "metadata": {},
     "output_type": "execute_result"
    }
   ],
   "source": [
    "pdfRead.documentInfo"
   ]
  },
  {
   "cell_type": "code",
   "execution_count": 8,
   "metadata": {},
   "outputs": [
    {
     "data": {
      "text/plain": [
       "3"
      ]
     },
     "execution_count": 8,
     "metadata": {},
     "output_type": "execute_result"
    }
   ],
   "source": [
    "pdfRead.numPages"
   ]
  },
  {
   "cell_type": "code",
   "execution_count": 9,
   "metadata": {},
   "outputs": [
    {
     "data": {
      "text/plain": [
       "{'/Author': 'vdell',\n",
       " '/CreationDate': \"D:20180523115642+03'00'\",\n",
       " '/Creator': 'Microsoft® Excel® 2013',\n",
       " '/ModDate': \"D:20180523115642+03'00'\",\n",
       " '/Producer': 'Microsoft® Excel® 2013'}"
      ]
     },
     "execution_count": 9,
     "metadata": {},
     "output_type": "execute_result"
    }
   ],
   "source": [
    "infile2 = open('RandomBook.pdf', 'rb')\n",
    "pdfRead2 = PyPDF2.PdfFileReader(infile2)\n",
    "# pdfRead2 = PyPDF2.PdfFileReader('RandomBook.pdf', 'rb')\n",
    "pdfRead2.documentInfo"
   ]
  },
  {
   "cell_type": "code",
   "execution_count": 9,
   "metadata": {},
   "outputs": [],
   "source": [
    "# We need a stream to write the output to!"
   ]
  },
  {
   "cell_type": "code",
   "execution_count": 10,
   "metadata": {},
   "outputs": [
    {
     "data": {
      "text/plain": [
       "PyPDF2.pdf.PdfFileWriter"
      ]
     },
     "execution_count": 10,
     "metadata": {},
     "output_type": "execute_result"
    }
   ],
   "source": [
    "pdfWriter = PyPDF2.PdfFileWriter()\n",
    "type(pdfWriter)\n",
    "#tiek definets objekts kura tiks veidots jauns pdf fails un atmina"
   ]
  },
  {
   "cell_type": "code",
   "execution_count": 12,
   "metadata": {},
   "outputs": [],
   "source": [
    "def addPages(reader, writer):\n",
    "    for pageNum in range(reader.numPages):\n",
    "        pageObj = reader.getPage(pageNum)\n",
    "        writer.addPage(pageObj)\n",
    "#funkcija ierakstis writeri attiecigu daudzumu lapu [paligfunkcija ko var izmantot nakotne lai pieliktu klat lapas]"
   ]
  },
  {
   "cell_type": "code",
   "execution_count": 18,
   "metadata": {},
   "outputs": [],
   "source": [
    "addPages(pdfRead, pdfWriter)\n",
    "#panemts pirmais PDF fails un iestumts pdfWriter objekta"
   ]
  },
  {
   "cell_type": "code",
   "execution_count": 19,
   "metadata": {},
   "outputs": [],
   "source": [
    "addPages(pdfRead2, pdfWriter)\n",
    "#panemts otrais PDF fails un iestumts pdfWriter objekta"
   ]
  },
  {
   "cell_type": "code",
   "execution_count": 23,
   "metadata": {
    "scrolled": true
   },
   "outputs": [
    {
     "data": {
      "text/plain": [
       "<PyPDF2.pdf.PdfFileWriter at 0x103efc8d0>"
      ]
     },
     "execution_count": 23,
     "metadata": {},
     "output_type": "execute_result"
    }
   ],
   "source": [
    "pdfWriter"
   ]
  },
  {
   "cell_type": "code",
   "execution_count": 25,
   "metadata": {},
   "outputs": [],
   "source": [
    "pdfWriter.addPage(pdfRead.getPage(0))"
   ]
  },
  {
   "cell_type": "code",
   "execution_count": 30,
   "metadata": {},
   "outputs": [],
   "source": [
    "pdfWriter.addPage(pdfRead2.getPage(-1))\n",
    "# ar -1 var pievienot pedejo lapu\n",
    "pdfWriter.addPage(pdfRead2.getPage(pdfRead2.numPages-1))\n",
    "# otrs veids ka panemt pedejo lapu"
   ]
  },
  {
   "cell_type": "code",
   "execution_count": 14,
   "metadata": {
    "scrolled": true
   },
   "outputs": [
    {
     "ename": "TypeError",
     "evalue": "write() takes 2 positional arguments but 3 were given",
     "output_type": "error",
     "traceback": [
      "\u001b[0;31m---------------------------------------------------------------------------\u001b[0m",
      "\u001b[0;31mTypeError\u001b[0m                                 Traceback (most recent call last)",
      "\u001b[0;32m<ipython-input-14-46712528c6dc>\u001b[0m in \u001b[0;36m<module>\u001b[0;34m()\u001b[0m\n\u001b[0;32m----> 1\u001b[0;31m \u001b[0mpdfWriter\u001b[0m\u001b[0;34m.\u001b[0m\u001b[0mwrite\u001b[0m\u001b[0;34m(\u001b[0m\u001b[0;34m\"combined.pdf\"\u001b[0m\u001b[0;34m,\u001b[0m \u001b[0;34m'wb'\u001b[0m\u001b[0;34m)\u001b[0m\u001b[0;34m\u001b[0m\u001b[0m\n\u001b[0m",
      "\u001b[0;31mTypeError\u001b[0m: write() takes 2 positional arguments but 3 were given"
     ]
    }
   ],
   "source": [
    "pdfWriter.write(\"combined.pdf\", 'wb')"
   ]
  },
  {
   "cell_type": "code",
   "execution_count": 27,
   "metadata": {},
   "outputs": [],
   "source": [
    "outFile = open('combined.pdf', 'wb')"
   ]
  },
  {
   "cell_type": "code",
   "execution_count": 28,
   "metadata": {},
   "outputs": [],
   "source": [
    "pdfWriter.write(outFile)"
   ]
  },
  {
   "cell_type": "code",
   "execution_count": 29,
   "metadata": {},
   "outputs": [],
   "source": [
    "# lets not forget about manual closing..\n",
    "outFile.close()"
   ]
  },
  {
   "cell_type": "code",
   "execution_count": 31,
   "metadata": {},
   "outputs": [
    {
     "data": {
      "text/plain": [
       "PyPDF2.pdf.PageObject"
      ]
     },
     "execution_count": 31,
     "metadata": {},
     "output_type": "execute_result"
    }
   ],
   "source": [
    "pg = pdfRead.getPage(0)\n",
    "type(pg)"
   ]
  },
  {
   "cell_type": "code",
   "execution_count": 32,
   "metadata": {},
   "outputs": [
    {
     "data": {
      "text/plain": [
       "'Lorem Ipsum\\n \\n\"Neque porro quisquam est qui dolorem ipsum quia dolor sit amet, consectetur, adipisci velit...\"\\n \\n\"There is no one who loves pain itself, who seeks after it and wants to have it, simply because it is pain...\"\\n \\n \\nLorem ipsum dolor sit amet, consectetur adipiscing elit. Vestibulum vitae conval\\nlis mauris. Proin ut \\nturpis id turpis molestie mattis. Praesent vitae libero eu ex dictum venenatis. Aliquam dui neque, \\nsuscipit eget ligula ac, cursus euismod enim. In gravida vitae risus quis pulvinar. Cras auctor augue \\nlorem, sed fermentum mauris iaculi\\ns sed. Pellentesque sit amet odio ut urna pulvinar sollicitudin. Duis \\ntincidunt leo vehicula diam efficitur feugiat. Aenean at scelerisque dolor. Pellentesque malesuada \\nlibero nibh. Phasellus id dignissim nisl. Sed egestas in lorem ut sagittis. Nulla ut di\\nam sed metus \\nvestibulum posuere. Maecenas tincidunt eros vitae lorem ornare rhoncus. Aliquam laoreet \\npellentesque velit, ut varius sem accumsan non. Mauris at mollis sapien.\\n \\nVivamus ut tortor quis massa varius ultrices. Fusce volutpat dignissim metus, nec \\ncongue purus \\ndignissim ut. Proin id sapien diam. Fusce in molestie purus, ut dapibus odio. Aenean euismod mi \\nligula, at faucibus dolor rutrum nec. Nunc pulvinar magna ut ante tempus vulputate. Quisque id metus \\nnibh. Quisque ut nunc ut sem ultricies commodo\\n. Aliquam a venenatis est. Fusce tempus, lacus \\nrhoncus consequat bibendum, ipsum diam pulvinar nisi, ac hendrerit tortor mauris non turpis. Proin \\nrhoncus bibendum vestibulum. Aenean euismod hendrerit neque, vitae sollicitudin nisl. Nullam justo \\nenim, scele\\nrisque vitae magna quis, consectetur ornare lacus.\\n \\nPraesent convallis nunc volutpat, finibus elit ac, venenatis ante. Suspendisse aliquet urna eget orci \\ndapibus bibendum. Fusce maximus fringilla est, nec ullamcorper elit sodales sit amet. Duis tempor in \\nli\\nbero faucibus porta. Praesent a vulputate tellus, vitae luctus ante. Ut id purus id odio imperdiet \\neleifend. Pellentesque nibh ipsum, efficitur sit amet ex sit amet, congue aliquam arcu. Pellentesque \\nhabitant morbi tristique senectus et netus et malesuada \\nfames ac turpis egestas. Sed ultricies \\nconsequat odio vitae ultricies. Praesent velit turpis, convallis non varius in, feugiat at sem. Integer \\nporttitor venenatis ligula, eu mollis sem blandit at. Nullam pulvinar vehicula diam id maximus. Nulla \\ninterdum bl\\nandit tincidunt. Cras finibus semper neque. Duis placerat ex augue. Donec malesuada \\nvenenatis ultrices.\\n \\nVestibulum malesuada at nisl non porta. Vivamus eu mi sapien. Praesent eu tortor quis odio mollis \\npulvinar quis blandit nulla. Vestibulum eget elit in v\\nelit ultricies efficitur nec id eros. Fusce maximus \\nsollicitudin lorem, nec sollicitudin enim placerat et. Vestibulum porttitor lectus eu turpis venenatis, non \\nelementum ipsum elementum. Etiam eget sodales nulla. Morbi ullamcorper magna eu lacinia lobortis\\n. \\nAliquam et lacus et orci ornare porta. Nam efficitur felis vel ligula vulputate sollicitudin nec vitae leo. \\nMaecenas at venenatis justo. Sed gravida auctor dolor, a ultricies purus rutrum fermentum. Phasellus \\nmattis, dolor quis venenatis aliquet, dolor a\\nugue euismod lectus, efficitur ornare orci mauris ut justo. \\nFusce feugiat convallis interdum. Pellentesque varius tempor massa, et efficitur tellus viverra sit amet.\\n \\nMaecenas ut nibh egestas, volutpat tellus nec, placerat ante. Nunc nisi massa, efficitur v\\nel massa ac, \\naccumsan lobortis sem. Nunc sem sem, laoreet vel vulputate eu, elementum a urna. Sed eu vulputate \\nligula. In non turpis lorem. Ut viverra, quam ac laoreet semper, felis est interdum tellus, nec dictum \\njusto tellus nec purus. Vestibulum eu lore\\nm lacinia, cursus ipsum nec, bibendum dui. Etiam libero \\ntellus, rhoncus fermentum lorem vel, tempor molestie risus. Cras ornare justo dui, non interdum urna \\nvestibulum ac. Sed volutpat, massa a mattis malesuada, tortor velit eleifend ipsum, vitae facilisis\\n \\nrisus \\ndui a ante. Curabitur fringilla magna sit amet pellentesque sodales.\\n \\n'"
      ]
     },
     "execution_count": 32,
     "metadata": {},
     "output_type": "execute_result"
    }
   ],
   "source": [
    "ptxt =pg.extractText()\n",
    "ptxt"
   ]
  },
  {
   "cell_type": "code",
   "execution_count": 39,
   "metadata": {
    "scrolled": true
   },
   "outputs": [
    {
     "data": {
      "text/plain": [
       "'Lorem Ipsum\\n\"Neque porro quisquam est qui dolorem ipsum quia dolor sit amet, consectetur, adipisci velit...\"\\n\"There is no one who loves pain itself, who seeks after it and wants to have it, simply because it is pain...\"\\nLorem ipsum dolor sit amet, consectetur adipiscing elit. Vestibulum vitae conval\\nlis mauris. Proin utturpis id turpis molestie mattis. Praesent vitae libero eu ex dictum venenatis. Aliquam dui neque,suscipit eget ligula ac, cursus euismod enim. In gravida vitae risus quis pulvinar. Cras auctor auguelorem, sed fermentum mauris iaculi\\ns sed. Pellentesque sit amet odio ut urna pulvinar sollicitudin. Duistincidunt leo vehicula diam efficitur feugiat. Aenean at scelerisque dolor. Pellentesque malesuadalibero nibh. Phasellus id dignissim nisl. Sed egestas in lorem ut sagittis. Nulla ut di\\nam sed metusvestibulum posuere. Maecenas tincidunt eros vitae lorem ornare rhoncus. Aliquam laoreetpellentesque velit, ut varius sem accumsan non. Mauris at mollis sapien.\\nVivamus ut tortor quis massa varius ultrices. Fusce volutpat dignissim metus, neccongue purusdignissim ut. Proin id sapien diam. Fusce in molestie purus, ut dapibus odio. Aenean euismod miligula, at faucibus dolor rutrum nec. Nunc pulvinar magna ut ante tempus vulputate. Quisque id metusnibh. Quisque ut nunc ut sem ultricies commodo\\n. Aliquam a venenatis est. Fusce tempus, lacusrhoncus consequat bibendum, ipsum diam pulvinar nisi, ac hendrerit tortor mauris non turpis. Proinrhoncus bibendum vestibulum. Aenean euismod hendrerit neque, vitae sollicitudin nisl. Nullam justoenim, scele\\nrisque vitae magna quis, consectetur ornare lacus.\\nPraesent convallis nunc volutpat, finibus elit ac, venenatis ante. Suspendisse aliquet urna eget orcidapibus bibendum. Fusce maximus fringilla est, nec ullamcorper elit sodales sit amet. Duis tempor inli\\nbero faucibus porta. Praesent a vulputate tellus, vitae luctus ante. Ut id purus id odio imperdieteleifend. Pellentesque nibh ipsum, efficitur sit amet ex sit amet, congue aliquam arcu. Pellentesquehabitant morbi tristique senectus et netus et malesuadafames ac turpis egestas. Sed ultriciesconsequat odio vitae ultricies. Praesent velit turpis, convallis non varius in, feugiat at sem. Integerporttitor venenatis ligula, eu mollis sem blandit at. Nullam pulvinar vehicula diam id maximus. Nullainterdum bl\\nandit tincidunt. Cras finibus semper neque. Duis placerat ex augue. Donec malesuadavenenatis ultrices.\\nVestibulum malesuada at nisl non porta. Vivamus eu mi sapien. Praesent eu tortor quis odio mollispulvinar quis blandit nulla. Vestibulum eget elit in v\\nelit ultricies efficitur nec id eros. Fusce maximussollicitudin lorem, nec sollicitudin enim placerat et. Vestibulum porttitor lectus eu turpis venenatis, nonelementum ipsum elementum. Etiam eget sodales nulla. Morbi ullamcorper magna eu lacinia lobortis\\n.Aliquam et lacus et orci ornare porta. Nam efficitur felis vel ligula vulputate sollicitudin nec vitae leo.Maecenas at venenatis justo. Sed gravida auctor dolor, a ultricies purus rutrum fermentum. Phasellusmattis, dolor quis venenatis aliquet, dolor a\\nugue euismod lectus, efficitur ornare orci mauris ut justo.Fusce feugiat convallis interdum. Pellentesque varius tempor massa, et efficitur tellus viverra sit amet.\\nMaecenas ut nibh egestas, volutpat tellus nec, placerat ante. Nunc nisi massa, efficitur v\\nel massa ac,accumsan lobortis sem. Nunc sem sem, laoreet vel vulputate eu, elementum a urna. Sed eu vulputateligula. In non turpis lorem. Ut viverra, quam ac laoreet semper, felis est interdum tellus, nec dictumjusto tellus nec purus. Vestibulum eu lore\\nm lacinia, cursus ipsum nec, bibendum dui. Etiam liberotellus, rhoncus fermentum lorem vel, tempor molestie risus. Cras ornare justo dui, non interdum urnavestibulum ac. Sed volutpat, massa a mattis malesuada, tortor velit eleifend ipsum, vitae facilisis\\nrisusdui a ante. Curabitur fringilla magna sit amet pellentesque sodales.\\n'"
      ]
     },
     "execution_count": 39,
     "metadata": {},
     "output_type": "execute_result"
    }
   ],
   "source": [
    "pgclean = ptxt.replace(' \\n','')\n",
    "pgclean\n"
   ]
  },
  {
   "cell_type": "code",
   "execution_count": 40,
   "metadata": {},
   "outputs": [
    {
     "data": {
      "text/plain": [
       "['Lorem Ipsum',\n",
       " '\"Neque porro quisquam est qui dolorem ipsum quia dolor sit amet, consectetur, adipisci velit...\"',\n",
       " '\"There is no one who loves pain itself, who seeks after it and wants to have it, simply because it is pain...\"',\n",
       " 'Lorem ipsum dolor sit amet, consectetur adipiscing elit. Vestibulum vitae conval',\n",
       " 'lis mauris. Proin utturpis id turpis molestie mattis. Praesent vitae libero eu ex dictum venenatis. Aliquam dui neque,suscipit eget ligula ac, cursus euismod enim. In gravida vitae risus quis pulvinar. Cras auctor auguelorem, sed fermentum mauris iaculi',\n",
       " 's sed. Pellentesque sit amet odio ut urna pulvinar sollicitudin. Duistincidunt leo vehicula diam efficitur feugiat. Aenean at scelerisque dolor. Pellentesque malesuadalibero nibh. Phasellus id dignissim nisl. Sed egestas in lorem ut sagittis. Nulla ut di',\n",
       " 'am sed metusvestibulum posuere. Maecenas tincidunt eros vitae lorem ornare rhoncus. Aliquam laoreetpellentesque velit, ut varius sem accumsan non. Mauris at mollis sapien.',\n",
       " 'Vivamus ut tortor quis massa varius ultrices. Fusce volutpat dignissim metus, neccongue purusdignissim ut. Proin id sapien diam. Fusce in molestie purus, ut dapibus odio. Aenean euismod miligula, at faucibus dolor rutrum nec. Nunc pulvinar magna ut ante tempus vulputate. Quisque id metusnibh. Quisque ut nunc ut sem ultricies commodo',\n",
       " '. Aliquam a venenatis est. Fusce tempus, lacusrhoncus consequat bibendum, ipsum diam pulvinar nisi, ac hendrerit tortor mauris non turpis. Proinrhoncus bibendum vestibulum. Aenean euismod hendrerit neque, vitae sollicitudin nisl. Nullam justoenim, scele',\n",
       " 'risque vitae magna quis, consectetur ornare lacus.',\n",
       " 'Praesent convallis nunc volutpat, finibus elit ac, venenatis ante. Suspendisse aliquet urna eget orcidapibus bibendum. Fusce maximus fringilla est, nec ullamcorper elit sodales sit amet. Duis tempor inli',\n",
       " 'bero faucibus porta. Praesent a vulputate tellus, vitae luctus ante. Ut id purus id odio imperdieteleifend. Pellentesque nibh ipsum, efficitur sit amet ex sit amet, congue aliquam arcu. Pellentesquehabitant morbi tristique senectus et netus et malesuadafames ac turpis egestas. Sed ultriciesconsequat odio vitae ultricies. Praesent velit turpis, convallis non varius in, feugiat at sem. Integerporttitor venenatis ligula, eu mollis sem blandit at. Nullam pulvinar vehicula diam id maximus. Nullainterdum bl',\n",
       " 'andit tincidunt. Cras finibus semper neque. Duis placerat ex augue. Donec malesuadavenenatis ultrices.',\n",
       " 'Vestibulum malesuada at nisl non porta. Vivamus eu mi sapien. Praesent eu tortor quis odio mollispulvinar quis blandit nulla. Vestibulum eget elit in v',\n",
       " 'elit ultricies efficitur nec id eros. Fusce maximussollicitudin lorem, nec sollicitudin enim placerat et. Vestibulum porttitor lectus eu turpis venenatis, nonelementum ipsum elementum. Etiam eget sodales nulla. Morbi ullamcorper magna eu lacinia lobortis',\n",
       " '.Aliquam et lacus et orci ornare porta. Nam efficitur felis vel ligula vulputate sollicitudin nec vitae leo.Maecenas at venenatis justo. Sed gravida auctor dolor, a ultricies purus rutrum fermentum. Phasellusmattis, dolor quis venenatis aliquet, dolor a',\n",
       " 'ugue euismod lectus, efficitur ornare orci mauris ut justo.Fusce feugiat convallis interdum. Pellentesque varius tempor massa, et efficitur tellus viverra sit amet.',\n",
       " 'Maecenas ut nibh egestas, volutpat tellus nec, placerat ante. Nunc nisi massa, efficitur v',\n",
       " 'el massa ac,accumsan lobortis sem. Nunc sem sem, laoreet vel vulputate eu, elementum a urna. Sed eu vulputateligula. In non turpis lorem. Ut viverra, quam ac laoreet semper, felis est interdum tellus, nec dictumjusto tellus nec purus. Vestibulum eu lore',\n",
       " 'm lacinia, cursus ipsum nec, bibendum dui. Etiam liberotellus, rhoncus fermentum lorem vel, tempor molestie risus. Cras ornare justo dui, non interdum urnavestibulum ac. Sed volutpat, massa a mattis malesuada, tortor velit eleifend ipsum, vitae facilisis',\n",
       " 'risusdui a ante. Curabitur fringilla magna sit amet pellentesque sodales.',\n",
       " '']"
      ]
     },
     "execution_count": 40,
     "metadata": {},
     "output_type": "execute_result"
    }
   ],
   "source": [
    "pgsplit=pgclean.split('\\n')\n",
    "pgsplit"
   ]
  },
  {
   "cell_type": "code",
   "execution_count": 42,
   "metadata": {},
   "outputs": [
    {
     "data": {
      "text/plain": [
       "[['Lorem', 'Ipsum'],\n",
       " ['\"Neque',\n",
       "  'porro',\n",
       "  'quisquam',\n",
       "  'est',\n",
       "  'qui',\n",
       "  'dolorem',\n",
       "  'ipsum',\n",
       "  'quia',\n",
       "  'dolor',\n",
       "  'sit',\n",
       "  'amet,',\n",
       "  'consectetur,',\n",
       "  'adipisci',\n",
       "  'velit...\"'],\n",
       " ['\"There',\n",
       "  'is',\n",
       "  'no',\n",
       "  'one',\n",
       "  'who',\n",
       "  'loves',\n",
       "  'pain',\n",
       "  'itself,',\n",
       "  'who',\n",
       "  'seeks',\n",
       "  'after',\n",
       "  'it',\n",
       "  'and',\n",
       "  'wants',\n",
       "  'to',\n",
       "  'have',\n",
       "  'it,',\n",
       "  'simply',\n",
       "  'because',\n",
       "  'it',\n",
       "  'is',\n",
       "  'pain...\"'],\n",
       " ['Lorem',\n",
       "  'ipsum',\n",
       "  'dolor',\n",
       "  'sit',\n",
       "  'amet,',\n",
       "  'consectetur',\n",
       "  'adipiscing',\n",
       "  'elit.',\n",
       "  'Vestibulum',\n",
       "  'vitae',\n",
       "  'conval'],\n",
       " ['lis',\n",
       "  'mauris.',\n",
       "  'Proin',\n",
       "  'utturpis',\n",
       "  'id',\n",
       "  'turpis',\n",
       "  'molestie',\n",
       "  'mattis.',\n",
       "  'Praesent',\n",
       "  'vitae',\n",
       "  'libero',\n",
       "  'eu',\n",
       "  'ex',\n",
       "  'dictum',\n",
       "  'venenatis.',\n",
       "  'Aliquam',\n",
       "  'dui',\n",
       "  'neque,suscipit',\n",
       "  'eget',\n",
       "  'ligula',\n",
       "  'ac,',\n",
       "  'cursus',\n",
       "  'euismod',\n",
       "  'enim.',\n",
       "  'In',\n",
       "  'gravida',\n",
       "  'vitae',\n",
       "  'risus',\n",
       "  'quis',\n",
       "  'pulvinar.',\n",
       "  'Cras',\n",
       "  'auctor',\n",
       "  'auguelorem,',\n",
       "  'sed',\n",
       "  'fermentum',\n",
       "  'mauris',\n",
       "  'iaculi'],\n",
       " ['s',\n",
       "  'sed.',\n",
       "  'Pellentesque',\n",
       "  'sit',\n",
       "  'amet',\n",
       "  'odio',\n",
       "  'ut',\n",
       "  'urna',\n",
       "  'pulvinar',\n",
       "  'sollicitudin.',\n",
       "  'Duistincidunt',\n",
       "  'leo',\n",
       "  'vehicula',\n",
       "  'diam',\n",
       "  'efficitur',\n",
       "  'feugiat.',\n",
       "  'Aenean',\n",
       "  'at',\n",
       "  'scelerisque',\n",
       "  'dolor.',\n",
       "  'Pellentesque',\n",
       "  'malesuadalibero',\n",
       "  'nibh.',\n",
       "  'Phasellus',\n",
       "  'id',\n",
       "  'dignissim',\n",
       "  'nisl.',\n",
       "  'Sed',\n",
       "  'egestas',\n",
       "  'in',\n",
       "  'lorem',\n",
       "  'ut',\n",
       "  'sagittis.',\n",
       "  'Nulla',\n",
       "  'ut',\n",
       "  'di'],\n",
       " ['am',\n",
       "  'sed',\n",
       "  'metusvestibulum',\n",
       "  'posuere.',\n",
       "  'Maecenas',\n",
       "  'tincidunt',\n",
       "  'eros',\n",
       "  'vitae',\n",
       "  'lorem',\n",
       "  'ornare',\n",
       "  'rhoncus.',\n",
       "  'Aliquam',\n",
       "  'laoreetpellentesque',\n",
       "  'velit,',\n",
       "  'ut',\n",
       "  'varius',\n",
       "  'sem',\n",
       "  'accumsan',\n",
       "  'non.',\n",
       "  'Mauris',\n",
       "  'at',\n",
       "  'mollis',\n",
       "  'sapien.'],\n",
       " ['Vivamus',\n",
       "  'ut',\n",
       "  'tortor',\n",
       "  'quis',\n",
       "  'massa',\n",
       "  'varius',\n",
       "  'ultrices.',\n",
       "  'Fusce',\n",
       "  'volutpat',\n",
       "  'dignissim',\n",
       "  'metus,',\n",
       "  'neccongue',\n",
       "  'purusdignissim',\n",
       "  'ut.',\n",
       "  'Proin',\n",
       "  'id',\n",
       "  'sapien',\n",
       "  'diam.',\n",
       "  'Fusce',\n",
       "  'in',\n",
       "  'molestie',\n",
       "  'purus,',\n",
       "  'ut',\n",
       "  'dapibus',\n",
       "  'odio.',\n",
       "  'Aenean',\n",
       "  'euismod',\n",
       "  'miligula,',\n",
       "  'at',\n",
       "  'faucibus',\n",
       "  'dolor',\n",
       "  'rutrum',\n",
       "  'nec.',\n",
       "  'Nunc',\n",
       "  'pulvinar',\n",
       "  'magna',\n",
       "  'ut',\n",
       "  'ante',\n",
       "  'tempus',\n",
       "  'vulputate.',\n",
       "  'Quisque',\n",
       "  'id',\n",
       "  'metusnibh.',\n",
       "  'Quisque',\n",
       "  'ut',\n",
       "  'nunc',\n",
       "  'ut',\n",
       "  'sem',\n",
       "  'ultricies',\n",
       "  'commodo'],\n",
       " ['.',\n",
       "  'Aliquam',\n",
       "  'a',\n",
       "  'venenatis',\n",
       "  'est.',\n",
       "  'Fusce',\n",
       "  'tempus,',\n",
       "  'lacusrhoncus',\n",
       "  'consequat',\n",
       "  'bibendum,',\n",
       "  'ipsum',\n",
       "  'diam',\n",
       "  'pulvinar',\n",
       "  'nisi,',\n",
       "  'ac',\n",
       "  'hendrerit',\n",
       "  'tortor',\n",
       "  'mauris',\n",
       "  'non',\n",
       "  'turpis.',\n",
       "  'Proinrhoncus',\n",
       "  'bibendum',\n",
       "  'vestibulum.',\n",
       "  'Aenean',\n",
       "  'euismod',\n",
       "  'hendrerit',\n",
       "  'neque,',\n",
       "  'vitae',\n",
       "  'sollicitudin',\n",
       "  'nisl.',\n",
       "  'Nullam',\n",
       "  'justoenim,',\n",
       "  'scele'],\n",
       " ['risque', 'vitae', 'magna', 'quis,', 'consectetur', 'ornare', 'lacus.'],\n",
       " ['Praesent',\n",
       "  'convallis',\n",
       "  'nunc',\n",
       "  'volutpat,',\n",
       "  'finibus',\n",
       "  'elit',\n",
       "  'ac,',\n",
       "  'venenatis',\n",
       "  'ante.',\n",
       "  'Suspendisse',\n",
       "  'aliquet',\n",
       "  'urna',\n",
       "  'eget',\n",
       "  'orcidapibus',\n",
       "  'bibendum.',\n",
       "  'Fusce',\n",
       "  'maximus',\n",
       "  'fringilla',\n",
       "  'est,',\n",
       "  'nec',\n",
       "  'ullamcorper',\n",
       "  'elit',\n",
       "  'sodales',\n",
       "  'sit',\n",
       "  'amet.',\n",
       "  'Duis',\n",
       "  'tempor',\n",
       "  'inli'],\n",
       " ['bero',\n",
       "  'faucibus',\n",
       "  'porta.',\n",
       "  'Praesent',\n",
       "  'a',\n",
       "  'vulputate',\n",
       "  'tellus,',\n",
       "  'vitae',\n",
       "  'luctus',\n",
       "  'ante.',\n",
       "  'Ut',\n",
       "  'id',\n",
       "  'purus',\n",
       "  'id',\n",
       "  'odio',\n",
       "  'imperdieteleifend.',\n",
       "  'Pellentesque',\n",
       "  'nibh',\n",
       "  'ipsum,',\n",
       "  'efficitur',\n",
       "  'sit',\n",
       "  'amet',\n",
       "  'ex',\n",
       "  'sit',\n",
       "  'amet,',\n",
       "  'congue',\n",
       "  'aliquam',\n",
       "  'arcu.',\n",
       "  'Pellentesquehabitant',\n",
       "  'morbi',\n",
       "  'tristique',\n",
       "  'senectus',\n",
       "  'et',\n",
       "  'netus',\n",
       "  'et',\n",
       "  'malesuadafames',\n",
       "  'ac',\n",
       "  'turpis',\n",
       "  'egestas.',\n",
       "  'Sed',\n",
       "  'ultriciesconsequat',\n",
       "  'odio',\n",
       "  'vitae',\n",
       "  'ultricies.',\n",
       "  'Praesent',\n",
       "  'velit',\n",
       "  'turpis,',\n",
       "  'convallis',\n",
       "  'non',\n",
       "  'varius',\n",
       "  'in,',\n",
       "  'feugiat',\n",
       "  'at',\n",
       "  'sem.',\n",
       "  'Integerporttitor',\n",
       "  'venenatis',\n",
       "  'ligula,',\n",
       "  'eu',\n",
       "  'mollis',\n",
       "  'sem',\n",
       "  'blandit',\n",
       "  'at.',\n",
       "  'Nullam',\n",
       "  'pulvinar',\n",
       "  'vehicula',\n",
       "  'diam',\n",
       "  'id',\n",
       "  'maximus.',\n",
       "  'Nullainterdum',\n",
       "  'bl'],\n",
       " ['andit',\n",
       "  'tincidunt.',\n",
       "  'Cras',\n",
       "  'finibus',\n",
       "  'semper',\n",
       "  'neque.',\n",
       "  'Duis',\n",
       "  'placerat',\n",
       "  'ex',\n",
       "  'augue.',\n",
       "  'Donec',\n",
       "  'malesuadavenenatis',\n",
       "  'ultrices.'],\n",
       " ['Vestibulum',\n",
       "  'malesuada',\n",
       "  'at',\n",
       "  'nisl',\n",
       "  'non',\n",
       "  'porta.',\n",
       "  'Vivamus',\n",
       "  'eu',\n",
       "  'mi',\n",
       "  'sapien.',\n",
       "  'Praesent',\n",
       "  'eu',\n",
       "  'tortor',\n",
       "  'quis',\n",
       "  'odio',\n",
       "  'mollispulvinar',\n",
       "  'quis',\n",
       "  'blandit',\n",
       "  'nulla.',\n",
       "  'Vestibulum',\n",
       "  'eget',\n",
       "  'elit',\n",
       "  'in',\n",
       "  'v'],\n",
       " ['elit',\n",
       "  'ultricies',\n",
       "  'efficitur',\n",
       "  'nec',\n",
       "  'id',\n",
       "  'eros.',\n",
       "  'Fusce',\n",
       "  'maximussollicitudin',\n",
       "  'lorem,',\n",
       "  'nec',\n",
       "  'sollicitudin',\n",
       "  'enim',\n",
       "  'placerat',\n",
       "  'et.',\n",
       "  'Vestibulum',\n",
       "  'porttitor',\n",
       "  'lectus',\n",
       "  'eu',\n",
       "  'turpis',\n",
       "  'venenatis,',\n",
       "  'nonelementum',\n",
       "  'ipsum',\n",
       "  'elementum.',\n",
       "  'Etiam',\n",
       "  'eget',\n",
       "  'sodales',\n",
       "  'nulla.',\n",
       "  'Morbi',\n",
       "  'ullamcorper',\n",
       "  'magna',\n",
       "  'eu',\n",
       "  'lacinia',\n",
       "  'lobortis'],\n",
       " ['.Aliquam',\n",
       "  'et',\n",
       "  'lacus',\n",
       "  'et',\n",
       "  'orci',\n",
       "  'ornare',\n",
       "  'porta.',\n",
       "  'Nam',\n",
       "  'efficitur',\n",
       "  'felis',\n",
       "  'vel',\n",
       "  'ligula',\n",
       "  'vulputate',\n",
       "  'sollicitudin',\n",
       "  'nec',\n",
       "  'vitae',\n",
       "  'leo.Maecenas',\n",
       "  'at',\n",
       "  'venenatis',\n",
       "  'justo.',\n",
       "  'Sed',\n",
       "  'gravida',\n",
       "  'auctor',\n",
       "  'dolor,',\n",
       "  'a',\n",
       "  'ultricies',\n",
       "  'purus',\n",
       "  'rutrum',\n",
       "  'fermentum.',\n",
       "  'Phasellusmattis,',\n",
       "  'dolor',\n",
       "  'quis',\n",
       "  'venenatis',\n",
       "  'aliquet,',\n",
       "  'dolor',\n",
       "  'a'],\n",
       " ['ugue',\n",
       "  'euismod',\n",
       "  'lectus,',\n",
       "  'efficitur',\n",
       "  'ornare',\n",
       "  'orci',\n",
       "  'mauris',\n",
       "  'ut',\n",
       "  'justo.Fusce',\n",
       "  'feugiat',\n",
       "  'convallis',\n",
       "  'interdum.',\n",
       "  'Pellentesque',\n",
       "  'varius',\n",
       "  'tempor',\n",
       "  'massa,',\n",
       "  'et',\n",
       "  'efficitur',\n",
       "  'tellus',\n",
       "  'viverra',\n",
       "  'sit',\n",
       "  'amet.'],\n",
       " ['Maecenas',\n",
       "  'ut',\n",
       "  'nibh',\n",
       "  'egestas,',\n",
       "  'volutpat',\n",
       "  'tellus',\n",
       "  'nec,',\n",
       "  'placerat',\n",
       "  'ante.',\n",
       "  'Nunc',\n",
       "  'nisi',\n",
       "  'massa,',\n",
       "  'efficitur',\n",
       "  'v'],\n",
       " ['el',\n",
       "  'massa',\n",
       "  'ac,accumsan',\n",
       "  'lobortis',\n",
       "  'sem.',\n",
       "  'Nunc',\n",
       "  'sem',\n",
       "  'sem,',\n",
       "  'laoreet',\n",
       "  'vel',\n",
       "  'vulputate',\n",
       "  'eu,',\n",
       "  'elementum',\n",
       "  'a',\n",
       "  'urna.',\n",
       "  'Sed',\n",
       "  'eu',\n",
       "  'vulputateligula.',\n",
       "  'In',\n",
       "  'non',\n",
       "  'turpis',\n",
       "  'lorem.',\n",
       "  'Ut',\n",
       "  'viverra,',\n",
       "  'quam',\n",
       "  'ac',\n",
       "  'laoreet',\n",
       "  'semper,',\n",
       "  'felis',\n",
       "  'est',\n",
       "  'interdum',\n",
       "  'tellus,',\n",
       "  'nec',\n",
       "  'dictumjusto',\n",
       "  'tellus',\n",
       "  'nec',\n",
       "  'purus.',\n",
       "  'Vestibulum',\n",
       "  'eu',\n",
       "  'lore'],\n",
       " ['m',\n",
       "  'lacinia,',\n",
       "  'cursus',\n",
       "  'ipsum',\n",
       "  'nec,',\n",
       "  'bibendum',\n",
       "  'dui.',\n",
       "  'Etiam',\n",
       "  'liberotellus,',\n",
       "  'rhoncus',\n",
       "  'fermentum',\n",
       "  'lorem',\n",
       "  'vel,',\n",
       "  'tempor',\n",
       "  'molestie',\n",
       "  'risus.',\n",
       "  'Cras',\n",
       "  'ornare',\n",
       "  'justo',\n",
       "  'dui,',\n",
       "  'non',\n",
       "  'interdum',\n",
       "  'urnavestibulum',\n",
       "  'ac.',\n",
       "  'Sed',\n",
       "  'volutpat,',\n",
       "  'massa',\n",
       "  'a',\n",
       "  'mattis',\n",
       "  'malesuada,',\n",
       "  'tortor',\n",
       "  'velit',\n",
       "  'eleifend',\n",
       "  'ipsum,',\n",
       "  'vitae',\n",
       "  'facilisis'],\n",
       " ['risusdui',\n",
       "  'a',\n",
       "  'ante.',\n",
       "  'Curabitur',\n",
       "  'fringilla',\n",
       "  'magna',\n",
       "  'sit',\n",
       "  'amet',\n",
       "  'pellentesque',\n",
       "  'sodales.'],\n",
       " ['']]"
      ]
     },
     "execution_count": 42,
     "metadata": {},
     "output_type": "execute_result"
    }
   ],
   "source": [
    "pgwords=[el.split(' ') for el in pgsplit]\n",
    "pgwords"
   ]
  },
  {
   "cell_type": "code",
   "execution_count": 44,
   "metadata": {},
   "outputs": [
    {
     "data": {
      "text/plain": [
       "PyPDF2.pdf.PageObject"
      ]
     },
     "execution_count": 44,
     "metadata": {},
     "output_type": "execute_result"
    }
   ],
   "source": [
    "pgx = pdfRead2.getPage(0)\n",
    "type(pgx)"
   ]
  },
  {
   "cell_type": "code",
   "execution_count": null,
   "metadata": {},
   "outputs": [],
   "source": []
  },
  {
   "cell_type": "code",
   "execution_count": 45,
   "metadata": {},
   "outputs": [
    {
     "data": {
      "text/plain": [
       "'Type B\\n5/23/2018\\n0.537576\\n0.761916073\\n0.2428\\n0.651959\\n0.940885\\n0.266715\\n0.976738\\n0.581077\\n0.851407944\\n0.547209\\n0.592641\\n0.692412\\n0.840259\\n0.986428\\n0.17943\\n0.040147806\\n0.161539\\n0.315381\\n0.323619\\n0.615925\\n0.619164\\n0.626212\\n0.966003191\\n0.247731\\n0.111155\\n0.14686\\n0.509161\\n0.530792\\n0.462351\\n0.99489861\\n0.076096\\n0.100996\\n0.869659\\n0.138887\\n0.719662\\n0.212885\\n0.088709222\\n0.735114\\n0.146122\\n0.627283\\n0.243445\\n0.336532\\n0.386968\\n0.163943655\\n0.738034\\n0.713497\\n0.571005\\n0.970099\\n0.115671\\n0.865685\\n0.19476425\\n0.950367\\n0.70152\\n0.721174\\n0.221822\\n0.637236\\n0.862985\\n0.165469929\\n0.369341\\n0.141805\\n0.523338\\n0.186716\\n0.35746\\n0.059681\\n0.329886284\\n0.954792\\n0.798903\\n0.634891\\n0.593193\\n0.911086\\n0.691153\\n0.632893124\\n0.073901\\n0.795882\\n0.182028\\n0.858299\\n0.558841\\n0.922129\\n0.538039108\\n0.255676\\n0.461743\\n0.832241\\n0.292363\\n0.31053\\n0.870273\\n0.737978608\\n0.820586\\n0.297297\\n0.397049\\n0.12539\\n0.90037\\n0.648978\\n0.823060582\\n0.934174\\n0.596784\\n0.091416\\n0.618203\\n0.705638\\n0.886074\\n0.519795457\\n0.057937\\n0.630481\\n0.463953\\n0.366483\\n0.335206\\n0.388004\\n0.808900162\\n0.840377\\n0.456389\\n0.068859\\n0.048271\\n0.472135\\n0.091181\\n0.908859805\\n0.541413\\n0.703835\\n0.740707\\n0.771563\\n0.265035\\n0.560376\\n0.38777729\\n0.918616\\n0.950151\\n0.204865\\n0.003497\\n0.416449\\n0.805034\\n0.757540812\\n0.907072\\n0.120443\\n0.080576\\n0.666874\\n0.649742\\n0.493473\\n0.122778046\\n0.160765\\n0.11124\\n0.73651\\n0.355979\\n0.954272\\n0.468706\\n0.108135698\\n0.275899\\n0.166093\\n0.861037\\n0.77005\\n0.204946\\n0.080479\\n0.262766635\\n0.354789\\n0.21673\\n0.468683\\n0.913792\\n0.534332\\n'"
      ]
     },
     "execution_count": 45,
     "metadata": {},
     "output_type": "execute_result"
    }
   ],
   "source": [
    "pgxtext = pgx.extractText()\n",
    "pgxtext"
   ]
  },
  {
   "cell_type": "code",
   "execution_count": 47,
   "metadata": {},
   "outputs": [
    {
     "data": {
      "text/plain": [
       "['Type B',\n",
       " '5/23/2018',\n",
       " '0.537576',\n",
       " '0.761916073',\n",
       " '0.2428',\n",
       " '0.651959',\n",
       " '0.940885',\n",
       " '0.266715',\n",
       " '0.976738',\n",
       " '0.581077',\n",
       " '0.851407944',\n",
       " '0.547209',\n",
       " '0.592641',\n",
       " '0.692412',\n",
       " '0.840259',\n",
       " '0.986428',\n",
       " '0.17943',\n",
       " '0.040147806',\n",
       " '0.161539',\n",
       " '0.315381',\n",
       " '0.323619',\n",
       " '0.615925',\n",
       " '0.619164',\n",
       " '0.626212',\n",
       " '0.966003191',\n",
       " '0.247731',\n",
       " '0.111155',\n",
       " '0.14686',\n",
       " '0.509161',\n",
       " '0.530792',\n",
       " '0.462351',\n",
       " '0.99489861',\n",
       " '0.076096',\n",
       " '0.100996',\n",
       " '0.869659',\n",
       " '0.138887',\n",
       " '0.719662',\n",
       " '0.212885',\n",
       " '0.088709222',\n",
       " '0.735114',\n",
       " '0.146122',\n",
       " '0.627283',\n",
       " '0.243445',\n",
       " '0.336532',\n",
       " '0.386968',\n",
       " '0.163943655',\n",
       " '0.738034',\n",
       " '0.713497',\n",
       " '0.571005',\n",
       " '0.970099',\n",
       " '0.115671',\n",
       " '0.865685',\n",
       " '0.19476425',\n",
       " '0.950367',\n",
       " '0.70152',\n",
       " '0.721174',\n",
       " '0.221822',\n",
       " '0.637236',\n",
       " '0.862985',\n",
       " '0.165469929',\n",
       " '0.369341',\n",
       " '0.141805',\n",
       " '0.523338',\n",
       " '0.186716',\n",
       " '0.35746',\n",
       " '0.059681',\n",
       " '0.329886284',\n",
       " '0.954792',\n",
       " '0.798903',\n",
       " '0.634891',\n",
       " '0.593193',\n",
       " '0.911086',\n",
       " '0.691153',\n",
       " '0.632893124',\n",
       " '0.073901',\n",
       " '0.795882',\n",
       " '0.182028',\n",
       " '0.858299',\n",
       " '0.558841',\n",
       " '0.922129',\n",
       " '0.538039108',\n",
       " '0.255676',\n",
       " '0.461743',\n",
       " '0.832241',\n",
       " '0.292363',\n",
       " '0.31053',\n",
       " '0.870273',\n",
       " '0.737978608',\n",
       " '0.820586',\n",
       " '0.297297',\n",
       " '0.397049',\n",
       " '0.12539',\n",
       " '0.90037',\n",
       " '0.648978',\n",
       " '0.823060582',\n",
       " '0.934174',\n",
       " '0.596784',\n",
       " '0.091416',\n",
       " '0.618203',\n",
       " '0.705638',\n",
       " '0.886074',\n",
       " '0.519795457',\n",
       " '0.057937',\n",
       " '0.630481',\n",
       " '0.463953',\n",
       " '0.366483',\n",
       " '0.335206',\n",
       " '0.388004',\n",
       " '0.808900162',\n",
       " '0.840377',\n",
       " '0.456389',\n",
       " '0.068859',\n",
       " '0.048271',\n",
       " '0.472135',\n",
       " '0.091181',\n",
       " '0.908859805',\n",
       " '0.541413',\n",
       " '0.703835',\n",
       " '0.740707',\n",
       " '0.771563',\n",
       " '0.265035',\n",
       " '0.560376',\n",
       " '0.38777729',\n",
       " '0.918616',\n",
       " '0.950151',\n",
       " '0.204865',\n",
       " '0.003497',\n",
       " '0.416449',\n",
       " '0.805034',\n",
       " '0.757540812',\n",
       " '0.907072',\n",
       " '0.120443',\n",
       " '0.080576',\n",
       " '0.666874',\n",
       " '0.649742',\n",
       " '0.493473',\n",
       " '0.122778046',\n",
       " '0.160765',\n",
       " '0.11124',\n",
       " '0.73651',\n",
       " '0.355979',\n",
       " '0.954272',\n",
       " '0.468706',\n",
       " '0.108135698',\n",
       " '0.275899',\n",
       " '0.166093',\n",
       " '0.861037',\n",
       " '0.77005',\n",
       " '0.204946',\n",
       " '0.080479',\n",
       " '0.262766635',\n",
       " '0.354789',\n",
       " '0.21673',\n",
       " '0.468683',\n",
       " '0.913792',\n",
       " '0.534332',\n",
       " '']"
      ]
     },
     "execution_count": 47,
     "metadata": {},
     "output_type": "execute_result"
    }
   ],
   "source": [
    "pgxlist=pgxtext.split('\\n')\n",
    "pgxlist"
   ]
  },
  {
   "cell_type": "code",
   "execution_count": 61,
   "metadata": {
    "scrolled": false
   },
   "outputs": [],
   "source": [
    "pgxnums = [str(float(el)) for el in pgxlist[2:] if len(el) > 0] #ignores empty values which messes with float()conversion exception"
   ]
  },
  {
   "cell_type": "code",
   "execution_count": 58,
   "metadata": {},
   "outputs": [
    {
     "data": {
      "text/plain": [
       "[0.537576,\n",
       " 0.761916073,\n",
       " 0.2428,\n",
       " 0.651959,\n",
       " 0.940885,\n",
       " 0.266715,\n",
       " 0.976738,\n",
       " 0.581077,\n",
       " 0.851407944,\n",
       " 0.547209,\n",
       " 0.592641,\n",
       " 0.692412,\n",
       " 0.840259,\n",
       " 0.986428,\n",
       " 0.17943,\n",
       " 0.040147806,\n",
       " 0.161539,\n",
       " 0.315381,\n",
       " 0.323619,\n",
       " 0.615925,\n",
       " 0.619164,\n",
       " 0.626212,\n",
       " 0.966003191,\n",
       " 0.247731,\n",
       " 0.111155,\n",
       " 0.14686,\n",
       " 0.509161,\n",
       " 0.530792,\n",
       " 0.462351,\n",
       " 0.99489861,\n",
       " 0.076096,\n",
       " 0.100996,\n",
       " 0.869659,\n",
       " 0.138887,\n",
       " 0.719662,\n",
       " 0.212885,\n",
       " 0.088709222,\n",
       " 0.735114,\n",
       " 0.146122,\n",
       " 0.627283,\n",
       " 0.243445,\n",
       " 0.336532,\n",
       " 0.386968,\n",
       " 0.163943655,\n",
       " 0.738034,\n",
       " 0.713497,\n",
       " 0.571005,\n",
       " 0.970099,\n",
       " 0.115671,\n",
       " 0.865685,\n",
       " 0.19476425,\n",
       " 0.950367,\n",
       " 0.70152,\n",
       " 0.721174,\n",
       " 0.221822,\n",
       " 0.637236,\n",
       " 0.862985,\n",
       " 0.165469929,\n",
       " 0.369341,\n",
       " 0.141805,\n",
       " 0.523338,\n",
       " 0.186716,\n",
       " 0.35746,\n",
       " 0.059681,\n",
       " 0.329886284,\n",
       " 0.954792,\n",
       " 0.798903,\n",
       " 0.634891,\n",
       " 0.593193,\n",
       " 0.911086,\n",
       " 0.691153,\n",
       " 0.632893124,\n",
       " 0.073901,\n",
       " 0.795882,\n",
       " 0.182028,\n",
       " 0.858299,\n",
       " 0.558841,\n",
       " 0.922129,\n",
       " 0.538039108,\n",
       " 0.255676,\n",
       " 0.461743,\n",
       " 0.832241,\n",
       " 0.292363,\n",
       " 0.31053,\n",
       " 0.870273,\n",
       " 0.737978608,\n",
       " 0.820586,\n",
       " 0.297297,\n",
       " 0.397049,\n",
       " 0.12539,\n",
       " 0.90037,\n",
       " 0.648978,\n",
       " 0.823060582,\n",
       " 0.934174,\n",
       " 0.596784,\n",
       " 0.091416,\n",
       " 0.618203,\n",
       " 0.705638,\n",
       " 0.886074,\n",
       " 0.519795457,\n",
       " 0.057937,\n",
       " 0.630481,\n",
       " 0.463953,\n",
       " 0.366483,\n",
       " 0.335206,\n",
       " 0.388004,\n",
       " 0.808900162,\n",
       " 0.840377,\n",
       " 0.456389,\n",
       " 0.068859,\n",
       " 0.048271,\n",
       " 0.472135,\n",
       " 0.091181,\n",
       " 0.908859805,\n",
       " 0.541413,\n",
       " 0.703835,\n",
       " 0.740707,\n",
       " 0.771563,\n",
       " 0.265035,\n",
       " 0.560376,\n",
       " 0.38777729,\n",
       " 0.918616,\n",
       " 0.950151,\n",
       " 0.204865,\n",
       " 0.003497,\n",
       " 0.416449,\n",
       " 0.805034,\n",
       " 0.757540812,\n",
       " 0.907072,\n",
       " 0.120443,\n",
       " 0.080576,\n",
       " 0.666874,\n",
       " 0.649742,\n",
       " 0.493473,\n",
       " 0.122778046,\n",
       " 0.160765,\n",
       " 0.11124,\n",
       " 0.73651,\n",
       " 0.355979,\n",
       " 0.954272,\n",
       " 0.468706,\n",
       " 0.108135698,\n",
       " 0.275899,\n",
       " 0.166093,\n",
       " 0.861037,\n",
       " 0.77005,\n",
       " 0.204946,\n",
       " 0.080479,\n",
       " 0.262766635,\n",
       " 0.354789,\n",
       " 0.21673,\n",
       " 0.468683,\n",
       " 0.913792,\n",
       " 0.534332]"
      ]
     },
     "execution_count": 58,
     "metadata": {},
     "output_type": "execute_result"
    }
   ],
   "source": [
    "pgxnums=[]\n",
    "for el in pgxlist[2:-1]:\n",
    "    pgxnums.append(float(el))\n",
    "pgxnums"
   ]
  },
  {
   "cell_type": "code",
   "execution_count": 62,
   "metadata": {},
   "outputs": [],
   "source": [
    "inFile.close()"
   ]
  },
  {
   "cell_type": "code",
   "execution_count": 63,
   "metadata": {},
   "outputs": [],
   "source": [
    "infile2.close()"
   ]
  },
  {
   "cell_type": "code",
   "execution_count": 57,
   "metadata": {},
   "outputs": [],
   "source": [
    "# Turns out Reader objects still contain all the info needed even after closing the file"
   ]
  },
  {
   "cell_type": "code",
   "execution_count": 56,
   "metadata": {},
   "outputs": [
    {
     "data": {
      "text/plain": [
       "'Sed laoreet consectetur facilisis. In cursus, turpis eu porta iaculis, quam erat elementum eros, quis \\nmattis ante elit vel ligula. Proin pharetra ac nisi eu convallis. Quisque tellus nisl, viverra a dolor ut, \\ntincidunt congue ligula. In hac habitasse plate\\na dictumst. Cras volutpat nulla a purus consectetur \\nplacerat sit amet non sapien. Morbi laoreet, libero quis tincidunt egestas, est quam commodo metus, \\na mollis erat arcu sed tortor. Nulla condimentum, augue sit amet lacinia feugiat, leo tortor mattis lacu\\ns, \\neget pellentesque nisi lectus a erat. Etiam diam nibh, dapibus nec arcu sed, congue pretium turpis. \\nSed eu pellentesque dui. Nullam facilisis egestas magna ut malesuada. Praesent a risus at elit fringilla \\nlacinia. Quisque elementum, massa et pellentesqu\\ne vestibulum, augue eros consequat velit, ac finibus \\njusto lacus a orci. Duis auctor lectus nec eros luctus pharetra. Proin ut orci odio.\\n \\nDuis id metus eu risus volutpat cursus vitae non mi. Suspendisse sagittis massa nisl, nec interdum \\nerat consectetur a.\\n \\nIn hac habitasse platea dictumst. Quisque euismod sagittis faucibus. Fusce non \\nsagittis ante. Aliquam feugiat vehicula libero, id euismod metus laoreet non. Orci varius natoque \\npenatibus et magnis dis parturient montes, nascetur ridiculus mus. Sed orci ve\\nlit, porta at euismod \\nporttitor, scelerisque quis sem. Phasellus commodo nisl sed tempus pellentesque. Praesent pretium \\ndiam nibh, sed rutrum dolor ultrices vel. Integer id laoreet tortor, et egestas nulla. Phasellus velit dolor, \\nmattis at eros eu, rutrum \\nauctor ligula. Integer commodo luctus nisi nec aliquet. Aenean dictum ipsum \\nsit amet luctus feugiat.\\n \\nMorbi augue quam, lacinia ac felis quis, hendrerit efficitur mi. Nam efficitur, metus eu convallis cursus, \\nnibh neque sagittis nunc, sed dapibus dolor eros\\n \\nvel mauris. Suspendisse placerat lorem lectus, a \\ndignissim turpis porttitor at. Fusce quis mollis sem. In semper pharetra congue. Suspendisse dignissim \\nex et sagittis ultricies. Phasellus convallis ipsum ut nulla tincidunt, sit amet congue enim sollicitud\\nin. \\nAliquam viverra turpis vitae leo lacinia, ac vehicula mi sodales. Quisque lobortis laoreet dui, sed \\ntincidunt libero condimentum tristique. Sed mauris metus, sodales sed maximus a, consequat sit amet \\nturpis.\\n \\nDuis lobortis a sapien vitae efficitur. Sed \\nmagna purus, egestas non vulputate vitae, cursus nec odio. \\nMorbi quis velit porttitor ipsum ullamcorper consectetur non ac magna. Aenean non nisl mi. Nunc at \\nurna at odio vehicula suscipit. Fusce a aliquet magna. Aliquam eleifend mi vel est viverra mollis.\\n \\nInteger at quam elit. Donec tincidunt commodo diam, vel gravida lacus venenatis ac. Integer bibendum \\nnon turpis laoreet commodo.\\n \\nProin tempor purus eu ex cursus tristique. Ut gravida pretium purus in fringilla. Duis nec sem laoreet \\nrisus tempor pellentesq\\nue quis vitae enim. Donec interdum vestibulum sagittis. Quisque efficitur \\nvolutpat eros, quis dapibus leo posuere ut. Aenean tempor auctor nulla non hendrerit. Vestibulum eu \\nornare nisl.\\n \\nSuspendisse posuere tellus gravida, imperdiet purus sit amet, sceleri\\nsque lectus. Suspendisse \\nporttitor placerat fringilla. Orci varius natoque penatibus et magnis dis parturient montes, nascetur \\nridiculus mus. Pellentesque tincidunt porta ante, id congue ante volutpat a. Quisque dictum consequat \\nligula, nec tempor mi effic\\nitur ac. Ut diam diam, laoreet sed erat eget, gravida vulputate sem. Fusce a \\nerat sem. Cras pharetra iaculis neque id ultrices. Sed finibus urna malesuada auctor posuere. Sed \\nnec mi ac arcu tempor convallis. Maecenas accumsan gravida lorem, vel sodales fel\\nis. Aliquam \\nsemper purus neque, et faucibus nisi tincidunt eget. Ut consectetur bibendum condimentum.\\n \\nLorem ipsum dolor sit amet, consectetur adipiscing elit. Nam in hendrerit lectus. Aliquam eu semper \\nleo. Aenean luctus nulla quis ante viverra condimentum\\n. Pellentesque a nulla at turpis commodo \\nullamcorper. Aliquam tempor leo vel eros hendrerit vestibulum. Nam gravida eu elit a volutpat. Ut ac \\nfermentum odio. Cras in pulvinar nisi, sed semper tortor. Donec rhoncus eu elit ut egestas.\\n \\n \\n'"
      ]
     },
     "execution_count": 56,
     "metadata": {},
     "output_type": "execute_result"
    }
   ],
   "source": [
    "pdfRead.getPage(2).extractText()"
   ]
  },
  {
   "cell_type": "code",
   "execution_count": null,
   "metadata": {},
   "outputs": [],
   "source": []
  },
  {
   "cell_type": "markdown",
   "metadata": {},
   "source": [
    "# Sadly above was an ideal case, with simple PDFs\n",
    "## Reality with processing PDFs is often much more complicated !"
   ]
  },
  {
   "cell_type": "markdown",
   "metadata": {},
   "source": [
    "###  We'll process some anonymized court proceeding about non-finance organizations\n",
    "http://www.ptac.gov.lv/sites/default/files/anonimizets_nolemums_338286-11129.pdf"
   ]
  },
  {
   "cell_type": "code",
   "execution_count": null,
   "metadata": {},
   "outputs": [],
   "source": []
  },
  {
   "cell_type": "code",
   "execution_count": 64,
   "metadata": {},
   "outputs": [],
   "source": [
    "import urllib.request\n",
    "import shutil"
   ]
  },
  {
   "cell_type": "code",
   "execution_count": 65,
   "metadata": {},
   "outputs": [],
   "source": [
    "url=\"http://www.ptac.gov.lv/sites/default/files/anonimizets_nolemums_338286-11129.pdf\""
   ]
  },
  {
   "cell_type": "code",
   "execution_count": 11,
   "metadata": {},
   "outputs": [],
   "source": [
    "### We could write the file path and name by hand but let Python handle the directories.."
   ]
  },
  {
   "cell_type": "code",
   "execution_count": 66,
   "metadata": {},
   "outputs": [
    {
     "data": {
      "text/plain": [
       "'/Users/rihardspaze/Documents/Python/GitHub/RCS_Python_10'"
      ]
     },
     "execution_count": 66,
     "metadata": {},
     "output_type": "execute_result"
    }
   ],
   "source": [
    "import os\n",
    " \n",
    "dirpath = os.getcwd()\n",
    "dirpath"
   ]
  },
  {
   "cell_type": "code",
   "execution_count": 67,
   "metadata": {},
   "outputs": [
    {
     "data": {
      "text/plain": [
       "'/Users/rihardspaze/Documents/Python/GitHub/RCS_Python_10/lemums.pdf'"
      ]
     },
     "execution_count": 67,
     "metadata": {},
     "output_type": "execute_result"
    }
   ],
   "source": [
    "save_file=os.path.join(dirpath, \"lemums.pdf\")\n",
    "save_file"
   ]
  },
  {
   "cell_type": "code",
   "execution_count": 68,
   "metadata": {},
   "outputs": [
    {
     "data": {
      "text/plain": [
       "'anonimizets_nolemums_338286-11129.pdf'"
      ]
     },
     "execution_count": 68,
     "metadata": {},
     "output_type": "execute_result"
    }
   ],
   "source": [
    "## TODO Project idea let Python make its own filename from the URL! for example url.split(\"/\")[-1]\n",
    "url.split(\"/\")[-1]"
   ]
  },
  {
   "cell_type": "code",
   "execution_count": 70,
   "metadata": {
    "scrolled": true
   },
   "outputs": [
    {
     "data": {
      "text/plain": [
       "'338286-11129.pdf'"
      ]
     },
     "execution_count": 70,
     "metadata": {},
     "output_type": "execute_result"
    }
   ],
   "source": [
    "url.split(\"/\")[-1].split(\"_\")[2]"
   ]
  },
  {
   "cell_type": "code",
   "execution_count": null,
   "metadata": {},
   "outputs": [],
   "source": []
  },
  {
   "cell_type": "code",
   "execution_count": 73,
   "metadata": {},
   "outputs": [],
   "source": [
    "# Current recommended way of reading a file from url and then saving it immediately and closing the file\n",
    "with urllib.request.urlopen(url) as response, open(save_file, 'wb') as out_file:\n",
    "    shutil.copyfileobj(response, out_file)"
   ]
  },
  {
   "cell_type": "code",
   "execution_count": 75,
   "metadata": {},
   "outputs": [
    {
     "name": "stdout",
     "output_type": "stream",
     "text": [
      "Lorem Ipsum.pdf RandomBook.pdf  combined.pdf    lemums.pdf\r\n"
     ]
    }
   ],
   "source": [
    "! ls *.pdf\n",
    "# MacOS / Linux\n",
    "# ! ls *.pdf "
   ]
  },
  {
   "cell_type": "code",
   "execution_count": null,
   "metadata": {},
   "outputs": [],
   "source": []
  },
  {
   "cell_type": "code",
   "execution_count": 76,
   "metadata": {},
   "outputs": [],
   "source": [
    "with open('lemums.pdf', 'rb') as fin:\n",
    "    pdfRead = PyPDF2.PdfFileReader(fin)\n"
   ]
  },
  {
   "cell_type": "code",
   "execution_count": 77,
   "metadata": {},
   "outputs": [
    {
     "data": {
      "text/plain": [
       "PyPDF2.pdf.PdfFileReader"
      ]
     },
     "execution_count": 77,
     "metadata": {},
     "output_type": "execute_result"
    }
   ],
   "source": [
    "type(pdfRead)"
   ]
  },
  {
   "cell_type": "code",
   "execution_count": 78,
   "metadata": {},
   "outputs": [
    {
     "ename": "PdfReadError",
     "evalue": "File has not been decrypted",
     "output_type": "error",
     "traceback": [
      "\u001b[0;31m---------------------------------------------------------------------------\u001b[0m",
      "\u001b[0;31mValueError\u001b[0m                                Traceback (most recent call last)",
      "\u001b[0;32m~/anaconda3/lib/python3.6/site-packages/PyPDF2/pdf.py\u001b[0m in \u001b[0;36mgetNumPages\u001b[0;34m(self)\u001b[0m\n\u001b[1;32m   1146\u001b[0m                 \u001b[0mself\u001b[0m\u001b[0;34m.\u001b[0m\u001b[0m_override_encryption\u001b[0m \u001b[0;34m=\u001b[0m \u001b[0;32mTrue\u001b[0m\u001b[0;34m\u001b[0m\u001b[0m\n\u001b[0;32m-> 1147\u001b[0;31m                 \u001b[0mself\u001b[0m\u001b[0;34m.\u001b[0m\u001b[0mdecrypt\u001b[0m\u001b[0;34m(\u001b[0m\u001b[0;34m''\u001b[0m\u001b[0;34m)\u001b[0m\u001b[0;34m\u001b[0m\u001b[0m\n\u001b[0m\u001b[1;32m   1148\u001b[0m                 \u001b[0;32mreturn\u001b[0m \u001b[0mself\u001b[0m\u001b[0;34m.\u001b[0m\u001b[0mtrailer\u001b[0m\u001b[0;34m[\u001b[0m\u001b[0;34m\"/Root\"\u001b[0m\u001b[0;34m]\u001b[0m\u001b[0;34m[\u001b[0m\u001b[0;34m\"/Pages\"\u001b[0m\u001b[0;34m]\u001b[0m\u001b[0;34m[\u001b[0m\u001b[0;34m\"/Count\"\u001b[0m\u001b[0;34m]\u001b[0m\u001b[0;34m\u001b[0m\u001b[0m\n",
      "\u001b[0;32m~/anaconda3/lib/python3.6/site-packages/PyPDF2/pdf.py\u001b[0m in \u001b[0;36mdecrypt\u001b[0;34m(self, password)\u001b[0m\n\u001b[1;32m   1986\u001b[0m         \u001b[0;32mtry\u001b[0m\u001b[0;34m:\u001b[0m\u001b[0;34m\u001b[0m\u001b[0m\n\u001b[0;32m-> 1987\u001b[0;31m             \u001b[0;32mreturn\u001b[0m \u001b[0mself\u001b[0m\u001b[0;34m.\u001b[0m\u001b[0m_decrypt\u001b[0m\u001b[0;34m(\u001b[0m\u001b[0mpassword\u001b[0m\u001b[0;34m)\u001b[0m\u001b[0;34m\u001b[0m\u001b[0m\n\u001b[0m\u001b[1;32m   1988\u001b[0m         \u001b[0;32mfinally\u001b[0m\u001b[0;34m:\u001b[0m\u001b[0;34m\u001b[0m\u001b[0m\n",
      "\u001b[0;32m~/anaconda3/lib/python3.6/site-packages/PyPDF2/pdf.py\u001b[0m in \u001b[0;36m_decrypt\u001b[0;34m(self, password)\u001b[0m\n\u001b[1;32m   1991\u001b[0m     \u001b[0;32mdef\u001b[0m \u001b[0m_decrypt\u001b[0m\u001b[0;34m(\u001b[0m\u001b[0mself\u001b[0m\u001b[0;34m,\u001b[0m \u001b[0mpassword\u001b[0m\u001b[0;34m)\u001b[0m\u001b[0;34m:\u001b[0m\u001b[0;34m\u001b[0m\u001b[0m\n\u001b[0;32m-> 1992\u001b[0;31m         \u001b[0mencrypt\u001b[0m \u001b[0;34m=\u001b[0m \u001b[0mself\u001b[0m\u001b[0;34m.\u001b[0m\u001b[0mtrailer\u001b[0m\u001b[0;34m[\u001b[0m\u001b[0;34m'/Encrypt'\u001b[0m\u001b[0;34m]\u001b[0m\u001b[0;34m.\u001b[0m\u001b[0mgetObject\u001b[0m\u001b[0;34m(\u001b[0m\u001b[0;34m)\u001b[0m\u001b[0;34m\u001b[0m\u001b[0m\n\u001b[0m\u001b[1;32m   1993\u001b[0m         \u001b[0;32mif\u001b[0m \u001b[0mencrypt\u001b[0m\u001b[0;34m[\u001b[0m\u001b[0;34m'/Filter'\u001b[0m\u001b[0;34m]\u001b[0m \u001b[0;34m!=\u001b[0m \u001b[0;34m'/Standard'\u001b[0m\u001b[0;34m:\u001b[0m\u001b[0;34m\u001b[0m\u001b[0m\n",
      "\u001b[0;32m~/anaconda3/lib/python3.6/site-packages/PyPDF2/generic.py\u001b[0m in \u001b[0;36m__getitem__\u001b[0;34m(self, key)\u001b[0m\n\u001b[1;32m    515\u001b[0m     \u001b[0;32mdef\u001b[0m \u001b[0m__getitem__\u001b[0m\u001b[0;34m(\u001b[0m\u001b[0mself\u001b[0m\u001b[0;34m,\u001b[0m \u001b[0mkey\u001b[0m\u001b[0;34m)\u001b[0m\u001b[0;34m:\u001b[0m\u001b[0;34m\u001b[0m\u001b[0m\n\u001b[0;32m--> 516\u001b[0;31m         \u001b[0;32mreturn\u001b[0m \u001b[0mdict\u001b[0m\u001b[0;34m.\u001b[0m\u001b[0m__getitem__\u001b[0m\u001b[0;34m(\u001b[0m\u001b[0mself\u001b[0m\u001b[0;34m,\u001b[0m \u001b[0mkey\u001b[0m\u001b[0;34m)\u001b[0m\u001b[0;34m.\u001b[0m\u001b[0mgetObject\u001b[0m\u001b[0;34m(\u001b[0m\u001b[0;34m)\u001b[0m\u001b[0;34m\u001b[0m\u001b[0m\n\u001b[0m\u001b[1;32m    517\u001b[0m \u001b[0;34m\u001b[0m\u001b[0m\n",
      "\u001b[0;32m~/anaconda3/lib/python3.6/site-packages/PyPDF2/generic.py\u001b[0m in \u001b[0;36mgetObject\u001b[0;34m(self)\u001b[0m\n\u001b[1;32m    177\u001b[0m     \u001b[0;32mdef\u001b[0m \u001b[0mgetObject\u001b[0m\u001b[0;34m(\u001b[0m\u001b[0mself\u001b[0m\u001b[0;34m)\u001b[0m\u001b[0;34m:\u001b[0m\u001b[0;34m\u001b[0m\u001b[0m\n\u001b[0;32m--> 178\u001b[0;31m         \u001b[0;32mreturn\u001b[0m \u001b[0mself\u001b[0m\u001b[0;34m.\u001b[0m\u001b[0mpdf\u001b[0m\u001b[0;34m.\u001b[0m\u001b[0mgetObject\u001b[0m\u001b[0;34m(\u001b[0m\u001b[0mself\u001b[0m\u001b[0;34m)\u001b[0m\u001b[0;34m.\u001b[0m\u001b[0mgetObject\u001b[0m\u001b[0;34m(\u001b[0m\u001b[0;34m)\u001b[0m\u001b[0;34m\u001b[0m\u001b[0m\n\u001b[0m\u001b[1;32m    179\u001b[0m \u001b[0;34m\u001b[0m\u001b[0m\n",
      "\u001b[0;32m~/anaconda3/lib/python3.6/site-packages/PyPDF2/pdf.py\u001b[0m in \u001b[0;36mgetObject\u001b[0;34m(self, indirectReference)\u001b[0m\n\u001b[1;32m   1597\u001b[0m             \u001b[0;32mif\u001b[0m \u001b[0mdebug\u001b[0m\u001b[0;34m:\u001b[0m \u001b[0mprint\u001b[0m\u001b[0;34m(\u001b[0m\u001b[0;34m(\u001b[0m\u001b[0;34m\"  Uncompressed Object\"\u001b[0m\u001b[0;34m,\u001b[0m \u001b[0mindirectReference\u001b[0m\u001b[0;34m.\u001b[0m\u001b[0midnum\u001b[0m\u001b[0;34m,\u001b[0m \u001b[0mindirectReference\u001b[0m\u001b[0;34m.\u001b[0m\u001b[0mgeneration\u001b[0m\u001b[0;34m,\u001b[0m \u001b[0;34m\":\"\u001b[0m\u001b[0;34m,\u001b[0m \u001b[0mstart\u001b[0m\u001b[0;34m)\u001b[0m\u001b[0;34m)\u001b[0m\u001b[0;34m\u001b[0m\u001b[0m\n\u001b[0;32m-> 1598\u001b[0;31m             \u001b[0mself\u001b[0m\u001b[0;34m.\u001b[0m\u001b[0mstream\u001b[0m\u001b[0;34m.\u001b[0m\u001b[0mseek\u001b[0m\u001b[0;34m(\u001b[0m\u001b[0mstart\u001b[0m\u001b[0;34m,\u001b[0m \u001b[0;36m0\u001b[0m\u001b[0;34m)\u001b[0m\u001b[0;34m\u001b[0m\u001b[0m\n\u001b[0m\u001b[1;32m   1599\u001b[0m             \u001b[0midnum\u001b[0m\u001b[0;34m,\u001b[0m \u001b[0mgeneration\u001b[0m \u001b[0;34m=\u001b[0m \u001b[0mself\u001b[0m\u001b[0;34m.\u001b[0m\u001b[0mreadObjectHeader\u001b[0m\u001b[0;34m(\u001b[0m\u001b[0mself\u001b[0m\u001b[0;34m.\u001b[0m\u001b[0mstream\u001b[0m\u001b[0;34m)\u001b[0m\u001b[0;34m\u001b[0m\u001b[0m\n",
      "\u001b[0;31mValueError\u001b[0m: seek of closed file",
      "\nDuring handling of the above exception, another exception occurred:\n",
      "\u001b[0;31mPdfReadError\u001b[0m                              Traceback (most recent call last)",
      "\u001b[0;32m<ipython-input-78-faa8c74c08d9>\u001b[0m in \u001b[0;36m<module>\u001b[0;34m()\u001b[0m\n\u001b[0;32m----> 1\u001b[0;31m \u001b[0mpdfRead\u001b[0m\u001b[0;34m.\u001b[0m\u001b[0mnumPages\u001b[0m\u001b[0;34m\u001b[0m\u001b[0m\n\u001b[0m",
      "\u001b[0;32m~/anaconda3/lib/python3.6/site-packages/PyPDF2/pdf.py\u001b[0m in \u001b[0;36m<lambda>\u001b[0;34m(self)\u001b[0m\n\u001b[1;32m   1156\u001b[0m             \u001b[0;32mreturn\u001b[0m \u001b[0mlen\u001b[0m\u001b[0;34m(\u001b[0m\u001b[0mself\u001b[0m\u001b[0;34m.\u001b[0m\u001b[0mflattenedPages\u001b[0m\u001b[0;34m)\u001b[0m\u001b[0;34m\u001b[0m\u001b[0m\n\u001b[1;32m   1157\u001b[0m \u001b[0;34m\u001b[0m\u001b[0m\n\u001b[0;32m-> 1158\u001b[0;31m     \u001b[0mnumPages\u001b[0m \u001b[0;34m=\u001b[0m \u001b[0mproperty\u001b[0m\u001b[0;34m(\u001b[0m\u001b[0;32mlambda\u001b[0m \u001b[0mself\u001b[0m\u001b[0;34m:\u001b[0m \u001b[0mself\u001b[0m\u001b[0;34m.\u001b[0m\u001b[0mgetNumPages\u001b[0m\u001b[0;34m(\u001b[0m\u001b[0;34m)\u001b[0m\u001b[0;34m,\u001b[0m \u001b[0;32mNone\u001b[0m\u001b[0;34m,\u001b[0m \u001b[0;32mNone\u001b[0m\u001b[0;34m)\u001b[0m\u001b[0;34m\u001b[0m\u001b[0m\n\u001b[0m\u001b[1;32m   1159\u001b[0m     \"\"\"\n\u001b[1;32m   1160\u001b[0m     \u001b[0mRead\u001b[0m\u001b[0;34m-\u001b[0m\u001b[0monly\u001b[0m \u001b[0mproperty\u001b[0m \u001b[0mthat\u001b[0m \u001b[0maccesses\u001b[0m \u001b[0mthe\u001b[0m\u001b[0;34m\u001b[0m\u001b[0m\n",
      "\u001b[0;32m~/anaconda3/lib/python3.6/site-packages/PyPDF2/pdf.py\u001b[0m in \u001b[0;36mgetNumPages\u001b[0;34m(self)\u001b[0m\n\u001b[1;32m   1148\u001b[0m                 \u001b[0;32mreturn\u001b[0m \u001b[0mself\u001b[0m\u001b[0;34m.\u001b[0m\u001b[0mtrailer\u001b[0m\u001b[0;34m[\u001b[0m\u001b[0;34m\"/Root\"\u001b[0m\u001b[0;34m]\u001b[0m\u001b[0;34m[\u001b[0m\u001b[0;34m\"/Pages\"\u001b[0m\u001b[0;34m]\u001b[0m\u001b[0;34m[\u001b[0m\u001b[0;34m\"/Count\"\u001b[0m\u001b[0;34m]\u001b[0m\u001b[0;34m\u001b[0m\u001b[0m\n\u001b[1;32m   1149\u001b[0m             \u001b[0;32mexcept\u001b[0m\u001b[0;34m:\u001b[0m\u001b[0;34m\u001b[0m\u001b[0m\n\u001b[0;32m-> 1150\u001b[0;31m                 \u001b[0;32mraise\u001b[0m \u001b[0mutils\u001b[0m\u001b[0;34m.\u001b[0m\u001b[0mPdfReadError\u001b[0m\u001b[0;34m(\u001b[0m\u001b[0;34m\"File has not been decrypted\"\u001b[0m\u001b[0;34m)\u001b[0m\u001b[0;34m\u001b[0m\u001b[0m\n\u001b[0m\u001b[1;32m   1151\u001b[0m             \u001b[0;32mfinally\u001b[0m\u001b[0;34m:\u001b[0m\u001b[0;34m\u001b[0m\u001b[0m\n\u001b[1;32m   1152\u001b[0m                 \u001b[0mself\u001b[0m\u001b[0;34m.\u001b[0m\u001b[0m_override_encryption\u001b[0m \u001b[0;34m=\u001b[0m \u001b[0;32mFalse\u001b[0m\u001b[0;34m\u001b[0m\u001b[0m\n",
      "\u001b[0;31mPdfReadError\u001b[0m: File has not been decrypted"
     ]
    }
   ],
   "source": [
    "pdfRead.numPages"
   ]
  },
  {
   "cell_type": "code",
   "execution_count": 80,
   "metadata": {},
   "outputs": [
    {
     "data": {
      "text/plain": [
       "True"
      ]
     },
     "execution_count": 80,
     "metadata": {},
     "output_type": "execute_result"
    }
   ],
   "source": [
    "pdfRead.isEncrypted"
   ]
  },
  {
   "cell_type": "code",
   "execution_count": 28,
   "metadata": {},
   "outputs": [],
   "source": [
    "## Small wonder, this was a court file, so encryption must have been appropriate, "
   ]
  },
  {
   "cell_type": "code",
   "execution_count": 81,
   "metadata": {},
   "outputs": [],
   "source": [
    "fin=open('lemums.pdf','rb')\n",
    "pdfRead=PyPDF2.PdfFileReader(fin)"
   ]
  },
  {
   "cell_type": "code",
   "execution_count": 82,
   "metadata": {},
   "outputs": [
    {
     "data": {
      "text/plain": [
       "1"
      ]
     },
     "execution_count": 82,
     "metadata": {},
     "output_type": "execute_result"
    }
   ],
   "source": [
    "pdfRead.decrypt(\"\")"
   ]
  },
  {
   "cell_type": "code",
   "execution_count": 83,
   "metadata": {
    "scrolled": true
   },
   "outputs": [
    {
     "data": {
      "text/plain": [
       "{'/CreationDate': \"D:20171218084505+02'00'\",\n",
       " '/Creator': 'wkhtmltopdf 0.12.1',\n",
       " '/ModDate': \"D:20180125104058+02'00'\",\n",
       " '/Producer': 'Qt 4.8.6; modified using iTextSharp 5.2.0 (c) 1T3XT BVBA',\n",
       " '/Title': ''}"
      ]
     },
     "execution_count": 83,
     "metadata": {},
     "output_type": "execute_result"
    }
   ],
   "source": [
    "pdfRead.documentInfo"
   ]
  },
  {
   "cell_type": "code",
   "execution_count": 84,
   "metadata": {},
   "outputs": [
    {
     "data": {
      "text/plain": [
       "5"
      ]
     },
     "execution_count": 84,
     "metadata": {},
     "output_type": "execute_result"
    }
   ],
   "source": [
    "pdfRead.numPages"
   ]
  },
  {
   "cell_type": "code",
   "execution_count": 87,
   "metadata": {},
   "outputs": [
    {
     "data": {
      "text/plain": [
       "{'/Annots': [IndirectObject(37, 0)],\n",
       " '/Contents': [IndirectObject(7, 0),\n",
       "  IndirectObject(25, 0),\n",
       "  IndirectObject(8, 0)],\n",
       " '/MediaBox': [0, 0, 595, 842],\n",
       " '/Parent': {'/Count': 5,\n",
       "  '/ITXT': '5.2.0',\n",
       "  '/Kids': [IndirectObject(18, 0),\n",
       "   IndirectObject(19, 0),\n",
       "   IndirectObject(20, 0),\n",
       "   IndirectObject(21, 0),\n",
       "   IndirectObject(22, 0)],\n",
       "  '/ProcSet': ['/PDF', '/Text', '/ImageB', '/ImageC'],\n",
       "  '/Type': '/Pages'},\n",
       " '/Resources': {'/ColorSpace': {'/CSp': '/DeviceRGB',\n",
       "   '/CSpg': '/DeviceGray',\n",
       "   '/PCSp': ['/Pattern', '/DeviceRGB']},\n",
       "  '/ExtGState': {'/GSa': {'/AIS': <PyPDF2.generic.BooleanObject at 0x101e81c18>,\n",
       "    '/CA': 1,\n",
       "    '/SA': <PyPDF2.generic.BooleanObject at 0x101e813c8>,\n",
       "    '/SM': 0.02,\n",
       "    '/SMask': '/None',\n",
       "    '/Type': '/ExtGState',\n",
       "    '/ca': 1}},\n",
       "  '/Font': {'/F10': {'/BaseFont': '/TimesNewRomanItalic',\n",
       "    '/DescendantFonts': [IndirectObject(35, 0)],\n",
       "    '/Encoding': '/Identity-H',\n",
       "    '/Subtype': '/Type0',\n",
       "    '/ToUnicode': {},\n",
       "    '/Type': '/Font'},\n",
       "   '/F6': {'/BaseFont': '/TimesNewRomanRegular',\n",
       "    '/DescendantFonts': [IndirectObject(31, 0)],\n",
       "    '/Encoding': '/Identity-H',\n",
       "    '/Subtype': '/Type0',\n",
       "    '/ToUnicode': {},\n",
       "    '/Type': '/Font'},\n",
       "   '/F9': {'/BaseFont': '/TimesNewRomanBold',\n",
       "    '/DescendantFonts': [IndirectObject(33, 0)],\n",
       "    '/Encoding': '/Identity-H',\n",
       "    '/Subtype': '/Type0',\n",
       "    '/ToUnicode': {},\n",
       "    '/Type': '/Font'},\n",
       "   '/Xi0': {'/BaseFont': '/RYGWGI+ArialMT',\n",
       "    '/DescendantFonts': [IndirectObject(4, 0)],\n",
       "    '/Encoding': '/Identity-H',\n",
       "    '/Subtype': '/Type0',\n",
       "    '/ToUnicode': {'/Filter': '/FlateDecode'},\n",
       "    '/Type': '/Font'}},\n",
       "  '/Pattern': {},\n",
       "  '/ProcSet': ['/PDF', '/Text', '/ImageB', '/ImageC', '/ImageI'],\n",
       "  '/XObject': {'/Im7': {'/BitsPerComponent': 8,\n",
       "    '/ColorSpace': '/DeviceRGB',\n",
       "    '/Filter': '/DCTDecode',\n",
       "    '/Height': 315,\n",
       "    '/Subtype': '/Image',\n",
       "    '/Type': '/XObject',\n",
       "    '/Width': 400}}},\n",
       " '/Type': '/Page'}"
      ]
     },
     "execution_count": 87,
     "metadata": {},
     "output_type": "execute_result"
    }
   ],
   "source": [
    "lpg=pdfRead.getPage(0)\n",
    "lpg"
   ]
  },
  {
   "cell_type": "code",
   "execution_count": 89,
   "metadata": {},
   "outputs": [
    {
     "data": {
      "text/plain": [
       "''"
      ]
     },
     "execution_count": 89,
     "metadata": {},
     "output_type": "execute_result"
    }
   ],
   "source": [
    "lpgtext=lpg.extractText()\n",
    "lpgtext"
   ]
  },
  {
   "cell_type": "code",
   "execution_count": 93,
   "metadata": {},
   "outputs": [],
   "source": [
    "lpgind=pdfRead.getPage(1).getContents()"
   ]
  },
  {
   "cell_type": "code",
   "execution_count": 94,
   "metadata": {},
   "outputs": [
    {
     "data": {
      "text/plain": [
       "PyPDF2.generic.IndirectObject"
      ]
     },
     "execution_count": 94,
     "metadata": {},
     "output_type": "execute_result"
    }
   ],
   "source": [
    "type(lpgind)"
   ]
  },
  {
   "cell_type": "code",
   "execution_count": 98,
   "metadata": {},
   "outputs": [
    {
     "ename": "AttributeError",
     "evalue": "'IndirectObject' object has no attribute 'extractText'",
     "output_type": "error",
     "traceback": [
      "\u001b[0;31m---------------------------------------------------------------------------\u001b[0m",
      "\u001b[0;31mAttributeError\u001b[0m                            Traceback (most recent call last)",
      "\u001b[0;32m<ipython-input-98-1f2182b2aaaf>\u001b[0m in \u001b[0;36m<module>\u001b[0;34m()\u001b[0m\n\u001b[0;32m----> 1\u001b[0;31m \u001b[0mlpgind\u001b[0m\u001b[0;34m.\u001b[0m\u001b[0mextractText\u001b[0m\u001b[0;34m(\u001b[0m\u001b[0;34m)\u001b[0m\u001b[0;34m\u001b[0m\u001b[0m\n\u001b[0m",
      "\u001b[0;31mAttributeError\u001b[0m: 'IndirectObject' object has no attribute 'extractText'"
     ]
    }
   ],
   "source": [
    "text=pdfRad.getContents().getData(0)"
   ]
  },
  {
   "cell_type": "code",
   "execution_count": 99,
   "metadata": {},
   "outputs": [
    {
     "data": {
      "text/plain": [
       "'https://afi.gov.lv/files/gramatojumu_shemas_dme_programmas_darijumu_uzskaitei_gramatvediba_5_07_2017.pdf'"
      ]
     },
     "execution_count": 99,
     "metadata": {},
     "output_type": "execute_result"
    }
   ],
   "source": [
    "# Let's try a differnt file from gov.lv Altum financing proposoal\n",
    "# https://afi.gov.lv/files/gramatojumu_shemas_dme_programmas_darijumu_uzskaitei_gramatvediba_5_07_2017.pdf\n",
    "url = \"https://afi.gov.lv/files/gramatojumu_shemas_dme_programmas_darijumu_uzskaitei_gramatvediba_5_07_2017.pdf\"\n",
    "url"
   ]
  },
  {
   "cell_type": "code",
   "execution_count": 100,
   "metadata": {},
   "outputs": [
    {
     "data": {
      "text/plain": [
       "'/Users/rihardspaze/Documents/Python/GitHub/RCS_Python_10/altum.pdf'"
      ]
     },
     "execution_count": 100,
     "metadata": {},
     "output_type": "execute_result"
    }
   ],
   "source": [
    "save_file=os.path.join(dirpath, \"altum.pdf\")\n",
    "save_file"
   ]
  },
  {
   "cell_type": "code",
   "execution_count": 101,
   "metadata": {},
   "outputs": [
    {
     "ename": "CertificateError",
     "evalue": "hostname 'afi.gov.lv' doesn't match either of 'www.altum.lv', 'mans.altum.lv', 'altum.lv'",
     "output_type": "error",
     "traceback": [
      "\u001b[0;31m---------------------------------------------------------------------------\u001b[0m",
      "\u001b[0;31mCertificateError\u001b[0m                          Traceback (most recent call last)",
      "\u001b[0;32m<ipython-input-101-affdc22f59bb>\u001b[0m in \u001b[0;36m<module>\u001b[0;34m()\u001b[0m\n\u001b[0;32m----> 1\u001b[0;31m \u001b[0;32mwith\u001b[0m \u001b[0murllib\u001b[0m\u001b[0;34m.\u001b[0m\u001b[0mrequest\u001b[0m\u001b[0;34m.\u001b[0m\u001b[0murlopen\u001b[0m\u001b[0;34m(\u001b[0m\u001b[0murl\u001b[0m\u001b[0;34m)\u001b[0m \u001b[0;32mas\u001b[0m \u001b[0mresponse\u001b[0m\u001b[0;34m,\u001b[0m \u001b[0mopen\u001b[0m\u001b[0;34m(\u001b[0m\u001b[0msave_file\u001b[0m\u001b[0;34m,\u001b[0m \u001b[0;34m'wb'\u001b[0m\u001b[0;34m)\u001b[0m \u001b[0;32mas\u001b[0m \u001b[0mout_file\u001b[0m\u001b[0;34m:\u001b[0m\u001b[0;34m\u001b[0m\u001b[0m\n\u001b[0m\u001b[1;32m      2\u001b[0m     \u001b[0mshutil\u001b[0m\u001b[0;34m.\u001b[0m\u001b[0mcopyfileobj\u001b[0m\u001b[0;34m(\u001b[0m\u001b[0mresponse\u001b[0m\u001b[0;34m,\u001b[0m \u001b[0mout_file\u001b[0m\u001b[0;34m)\u001b[0m\u001b[0;34m\u001b[0m\u001b[0m\n",
      "\u001b[0;32m~/anaconda3/lib/python3.6/urllib/request.py\u001b[0m in \u001b[0;36murlopen\u001b[0;34m(url, data, timeout, cafile, capath, cadefault, context)\u001b[0m\n\u001b[1;32m    221\u001b[0m     \u001b[0;32melse\u001b[0m\u001b[0;34m:\u001b[0m\u001b[0;34m\u001b[0m\u001b[0m\n\u001b[1;32m    222\u001b[0m         \u001b[0mopener\u001b[0m \u001b[0;34m=\u001b[0m \u001b[0m_opener\u001b[0m\u001b[0;34m\u001b[0m\u001b[0m\n\u001b[0;32m--> 223\u001b[0;31m     \u001b[0;32mreturn\u001b[0m \u001b[0mopener\u001b[0m\u001b[0;34m.\u001b[0m\u001b[0mopen\u001b[0m\u001b[0;34m(\u001b[0m\u001b[0murl\u001b[0m\u001b[0;34m,\u001b[0m \u001b[0mdata\u001b[0m\u001b[0;34m,\u001b[0m \u001b[0mtimeout\u001b[0m\u001b[0;34m)\u001b[0m\u001b[0;34m\u001b[0m\u001b[0m\n\u001b[0m\u001b[1;32m    224\u001b[0m \u001b[0;34m\u001b[0m\u001b[0m\n\u001b[1;32m    225\u001b[0m \u001b[0;32mdef\u001b[0m \u001b[0minstall_opener\u001b[0m\u001b[0;34m(\u001b[0m\u001b[0mopener\u001b[0m\u001b[0;34m)\u001b[0m\u001b[0;34m:\u001b[0m\u001b[0;34m\u001b[0m\u001b[0m\n",
      "\u001b[0;32m~/anaconda3/lib/python3.6/urllib/request.py\u001b[0m in \u001b[0;36mopen\u001b[0;34m(self, fullurl, data, timeout)\u001b[0m\n\u001b[1;32m    524\u001b[0m             \u001b[0mreq\u001b[0m \u001b[0;34m=\u001b[0m \u001b[0mmeth\u001b[0m\u001b[0;34m(\u001b[0m\u001b[0mreq\u001b[0m\u001b[0;34m)\u001b[0m\u001b[0;34m\u001b[0m\u001b[0m\n\u001b[1;32m    525\u001b[0m \u001b[0;34m\u001b[0m\u001b[0m\n\u001b[0;32m--> 526\u001b[0;31m         \u001b[0mresponse\u001b[0m \u001b[0;34m=\u001b[0m \u001b[0mself\u001b[0m\u001b[0;34m.\u001b[0m\u001b[0m_open\u001b[0m\u001b[0;34m(\u001b[0m\u001b[0mreq\u001b[0m\u001b[0;34m,\u001b[0m \u001b[0mdata\u001b[0m\u001b[0;34m)\u001b[0m\u001b[0;34m\u001b[0m\u001b[0m\n\u001b[0m\u001b[1;32m    527\u001b[0m \u001b[0;34m\u001b[0m\u001b[0m\n\u001b[1;32m    528\u001b[0m         \u001b[0;31m# post-process response\u001b[0m\u001b[0;34m\u001b[0m\u001b[0;34m\u001b[0m\u001b[0m\n",
      "\u001b[0;32m~/anaconda3/lib/python3.6/urllib/request.py\u001b[0m in \u001b[0;36m_open\u001b[0;34m(self, req, data)\u001b[0m\n\u001b[1;32m    542\u001b[0m         \u001b[0mprotocol\u001b[0m \u001b[0;34m=\u001b[0m \u001b[0mreq\u001b[0m\u001b[0;34m.\u001b[0m\u001b[0mtype\u001b[0m\u001b[0;34m\u001b[0m\u001b[0m\n\u001b[1;32m    543\u001b[0m         result = self._call_chain(self.handle_open, protocol, protocol +\n\u001b[0;32m--> 544\u001b[0;31m                                   '_open', req)\n\u001b[0m\u001b[1;32m    545\u001b[0m         \u001b[0;32mif\u001b[0m \u001b[0mresult\u001b[0m\u001b[0;34m:\u001b[0m\u001b[0;34m\u001b[0m\u001b[0m\n\u001b[1;32m    546\u001b[0m             \u001b[0;32mreturn\u001b[0m \u001b[0mresult\u001b[0m\u001b[0;34m\u001b[0m\u001b[0m\n",
      "\u001b[0;32m~/anaconda3/lib/python3.6/urllib/request.py\u001b[0m in \u001b[0;36m_call_chain\u001b[0;34m(self, chain, kind, meth_name, *args)\u001b[0m\n\u001b[1;32m    502\u001b[0m         \u001b[0;32mfor\u001b[0m \u001b[0mhandler\u001b[0m \u001b[0;32min\u001b[0m \u001b[0mhandlers\u001b[0m\u001b[0;34m:\u001b[0m\u001b[0;34m\u001b[0m\u001b[0m\n\u001b[1;32m    503\u001b[0m             \u001b[0mfunc\u001b[0m \u001b[0;34m=\u001b[0m \u001b[0mgetattr\u001b[0m\u001b[0;34m(\u001b[0m\u001b[0mhandler\u001b[0m\u001b[0;34m,\u001b[0m \u001b[0mmeth_name\u001b[0m\u001b[0;34m)\u001b[0m\u001b[0;34m\u001b[0m\u001b[0m\n\u001b[0;32m--> 504\u001b[0;31m             \u001b[0mresult\u001b[0m \u001b[0;34m=\u001b[0m \u001b[0mfunc\u001b[0m\u001b[0;34m(\u001b[0m\u001b[0;34m*\u001b[0m\u001b[0margs\u001b[0m\u001b[0;34m)\u001b[0m\u001b[0;34m\u001b[0m\u001b[0m\n\u001b[0m\u001b[1;32m    505\u001b[0m             \u001b[0;32mif\u001b[0m \u001b[0mresult\u001b[0m \u001b[0;32mis\u001b[0m \u001b[0;32mnot\u001b[0m \u001b[0;32mNone\u001b[0m\u001b[0;34m:\u001b[0m\u001b[0;34m\u001b[0m\u001b[0m\n\u001b[1;32m    506\u001b[0m                 \u001b[0;32mreturn\u001b[0m \u001b[0mresult\u001b[0m\u001b[0;34m\u001b[0m\u001b[0m\n",
      "\u001b[0;32m~/anaconda3/lib/python3.6/urllib/request.py\u001b[0m in \u001b[0;36mhttps_open\u001b[0;34m(self, req)\u001b[0m\n\u001b[1;32m   1359\u001b[0m         \u001b[0;32mdef\u001b[0m \u001b[0mhttps_open\u001b[0m\u001b[0;34m(\u001b[0m\u001b[0mself\u001b[0m\u001b[0;34m,\u001b[0m \u001b[0mreq\u001b[0m\u001b[0;34m)\u001b[0m\u001b[0;34m:\u001b[0m\u001b[0;34m\u001b[0m\u001b[0m\n\u001b[1;32m   1360\u001b[0m             return self.do_open(http.client.HTTPSConnection, req,\n\u001b[0;32m-> 1361\u001b[0;31m                 context=self._context, check_hostname=self._check_hostname)\n\u001b[0m\u001b[1;32m   1362\u001b[0m \u001b[0;34m\u001b[0m\u001b[0m\n\u001b[1;32m   1363\u001b[0m         \u001b[0mhttps_request\u001b[0m \u001b[0;34m=\u001b[0m \u001b[0mAbstractHTTPHandler\u001b[0m\u001b[0;34m.\u001b[0m\u001b[0mdo_request_\u001b[0m\u001b[0;34m\u001b[0m\u001b[0m\n",
      "\u001b[0;32m~/anaconda3/lib/python3.6/urllib/request.py\u001b[0m in \u001b[0;36mdo_open\u001b[0;34m(self, http_class, req, **http_conn_args)\u001b[0m\n\u001b[1;32m   1316\u001b[0m             \u001b[0;32mtry\u001b[0m\u001b[0;34m:\u001b[0m\u001b[0;34m\u001b[0m\u001b[0m\n\u001b[1;32m   1317\u001b[0m                 h.request(req.get_method(), req.selector, req.data, headers,\n\u001b[0;32m-> 1318\u001b[0;31m                           encode_chunked=req.has_header('Transfer-encoding'))\n\u001b[0m\u001b[1;32m   1319\u001b[0m             \u001b[0;32mexcept\u001b[0m \u001b[0mOSError\u001b[0m \u001b[0;32mas\u001b[0m \u001b[0merr\u001b[0m\u001b[0;34m:\u001b[0m \u001b[0;31m# timeout error\u001b[0m\u001b[0;34m\u001b[0m\u001b[0m\n\u001b[1;32m   1320\u001b[0m                 \u001b[0;32mraise\u001b[0m \u001b[0mURLError\u001b[0m\u001b[0;34m(\u001b[0m\u001b[0merr\u001b[0m\u001b[0;34m)\u001b[0m\u001b[0;34m\u001b[0m\u001b[0m\n",
      "\u001b[0;32m~/anaconda3/lib/python3.6/http/client.py\u001b[0m in \u001b[0;36mrequest\u001b[0;34m(self, method, url, body, headers, encode_chunked)\u001b[0m\n\u001b[1;32m   1237\u001b[0m                 encode_chunked=False):\n\u001b[1;32m   1238\u001b[0m         \u001b[0;34m\"\"\"Send a complete request to the server.\"\"\"\u001b[0m\u001b[0;34m\u001b[0m\u001b[0m\n\u001b[0;32m-> 1239\u001b[0;31m         \u001b[0mself\u001b[0m\u001b[0;34m.\u001b[0m\u001b[0m_send_request\u001b[0m\u001b[0;34m(\u001b[0m\u001b[0mmethod\u001b[0m\u001b[0;34m,\u001b[0m \u001b[0murl\u001b[0m\u001b[0;34m,\u001b[0m \u001b[0mbody\u001b[0m\u001b[0;34m,\u001b[0m \u001b[0mheaders\u001b[0m\u001b[0;34m,\u001b[0m \u001b[0mencode_chunked\u001b[0m\u001b[0;34m)\u001b[0m\u001b[0;34m\u001b[0m\u001b[0m\n\u001b[0m\u001b[1;32m   1240\u001b[0m \u001b[0;34m\u001b[0m\u001b[0m\n\u001b[1;32m   1241\u001b[0m     \u001b[0;32mdef\u001b[0m \u001b[0m_send_request\u001b[0m\u001b[0;34m(\u001b[0m\u001b[0mself\u001b[0m\u001b[0;34m,\u001b[0m \u001b[0mmethod\u001b[0m\u001b[0;34m,\u001b[0m \u001b[0murl\u001b[0m\u001b[0;34m,\u001b[0m \u001b[0mbody\u001b[0m\u001b[0;34m,\u001b[0m \u001b[0mheaders\u001b[0m\u001b[0;34m,\u001b[0m \u001b[0mencode_chunked\u001b[0m\u001b[0;34m)\u001b[0m\u001b[0;34m:\u001b[0m\u001b[0;34m\u001b[0m\u001b[0m\n",
      "\u001b[0;32m~/anaconda3/lib/python3.6/http/client.py\u001b[0m in \u001b[0;36m_send_request\u001b[0;34m(self, method, url, body, headers, encode_chunked)\u001b[0m\n\u001b[1;32m   1283\u001b[0m             \u001b[0;31m# default charset of iso-8859-1.\u001b[0m\u001b[0;34m\u001b[0m\u001b[0;34m\u001b[0m\u001b[0m\n\u001b[1;32m   1284\u001b[0m             \u001b[0mbody\u001b[0m \u001b[0;34m=\u001b[0m \u001b[0m_encode\u001b[0m\u001b[0;34m(\u001b[0m\u001b[0mbody\u001b[0m\u001b[0;34m,\u001b[0m \u001b[0;34m'body'\u001b[0m\u001b[0;34m)\u001b[0m\u001b[0;34m\u001b[0m\u001b[0m\n\u001b[0;32m-> 1285\u001b[0;31m         \u001b[0mself\u001b[0m\u001b[0;34m.\u001b[0m\u001b[0mendheaders\u001b[0m\u001b[0;34m(\u001b[0m\u001b[0mbody\u001b[0m\u001b[0;34m,\u001b[0m \u001b[0mencode_chunked\u001b[0m\u001b[0;34m=\u001b[0m\u001b[0mencode_chunked\u001b[0m\u001b[0;34m)\u001b[0m\u001b[0;34m\u001b[0m\u001b[0m\n\u001b[0m\u001b[1;32m   1286\u001b[0m \u001b[0;34m\u001b[0m\u001b[0m\n\u001b[1;32m   1287\u001b[0m     \u001b[0;32mdef\u001b[0m \u001b[0mgetresponse\u001b[0m\u001b[0;34m(\u001b[0m\u001b[0mself\u001b[0m\u001b[0;34m)\u001b[0m\u001b[0;34m:\u001b[0m\u001b[0;34m\u001b[0m\u001b[0m\n",
      "\u001b[0;32m~/anaconda3/lib/python3.6/http/client.py\u001b[0m in \u001b[0;36mendheaders\u001b[0;34m(self, message_body, encode_chunked)\u001b[0m\n\u001b[1;32m   1232\u001b[0m         \u001b[0;32melse\u001b[0m\u001b[0;34m:\u001b[0m\u001b[0;34m\u001b[0m\u001b[0m\n\u001b[1;32m   1233\u001b[0m             \u001b[0;32mraise\u001b[0m \u001b[0mCannotSendHeader\u001b[0m\u001b[0;34m(\u001b[0m\u001b[0;34m)\u001b[0m\u001b[0;34m\u001b[0m\u001b[0m\n\u001b[0;32m-> 1234\u001b[0;31m         \u001b[0mself\u001b[0m\u001b[0;34m.\u001b[0m\u001b[0m_send_output\u001b[0m\u001b[0;34m(\u001b[0m\u001b[0mmessage_body\u001b[0m\u001b[0;34m,\u001b[0m \u001b[0mencode_chunked\u001b[0m\u001b[0;34m=\u001b[0m\u001b[0mencode_chunked\u001b[0m\u001b[0;34m)\u001b[0m\u001b[0;34m\u001b[0m\u001b[0m\n\u001b[0m\u001b[1;32m   1235\u001b[0m \u001b[0;34m\u001b[0m\u001b[0m\n\u001b[1;32m   1236\u001b[0m     def request(self, method, url, body=None, headers={}, *,\n",
      "\u001b[0;32m~/anaconda3/lib/python3.6/http/client.py\u001b[0m in \u001b[0;36m_send_output\u001b[0;34m(self, message_body, encode_chunked)\u001b[0m\n\u001b[1;32m   1024\u001b[0m         \u001b[0mmsg\u001b[0m \u001b[0;34m=\u001b[0m \u001b[0;34mb\"\\r\\n\"\u001b[0m\u001b[0;34m.\u001b[0m\u001b[0mjoin\u001b[0m\u001b[0;34m(\u001b[0m\u001b[0mself\u001b[0m\u001b[0;34m.\u001b[0m\u001b[0m_buffer\u001b[0m\u001b[0;34m)\u001b[0m\u001b[0;34m\u001b[0m\u001b[0m\n\u001b[1;32m   1025\u001b[0m         \u001b[0;32mdel\u001b[0m \u001b[0mself\u001b[0m\u001b[0;34m.\u001b[0m\u001b[0m_buffer\u001b[0m\u001b[0;34m[\u001b[0m\u001b[0;34m:\u001b[0m\u001b[0;34m]\u001b[0m\u001b[0;34m\u001b[0m\u001b[0m\n\u001b[0;32m-> 1026\u001b[0;31m         \u001b[0mself\u001b[0m\u001b[0;34m.\u001b[0m\u001b[0msend\u001b[0m\u001b[0;34m(\u001b[0m\u001b[0mmsg\u001b[0m\u001b[0;34m)\u001b[0m\u001b[0;34m\u001b[0m\u001b[0m\n\u001b[0m\u001b[1;32m   1027\u001b[0m \u001b[0;34m\u001b[0m\u001b[0m\n\u001b[1;32m   1028\u001b[0m         \u001b[0;32mif\u001b[0m \u001b[0mmessage_body\u001b[0m \u001b[0;32mis\u001b[0m \u001b[0;32mnot\u001b[0m \u001b[0;32mNone\u001b[0m\u001b[0;34m:\u001b[0m\u001b[0;34m\u001b[0m\u001b[0m\n",
      "\u001b[0;32m~/anaconda3/lib/python3.6/http/client.py\u001b[0m in \u001b[0;36msend\u001b[0;34m(self, data)\u001b[0m\n\u001b[1;32m    962\u001b[0m         \u001b[0;32mif\u001b[0m \u001b[0mself\u001b[0m\u001b[0;34m.\u001b[0m\u001b[0msock\u001b[0m \u001b[0;32mis\u001b[0m \u001b[0;32mNone\u001b[0m\u001b[0;34m:\u001b[0m\u001b[0;34m\u001b[0m\u001b[0m\n\u001b[1;32m    963\u001b[0m             \u001b[0;32mif\u001b[0m \u001b[0mself\u001b[0m\u001b[0;34m.\u001b[0m\u001b[0mauto_open\u001b[0m\u001b[0;34m:\u001b[0m\u001b[0;34m\u001b[0m\u001b[0m\n\u001b[0;32m--> 964\u001b[0;31m                 \u001b[0mself\u001b[0m\u001b[0;34m.\u001b[0m\u001b[0mconnect\u001b[0m\u001b[0;34m(\u001b[0m\u001b[0;34m)\u001b[0m\u001b[0;34m\u001b[0m\u001b[0m\n\u001b[0m\u001b[1;32m    965\u001b[0m             \u001b[0;32melse\u001b[0m\u001b[0;34m:\u001b[0m\u001b[0;34m\u001b[0m\u001b[0m\n\u001b[1;32m    966\u001b[0m                 \u001b[0;32mraise\u001b[0m \u001b[0mNotConnected\u001b[0m\u001b[0;34m(\u001b[0m\u001b[0;34m)\u001b[0m\u001b[0;34m\u001b[0m\u001b[0m\n",
      "\u001b[0;32m~/anaconda3/lib/python3.6/http/client.py\u001b[0m in \u001b[0;36mconnect\u001b[0;34m(self)\u001b[0m\n\u001b[1;32m   1398\u001b[0m \u001b[0;34m\u001b[0m\u001b[0m\n\u001b[1;32m   1399\u001b[0m             self.sock = self._context.wrap_socket(self.sock,\n\u001b[0;32m-> 1400\u001b[0;31m                                                   server_hostname=server_hostname)\n\u001b[0m\u001b[1;32m   1401\u001b[0m             \u001b[0;32mif\u001b[0m \u001b[0;32mnot\u001b[0m \u001b[0mself\u001b[0m\u001b[0;34m.\u001b[0m\u001b[0m_context\u001b[0m\u001b[0;34m.\u001b[0m\u001b[0mcheck_hostname\u001b[0m \u001b[0;32mand\u001b[0m \u001b[0mself\u001b[0m\u001b[0;34m.\u001b[0m\u001b[0m_check_hostname\u001b[0m\u001b[0;34m:\u001b[0m\u001b[0;34m\u001b[0m\u001b[0m\n\u001b[1;32m   1402\u001b[0m                 \u001b[0;32mtry\u001b[0m\u001b[0;34m:\u001b[0m\u001b[0;34m\u001b[0m\u001b[0m\n",
      "\u001b[0;32m~/anaconda3/lib/python3.6/ssl.py\u001b[0m in \u001b[0;36mwrap_socket\u001b[0;34m(self, sock, server_side, do_handshake_on_connect, suppress_ragged_eofs, server_hostname, session)\u001b[0m\n\u001b[1;32m    405\u001b[0m                          \u001b[0msuppress_ragged_eofs\u001b[0m\u001b[0;34m=\u001b[0m\u001b[0msuppress_ragged_eofs\u001b[0m\u001b[0;34m,\u001b[0m\u001b[0;34m\u001b[0m\u001b[0m\n\u001b[1;32m    406\u001b[0m                          \u001b[0mserver_hostname\u001b[0m\u001b[0;34m=\u001b[0m\u001b[0mserver_hostname\u001b[0m\u001b[0;34m,\u001b[0m\u001b[0;34m\u001b[0m\u001b[0m\n\u001b[0;32m--> 407\u001b[0;31m                          _context=self, _session=session)\n\u001b[0m\u001b[1;32m    408\u001b[0m \u001b[0;34m\u001b[0m\u001b[0m\n\u001b[1;32m    409\u001b[0m     def wrap_bio(self, incoming, outgoing, server_side=False,\n",
      "\u001b[0;32m~/anaconda3/lib/python3.6/ssl.py\u001b[0m in \u001b[0;36m__init__\u001b[0;34m(self, sock, keyfile, certfile, server_side, cert_reqs, ssl_version, ca_certs, do_handshake_on_connect, family, type, proto, fileno, suppress_ragged_eofs, npn_protocols, ciphers, server_hostname, _context, _session)\u001b[0m\n\u001b[1;32m    812\u001b[0m                         \u001b[0;31m# non-blocking\u001b[0m\u001b[0;34m\u001b[0m\u001b[0;34m\u001b[0m\u001b[0m\n\u001b[1;32m    813\u001b[0m                         \u001b[0;32mraise\u001b[0m \u001b[0mValueError\u001b[0m\u001b[0;34m(\u001b[0m\u001b[0;34m\"do_handshake_on_connect should not be specified for non-blocking sockets\"\u001b[0m\u001b[0;34m)\u001b[0m\u001b[0;34m\u001b[0m\u001b[0m\n\u001b[0;32m--> 814\u001b[0;31m                     \u001b[0mself\u001b[0m\u001b[0;34m.\u001b[0m\u001b[0mdo_handshake\u001b[0m\u001b[0;34m(\u001b[0m\u001b[0;34m)\u001b[0m\u001b[0;34m\u001b[0m\u001b[0m\n\u001b[0m\u001b[1;32m    815\u001b[0m \u001b[0;34m\u001b[0m\u001b[0m\n\u001b[1;32m    816\u001b[0m             \u001b[0;32mexcept\u001b[0m \u001b[0;34m(\u001b[0m\u001b[0mOSError\u001b[0m\u001b[0;34m,\u001b[0m \u001b[0mValueError\u001b[0m\u001b[0;34m)\u001b[0m\u001b[0;34m:\u001b[0m\u001b[0;34m\u001b[0m\u001b[0m\n",
      "\u001b[0;32m~/anaconda3/lib/python3.6/ssl.py\u001b[0m in \u001b[0;36mdo_handshake\u001b[0;34m(self, block)\u001b[0m\n\u001b[1;32m   1066\u001b[0m             \u001b[0;32mif\u001b[0m \u001b[0mtimeout\u001b[0m \u001b[0;34m==\u001b[0m \u001b[0;36m0.0\u001b[0m \u001b[0;32mand\u001b[0m \u001b[0mblock\u001b[0m\u001b[0;34m:\u001b[0m\u001b[0;34m\u001b[0m\u001b[0m\n\u001b[1;32m   1067\u001b[0m                 \u001b[0mself\u001b[0m\u001b[0;34m.\u001b[0m\u001b[0msettimeout\u001b[0m\u001b[0;34m(\u001b[0m\u001b[0;32mNone\u001b[0m\u001b[0;34m)\u001b[0m\u001b[0;34m\u001b[0m\u001b[0m\n\u001b[0;32m-> 1068\u001b[0;31m             \u001b[0mself\u001b[0m\u001b[0;34m.\u001b[0m\u001b[0m_sslobj\u001b[0m\u001b[0;34m.\u001b[0m\u001b[0mdo_handshake\u001b[0m\u001b[0;34m(\u001b[0m\u001b[0;34m)\u001b[0m\u001b[0;34m\u001b[0m\u001b[0m\n\u001b[0m\u001b[1;32m   1069\u001b[0m         \u001b[0;32mfinally\u001b[0m\u001b[0;34m:\u001b[0m\u001b[0;34m\u001b[0m\u001b[0m\n\u001b[1;32m   1070\u001b[0m             \u001b[0mself\u001b[0m\u001b[0;34m.\u001b[0m\u001b[0msettimeout\u001b[0m\u001b[0;34m(\u001b[0m\u001b[0mtimeout\u001b[0m\u001b[0;34m)\u001b[0m\u001b[0;34m\u001b[0m\u001b[0m\n",
      "\u001b[0;32m~/anaconda3/lib/python3.6/ssl.py\u001b[0m in \u001b[0;36mdo_handshake\u001b[0;34m(self)\u001b[0m\n\u001b[1;32m    692\u001b[0m                 raise ValueError(\"check_hostname needs server_hostname \"\n\u001b[1;32m    693\u001b[0m                                  \"argument\")\n\u001b[0;32m--> 694\u001b[0;31m             \u001b[0mmatch_hostname\u001b[0m\u001b[0;34m(\u001b[0m\u001b[0mself\u001b[0m\u001b[0;34m.\u001b[0m\u001b[0mgetpeercert\u001b[0m\u001b[0;34m(\u001b[0m\u001b[0;34m)\u001b[0m\u001b[0;34m,\u001b[0m \u001b[0mself\u001b[0m\u001b[0;34m.\u001b[0m\u001b[0mserver_hostname\u001b[0m\u001b[0;34m)\u001b[0m\u001b[0;34m\u001b[0m\u001b[0m\n\u001b[0m\u001b[1;32m    695\u001b[0m \u001b[0;34m\u001b[0m\u001b[0m\n\u001b[1;32m    696\u001b[0m     \u001b[0;32mdef\u001b[0m \u001b[0munwrap\u001b[0m\u001b[0;34m(\u001b[0m\u001b[0mself\u001b[0m\u001b[0;34m)\u001b[0m\u001b[0;34m:\u001b[0m\u001b[0;34m\u001b[0m\u001b[0m\n",
      "\u001b[0;32m~/anaconda3/lib/python3.6/ssl.py\u001b[0m in \u001b[0;36mmatch_hostname\u001b[0;34m(cert, hostname)\u001b[0m\n\u001b[1;32m    325\u001b[0m         raise CertificateError(\"hostname %r \"\n\u001b[1;32m    326\u001b[0m             \u001b[0;34m\"doesn't match either of %s\"\u001b[0m\u001b[0;34m\u001b[0m\u001b[0m\n\u001b[0;32m--> 327\u001b[0;31m             % (hostname, ', '.join(map(repr, dnsnames))))\n\u001b[0m\u001b[1;32m    328\u001b[0m     \u001b[0;32melif\u001b[0m \u001b[0mlen\u001b[0m\u001b[0;34m(\u001b[0m\u001b[0mdnsnames\u001b[0m\u001b[0;34m)\u001b[0m \u001b[0;34m==\u001b[0m \u001b[0;36m1\u001b[0m\u001b[0;34m:\u001b[0m\u001b[0;34m\u001b[0m\u001b[0m\n\u001b[1;32m    329\u001b[0m         raise CertificateError(\"hostname %r \"\n",
      "\u001b[0;31mCertificateError\u001b[0m: hostname 'afi.gov.lv' doesn't match either of 'www.altum.lv', 'mans.altum.lv', 'altum.lv'"
     ]
    }
   ],
   "source": [
    "with urllib.request.urlopen(url) as response, open(save_file, 'wb') as out_file:\n",
    "    shutil.copyfileobj(response, out_file)"
   ]
  },
  {
   "cell_type": "code",
   "execution_count": null,
   "metadata": {},
   "outputs": [],
   "source": [
    "# Latvian Gov sure likes to use mismatched certificates...\n",
    "# Quick and Dirty Solution: we tell Python to ignore certificate mismatches. Not recommended when security is most important\n"
   ]
  },
  {
   "cell_type": "code",
   "execution_count": 102,
   "metadata": {},
   "outputs": [],
   "source": [
    "import ssl\n",
    "ssl.match_hostname = lambda cert, hostname: True\n",
    "# We changed ssl host matching function to always return True"
   ]
  },
  {
   "cell_type": "code",
   "execution_count": 103,
   "metadata": {},
   "outputs": [],
   "source": [
    "with urllib.request.urlopen(url) as response, open(save_file, 'wb') as out_file:\n",
    "    shutil.copyfileobj(response, out_file)"
   ]
  },
  {
   "cell_type": "code",
   "execution_count": 107,
   "metadata": {},
   "outputs": [],
   "source": [
    "fin=open('altum.pdf', 'rb')\n",
    "pdfRead = PyPDF2.PdfFileReader(fin)"
   ]
  },
  {
   "cell_type": "code",
   "execution_count": 108,
   "metadata": {},
   "outputs": [
    {
     "data": {
      "text/plain": [
       "False"
      ]
     },
     "execution_count": 108,
     "metadata": {},
     "output_type": "execute_result"
    }
   ],
   "source": [
    "pdfRead.isEncrypted"
   ]
  },
  {
   "cell_type": "code",
   "execution_count": 109,
   "metadata": {},
   "outputs": [
    {
     "data": {
      "text/plain": [
       "7"
      ]
     },
     "execution_count": 109,
     "metadata": {},
     "output_type": "execute_result"
    }
   ],
   "source": [
    "pdfRead.numPages"
   ]
  },
  {
   "cell_type": "code",
   "execution_count": null,
   "metadata": {},
   "outputs": [],
   "source": [
    "## Makes sense we can't seek a closed file, this means PdfFileReader returns a stream type of object(filelike)"
   ]
  },
  {
   "cell_type": "code",
   "execution_count": 110,
   "metadata": {},
   "outputs": [],
   "source": [
    "pdfRead = PyPDF2.PdfFileReader('altum.pdf', 'rb')"
   ]
  },
  {
   "cell_type": "code",
   "execution_count": 45,
   "metadata": {},
   "outputs": [
    {
     "data": {
      "text/plain": [
       "False"
      ]
     },
     "execution_count": 45,
     "metadata": {},
     "output_type": "execute_result"
    }
   ],
   "source": [
    "pdfRead.isEncrypted"
   ]
  },
  {
   "cell_type": "code",
   "execution_count": 46,
   "metadata": {},
   "outputs": [
    {
     "data": {
      "text/plain": [
       "7"
      ]
     },
     "execution_count": 46,
     "metadata": {},
     "output_type": "execute_result"
    }
   ],
   "source": [
    "pdfRead.numPages"
   ]
  },
  {
   "cell_type": "code",
   "execution_count": 111,
   "metadata": {},
   "outputs": [
    {
     "data": {
      "text/plain": [
       "{'/Annots': [IndirectObject(23, 0)],\n",
       " '/Contents': {'/Filter': '/FlateDecode'},\n",
       " '/Group': {'/CS': '/DeviceRGB', '/S': '/Transparency', '/Type': '/Group'},\n",
       " '/MediaBox': [0, 0, 595.32, 841.92],\n",
       " '/Parent': {'/Count': 7,\n",
       "  '/Kids': [IndirectObject(3, 0),\n",
       "   IndirectObject(25, 0),\n",
       "   IndirectObject(38, 0),\n",
       "   IndirectObject(40, 0),\n",
       "   IndirectObject(42, 0),\n",
       "   IndirectObject(44, 0),\n",
       "   IndirectObject(46, 0)],\n",
       "  '/Type': '/Pages'},\n",
       " '/Resources': {'/ExtGState': {'/GS7': {'/BM': '/Normal',\n",
       "    '/Type': '/ExtGState',\n",
       "    '/ca': 1},\n",
       "   '/GS8': {'/BM': '/Normal', '/CA': 1, '/Type': '/ExtGState'}},\n",
       "  '/Font': {'/F1': {'/BaseFont': '/ABCDEE+Calibri',\n",
       "    '/Encoding': '/WinAnsiEncoding',\n",
       "    '/FirstChar': 32,\n",
       "    '/FontDescriptor': {'/Ascent': 750,\n",
       "     '/AvgWidth': 521,\n",
       "     '/CapHeight': 750,\n",
       "     '/Descent': -250,\n",
       "     '/Flags': 32,\n",
       "     '/FontBBox': [-503, -250, 1240, 750],\n",
       "     '/FontFile2': {'/Filter': '/FlateDecode', '/Length1': 189448},\n",
       "     '/FontName': '/ABCDEE+Calibri',\n",
       "     '/FontWeight': 400,\n",
       "     '/ItalicAngle': 0,\n",
       "     '/MaxWidth': 1743,\n",
       "     '/StemV': 52,\n",
       "     '/Type': '/FontDescriptor',\n",
       "     '/XHeight': 250},\n",
       "    '/LastChar': 55,\n",
       "    '/Name': '/F1',\n",
       "    '/Subtype': '/TrueType',\n",
       "    '/Type': '/Font',\n",
       "    '/Widths': [226,\n",
       "     0,\n",
       "     0,\n",
       "     0,\n",
       "     0,\n",
       "     0,\n",
       "     0,\n",
       "     0,\n",
       "     0,\n",
       "     0,\n",
       "     0,\n",
       "     0,\n",
       "     0,\n",
       "     0,\n",
       "     252,\n",
       "     0,\n",
       "     507,\n",
       "     507,\n",
       "     507,\n",
       "     507,\n",
       "     507,\n",
       "     507,\n",
       "     507,\n",
       "     507]},\n",
       "   '/F2': {'/BaseFont': '/ABCDEE+Arial#20Narrow,Bold',\n",
       "    '/Encoding': '/WinAnsiEncoding',\n",
       "    '/FirstChar': 32,\n",
       "    '/FontDescriptor': {'/Ascent': 936,\n",
       "     '/AvgWidth': 392,\n",
       "     '/CapHeight': 728,\n",
       "     '/Descent': -210,\n",
       "     '/Flags': 32,\n",
       "     '/FontBBox': [-137, -210, 1000, 728],\n",
       "     '/FontFile2': {'/Filter': '/FlateDecode', '/Length1': 102904},\n",
       "     '/FontName': '/ABCDEE+Arial#20Narrow,Bold',\n",
       "     '/FontWeight': 700,\n",
       "     '/ItalicAngle': 0,\n",
       "     '/Leading': 4,\n",
       "     '/MaxWidth': 1137,\n",
       "     '/StemV': 39,\n",
       "     '/Type': '/FontDescriptor',\n",
       "     '/XHeight': 250},\n",
       "    '/LastChar': 118,\n",
       "    '/Name': '/F2',\n",
       "    '/Subtype': '/TrueType',\n",
       "    '/Type': '/Font',\n",
       "    '/Widths': [228,\n",
       "     0,\n",
       "     0,\n",
       "     0,\n",
       "     0,\n",
       "     0,\n",
       "     0,\n",
       "     0,\n",
       "     0,\n",
       "     0,\n",
       "     0,\n",
       "     0,\n",
       "     228,\n",
       "     0,\n",
       "     228,\n",
       "     0,\n",
       "     456,\n",
       "     456,\n",
       "     456,\n",
       "     456,\n",
       "     456,\n",
       "     0,\n",
       "     0,\n",
       "     0,\n",
       "     0,\n",
       "     0,\n",
       "     273,\n",
       "     0,\n",
       "     0,\n",
       "     0,\n",
       "     0,\n",
       "     0,\n",
       "     0,\n",
       "     0,\n",
       "     0,\n",
       "     0,\n",
       "     0,\n",
       "     547,\n",
       "     0,\n",
       "     0,\n",
       "     0,\n",
       "     0,\n",
       "     0,\n",
       "     0,\n",
       "     0,\n",
       "     0,\n",
       "     0,\n",
       "     0,\n",
       "     547,\n",
       "     0,\n",
       "     592,\n",
       "     547,\n",
       "     0,\n",
       "     592,\n",
       "     0,\n",
       "     0,\n",
       "     0,\n",
       "     0,\n",
       "     0,\n",
       "     0,\n",
       "     0,\n",
       "     0,\n",
       "     0,\n",
       "     0,\n",
       "     0,\n",
       "     456,\n",
       "     0,\n",
       "     456,\n",
       "     501,\n",
       "     456,\n",
       "     0,\n",
       "     0,\n",
       "     0,\n",
       "     228,\n",
       "     228,\n",
       "     456,\n",
       "     228,\n",
       "     729,\n",
       "     501,\n",
       "     501,\n",
       "     501,\n",
       "     0,\n",
       "     319,\n",
       "     456,\n",
       "     0,\n",
       "     501,\n",
       "     456]},\n",
       "   '/F3': {'/BaseFont': '/ABCDEE+Arial#20Narrow,Bold',\n",
       "    '/DescendantFonts': [IndirectObject(13, 0)],\n",
       "    '/Encoding': '/Identity-H',\n",
       "    '/Subtype': '/Type0',\n",
       "    '/ToUnicode': {'/Filter': '/FlateDecode'},\n",
       "    '/Type': '/Font'},\n",
       "   '/F4': {'/BaseFont': '/ABCDEE+Arial#20Narrow',\n",
       "    '/DescendantFonts': [IndirectObject(18, 0)],\n",
       "    '/Encoding': '/Identity-H',\n",
       "    '/Subtype': '/Type0',\n",
       "    '/ToUnicode': {'/Filter': '/FlateDecode'},\n",
       "    '/Type': '/Font'},\n",
       "   '/F5': {'/BaseFont': '/ABCDEE+Arial#20Narrow',\n",
       "    '/Encoding': '/WinAnsiEncoding',\n",
       "    '/FirstChar': 32,\n",
       "    '/FontDescriptor': {'/Ascent': 936,\n",
       "     '/AvgWidth': 362,\n",
       "     '/CapHeight': 728,\n",
       "     '/Descent': -210,\n",
       "     '/Flags': 32,\n",
       "     '/FontBBox': [-182, -210, 1000, 728],\n",
       "     '/FontFile2': {'/Filter': '/FlateDecode', '/Length1': 99552},\n",
       "     '/FontName': '/ABCDEE+Arial#20Narrow',\n",
       "     '/FontWeight': 400,\n",
       "     '/ItalicAngle': 0,\n",
       "     '/Leading': 15,\n",
       "     '/MaxWidth': 1182,\n",
       "     '/StemV': 36,\n",
       "     '/Type': '/FontDescriptor',\n",
       "     '/XHeight': 250},\n",
       "    '/LastChar': 122,\n",
       "    '/Name': '/F5',\n",
       "    '/Subtype': '/TrueType',\n",
       "    '/Type': '/Font',\n",
       "    '/Widths': [228,\n",
       "     0,\n",
       "     0,\n",
       "     0,\n",
       "     0,\n",
       "     729,\n",
       "     0,\n",
       "     0,\n",
       "     273,\n",
       "     273,\n",
       "     319,\n",
       "     0,\n",
       "     228,\n",
       "     273,\n",
       "     228,\n",
       "     228,\n",
       "     456,\n",
       "     456,\n",
       "     456,\n",
       "     456,\n",
       "     456,\n",
       "     456,\n",
       "     456,\n",
       "     456,\n",
       "     456,\n",
       "     456,\n",
       "     228,\n",
       "     0,\n",
       "     0,\n",
       "     0,\n",
       "     0,\n",
       "     0,\n",
       "     0,\n",
       "     547,\n",
       "     0,\n",
       "     592,\n",
       "     592,\n",
       "     547,\n",
       "     0,\n",
       "     638,\n",
       "     0,\n",
       "     0,\n",
       "     0,\n",
       "     0,\n",
       "     0,\n",
       "     0,\n",
       "     592,\n",
       "     0,\n",
       "     547,\n",
       "     0,\n",
       "     592,\n",
       "     547,\n",
       "     501,\n",
       "     592,\n",
       "     547,\n",
       "     0,\n",
       "     0,\n",
       "     0,\n",
       "     501,\n",
       "     0,\n",
       "     0,\n",
       "     0,\n",
       "     0,\n",
       "     0,\n",
       "     0,\n",
       "     456,\n",
       "     456,\n",
       "     410,\n",
       "     456,\n",
       "     456,\n",
       "     0,\n",
       "     456,\n",
       "     0,\n",
       "     182,\n",
       "     182,\n",
       "     410,\n",
       "     182,\n",
       "     683,\n",
       "     456,\n",
       "     456,\n",
       "     456,\n",
       "     0,\n",
       "     273,\n",
       "     410,\n",
       "     228,\n",
       "     456,\n",
       "     410,\n",
       "     0,\n",
       "     0,\n",
       "     0,\n",
       "     410]}},\n",
       "  '/ProcSet': ['/PDF', '/Text', '/ImageB', '/ImageC', '/ImageI'],\n",
       "  '/XObject': {'/Image24': {'/BitsPerComponent': 8,\n",
       "    '/ColorSpace': '/DeviceRGB',\n",
       "    '/Filter': '/FlateDecode',\n",
       "    '/Height': 139,\n",
       "    '/Interpolate': <PyPDF2.generic.BooleanObject at 0x10515c8d0>,\n",
       "    '/Subtype': '/Image',\n",
       "    '/Type': '/XObject',\n",
       "    '/Width': 251}}},\n",
       " '/StructParents': 0,\n",
       " '/Tabs': '/S',\n",
       " '/Type': '/Page'}"
      ]
     },
     "execution_count": 111,
     "metadata": {},
     "output_type": "execute_result"
    }
   ],
   "source": [
    "page=pdfRead.getPage(0)\n",
    "page"
   ]
  },
  {
   "cell_type": "code",
   "execution_count": 112,
   "metadata": {},
   "outputs": [
    {
     "data": {
      "text/plain": [
       "' \\n \\n05.07.2017\\n \\n1\\n \\n \\n  \\n \\n\\n\\n \\n\\n\\n\\n \\n\\n\\n\\n. \\n \\nTas sagatav\\n\\n\\n \\n\\ns\\n \\naktu\\ns un \\nto \\n \\n\\nlabo praksi\\n.\\n \\n \\n\\n \\n\\n \\nSumma, EUR\\n \\n\\n, bez PVN\\n*\\n \\n200 000\\n \\nPVN\\n \\n42000\\n \\nAltum grants 4\\n3\\n%\\n \\n(ieskaitot PVN)\\n \\n104\\n \\n060\\n \\n\\n \\n93\\n \\n654\\n \\n\\n \\n\\n \\n10\\n \\n406\\n \\n\\n7%\\n \\n(ieskaitot PVN)\\n \\n137\\n \\n940\\n \\n\\n \\n20 gadi\\n \\n\\n \\n6\\n \\n897\\n \\n\\n \\n575\\n \\n\\n \\n690\\n \\nGada procentu likme\\n \\n6%\\n \\n\\n \\n40\\n \\n\\n**\\n \\n5 000\\n \\n\\nPVN\\n \\n1 050\\n \\n\\nts \\n \\n\\n \\n \\n*\\n\\n\\n\\n\\n \\n\\n\\n,\\n \\n\\nEUR \\n242\\n \\n000\\n \\n\\nEUR \\n200\\n \\n000 un \\nEUR \\n42\\n \\n000 PVN)\\n \\n**\\n\\n \\n \\n\\n \\n\\n\\n \\n\\n \\n\\n\\n\\n \\n(bankas)\\n\\n \\n\\n\\n \\n \\n\\n\\n\\n\\n\\np\\n\\n \\niesniedz \\nmans.altum.lv\\n \\n\\n \\nizmaksai.\\n  \\n \\n \\n'"
      ]
     },
     "execution_count": 112,
     "metadata": {},
     "output_type": "execute_result"
    }
   ],
   "source": [
    "page.extractText()"
   ]
  },
  {
   "cell_type": "code",
   "execution_count": 113,
   "metadata": {},
   "outputs": [],
   "source": [
    "txt=page.extractText()"
   ]
  },
  {
   "cell_type": "code",
   "execution_count": 114,
   "metadata": {},
   "outputs": [
    {
     "data": {
      "text/plain": [
       "'  05.07.2017 1       .  Tas sagatav s aktus un to  labo praksi.    Summa, EUR , bez PVN* 200 000 PVN 42000 Altum grants 43% (ieskaitot PVN) 104 060  93 654   10 406 7% (ieskaitot PVN) 137 940  20 gadi  6 897  575  690 Gada procentu likme 6%  40 ** 5 000 PVN 1 050 ts    * , EUR 242 000 EUR 200 000 un EUR 42 000 PVN) **      (bankas)   p iesniedz mans.altum.lv  izmaksai.    '"
      ]
     },
     "execution_count": 114,
     "metadata": {},
     "output_type": "execute_result"
    }
   ],
   "source": [
    "txt.replace('\\n','')"
   ]
  },
  {
   "cell_type": "code",
   "execution_count": 55,
   "metadata": {},
   "outputs": [],
   "source": [
    "t=txt.strip('\\n')"
   ]
  },
  {
   "cell_type": "code",
   "execution_count": 59,
   "metadata": {},
   "outputs": [
    {
     "data": {
      "text/plain": [
       "'  05.07.2017 4  4.  persona a Pamatojoties  uz o i   DR              2 150              2150  5.  DR % izmaksas P/Z                 14                   14  6.  DR                   12                  14                   26  7.  DR Grants                 9  CR                 9  8.  DR Nolietojuma izmaksas, P/Z                 21                   21   Papildus veicamie : 9.  kontu,   9.1.   DR                 100  DR                   21                  121 9.2.  7grantu no Altum (43%): DR                 100  CR                      3                     54                    43 9.3.  kontu: DR                  21  CR                  21   '"
      ]
     },
     "execution_count": 59,
     "metadata": {},
     "output_type": "execute_result"
    }
   ],
   "source": [
    "t3=pdfRead.getPage(3).extractText().replace('\\n', '')\n",
    "t3"
   ]
  },
  {
   "cell_type": "markdown",
   "metadata": {},
   "source": [
    "## Turns out PyPDF2 is pretty poor text extractor\n",
    "https://github.com/mstamy2/PyPDF2/blob/d7b8d3e0f471530267827511cdffaa2ab48bc1ad/PyPDF2/pdf.py#L2645"
   ]
  },
  {
   "cell_type": "markdown",
   "metadata": {},
   "source": [
    "### Conclusion: PYPDF2 might be good for manipulating PDF pages but not the text inside"
   ]
  },
  {
   "cell_type": "markdown",
   "metadata": {},
   "source": [
    "### Let's try pdftotext instead !"
   ]
  },
  {
   "cell_type": "code",
   "execution_count": 115,
   "metadata": {},
   "outputs": [
    {
     "ename": "ModuleNotFoundError",
     "evalue": "No module named 'pdftotext'",
     "output_type": "error",
     "traceback": [
      "\u001b[0;31m---------------------------------------------------------------------------\u001b[0m",
      "\u001b[0;31mModuleNotFoundError\u001b[0m                       Traceback (most recent call last)",
      "\u001b[0;32m<ipython-input-115-b47658e7d4bc>\u001b[0m in \u001b[0;36m<module>\u001b[0;34m()\u001b[0m\n\u001b[0;32m----> 1\u001b[0;31m \u001b[0;32mimport\u001b[0m \u001b[0mpdftotext\u001b[0m\u001b[0;34m\u001b[0m\u001b[0m\n\u001b[0m",
      "\u001b[0;31mModuleNotFoundError\u001b[0m: No module named 'pdftotext'"
     ]
    }
   ],
   "source": [
    "import pdftotext"
   ]
  },
  {
   "cell_type": "code",
   "execution_count": 116,
   "metadata": {},
   "outputs": [
    {
     "name": "stdout",
     "output_type": "stream",
     "text": [
      "Collecting pdftotext\n",
      "  Downloading https://files.pythonhosted.org/packages/05/7c/67643e2c10e99f1ac27eadfd9a3d4e13b920c2e922906aad87152cdc154d/pdftotext-2.0.2.tar.gz (110kB)\n",
      "\u001b[K    100% |████████████████████████████████| 112kB 1.4MB/s ta 0:00:01\n",
      "\u001b[?25hBuilding wheels for collected packages: pdftotext\n",
      "  Running setup.py bdist_wheel for pdftotext ... \u001b[?25lerror\n",
      "  Complete output from command /Users/rihardspaze/anaconda3/bin/python -u -c \"import setuptools, tokenize;__file__='/private/var/folders/90/8l69xzn13573q7jv426kpzpw0000gn/T/pip-build-3gg6a7j2/pdftotext/setup.py';f=getattr(tokenize, 'open', open)(__file__);code=f.read().replace('\\r\\n', '\\n');f.close();exec(compile(code, __file__, 'exec'))\" bdist_wheel -d /var/folders/90/8l69xzn13573q7jv426kpzpw0000gn/T/tmpw0xhpfjkpip-wheel- --python-tag cp36:\n",
      "  WARNING: pkg-config not found--guessing at poppler version.\n",
      "           If the build fails, install pkg-config and try again.\n",
      "  running bdist_wheel\n",
      "  running build\n",
      "  running build_ext\n",
      "  building 'pdftotext' extension\n",
      "  creating build\n",
      "  creating build/temp.macosx-10.7-x86_64-3.6\n",
      "  gcc -Wno-unused-result -Wsign-compare -Wunreachable-code -DNDEBUG -g -fwrapv -O3 -Wall -Wstrict-prototypes -I/Users/rihardspaze/anaconda3/include -arch x86_64 -I/Users/rihardspaze/anaconda3/include -arch x86_64 -DPOPPLER_CPP_AT_LEAST_0_30_0=1 -I/Users/rihardspaze/anaconda3/include/python3.6m -c pdftotext.cpp -o build/temp.macosx-10.7-x86_64-3.6/pdftotext.o -Wall\n",
      "  xcode-select: note: no developer tools were found at '/Applications/Xcode.app', requesting install. Choose an option in the dialog to download the command line developer tools.\n",
      "  error: command 'gcc' failed with exit status 1\n",
      "  \n",
      "  ----------------------------------------\n",
      "\u001b[31m  Failed building wheel for pdftotext\u001b[0m\n",
      "\u001b[?25h  Running setup.py clean for pdftotext\n",
      "Failed to build pdftotext\n",
      "Installing collected packages: pdftotext\n",
      "  Running setup.py install for pdftotext ... \u001b[?25lerror\n",
      "    Complete output from command /Users/rihardspaze/anaconda3/bin/python -u -c \"import setuptools, tokenize;__file__='/private/var/folders/90/8l69xzn13573q7jv426kpzpw0000gn/T/pip-build-3gg6a7j2/pdftotext/setup.py';f=getattr(tokenize, 'open', open)(__file__);code=f.read().replace('\\r\\n', '\\n');f.close();exec(compile(code, __file__, 'exec'))\" install --record /var/folders/90/8l69xzn13573q7jv426kpzpw0000gn/T/pip-_zyz1d9w-record/install-record.txt --single-version-externally-managed --compile:\n",
      "    WARNING: pkg-config not found--guessing at poppler version.\n",
      "             If the build fails, install pkg-config and try again.\n",
      "    running install\n",
      "    running build\n",
      "    running build_ext\n",
      "    building 'pdftotext' extension\n",
      "    creating build\n",
      "    creating build/temp.macosx-10.7-x86_64-3.6\n",
      "    gcc -Wno-unused-result -Wsign-compare -Wunreachable-code -DNDEBUG -g -fwrapv -O3 -Wall -Wstrict-prototypes -I/Users/rihardspaze/anaconda3/include -arch x86_64 -I/Users/rihardspaze/anaconda3/include -arch x86_64 -DPOPPLER_CPP_AT_LEAST_0_30_0=1 -I/Users/rihardspaze/anaconda3/include/python3.6m -c pdftotext.cpp -o build/temp.macosx-10.7-x86_64-3.6/pdftotext.o -Wall\n",
      "    xcode-select: note: no developer tools were found at '/Applications/Xcode.app', requesting install. Choose an option in the dialog to download the command line developer tools.\n",
      "    error: command 'gcc' failed with exit status 1\n",
      "    \n",
      "    ----------------------------------------\n",
      "\u001b[31mCommand \"/Users/rihardspaze/anaconda3/bin/python -u -c \"import setuptools, tokenize;__file__='/private/var/folders/90/8l69xzn13573q7jv426kpzpw0000gn/T/pip-build-3gg6a7j2/pdftotext/setup.py';f=getattr(tokenize, 'open', open)(__file__);code=f.read().replace('\\r\\n', '\\n');f.close();exec(compile(code, __file__, 'exec'))\" install --record /var/folders/90/8l69xzn13573q7jv426kpzpw0000gn/T/pip-_zyz1d9w-record/install-record.txt --single-version-externally-managed --compile\" failed with error code 1 in /private/var/folders/90/8l69xzn13573q7jv426kpzpw0000gn/T/pip-build-3gg6a7j2/pdftotext/\u001b[0m\n",
      "\u001b[33mYou are using pip version 9.0.1, however version 10.0.1 is available.\n",
      "You should consider upgrading via the 'pip install --upgrade pip' command.\u001b[0m\n",
      "\u001b[?25h"
     ]
    }
   ],
   "source": [
    "! pip install pdftotext"
   ]
  },
  {
   "cell_type": "code",
   "execution_count": 117,
   "metadata": {},
   "outputs": [
    {
     "name": "stdout",
     "output_type": "stream",
     "text": [
      "Collecting pdftotext\n",
      "  Using cached https://files.pythonhosted.org/packages/05/7c/67643e2c10e99f1ac27eadfd9a3d4e13b920c2e922906aad87152cdc154d/pdftotext-2.0.2.tar.gz\n",
      "Building wheels for collected packages: pdftotext\n",
      "  Running setup.py bdist_wheel for pdftotext ... \u001b[?25lerror\n",
      "  Complete output from command /Users/rihardspaze/anaconda3/bin/python -u -c \"import setuptools, tokenize;__file__='/private/var/folders/90/8l69xzn13573q7jv426kpzpw0000gn/T/pip-build-czjzr2e7/pdftotext/setup.py';f=getattr(tokenize, 'open', open)(__file__);code=f.read().replace('\\r\\n', '\\n');f.close();exec(compile(code, __file__, 'exec'))\" bdist_wheel -d /var/folders/90/8l69xzn13573q7jv426kpzpw0000gn/T/tmpnz9ioj7xpip-wheel- --python-tag cp36:\n",
      "  WARNING: pkg-config not found--guessing at poppler version.\n",
      "           If the build fails, install pkg-config and try again.\n",
      "  running bdist_wheel\n",
      "  running build\n",
      "  running build_ext\n",
      "  building 'pdftotext' extension\n",
      "  creating build\n",
      "  creating build/temp.macosx-10.7-x86_64-3.6\n",
      "  gcc -Wno-unused-result -Wsign-compare -Wunreachable-code -DNDEBUG -g -fwrapv -O3 -Wall -Wstrict-prototypes -I/Users/rihardspaze/anaconda3/include -arch x86_64 -I/Users/rihardspaze/anaconda3/include -arch x86_64 -DPOPPLER_CPP_AT_LEAST_0_30_0=1 -I/Users/rihardspaze/anaconda3/include/python3.6m -c pdftotext.cpp -o build/temp.macosx-10.7-x86_64-3.6/pdftotext.o -Wall\n",
      "  xcode-select: note: no developer tools were found at '/Applications/Xcode.app', requesting install. Choose an option in the dialog to download the command line developer tools.\n",
      "  error: command 'gcc' failed with exit status 1\n",
      "  \n",
      "  ----------------------------------------\n",
      "\u001b[31m  Failed building wheel for pdftotext\u001b[0m\n",
      "\u001b[?25h  Running setup.py clean for pdftotext\n",
      "Failed to build pdftotext\n",
      "Installing collected packages: pdftotext\n",
      "  Running setup.py install for pdftotext ... \u001b[?25lerror\n",
      "    Complete output from command /Users/rihardspaze/anaconda3/bin/python -u -c \"import setuptools, tokenize;__file__='/private/var/folders/90/8l69xzn13573q7jv426kpzpw0000gn/T/pip-build-czjzr2e7/pdftotext/setup.py';f=getattr(tokenize, 'open', open)(__file__);code=f.read().replace('\\r\\n', '\\n');f.close();exec(compile(code, __file__, 'exec'))\" install --record /var/folders/90/8l69xzn13573q7jv426kpzpw0000gn/T/pip-swsw1anw-record/install-record.txt --single-version-externally-managed --compile:\n",
      "    WARNING: pkg-config not found--guessing at poppler version.\n",
      "             If the build fails, install pkg-config and try again.\n",
      "    running install\n",
      "    running build\n",
      "    running build_ext\n",
      "    building 'pdftotext' extension\n",
      "    creating build\n",
      "    creating build/temp.macosx-10.7-x86_64-3.6\n",
      "    gcc -Wno-unused-result -Wsign-compare -Wunreachable-code -DNDEBUG -g -fwrapv -O3 -Wall -Wstrict-prototypes -I/Users/rihardspaze/anaconda3/include -arch x86_64 -I/Users/rihardspaze/anaconda3/include -arch x86_64 -DPOPPLER_CPP_AT_LEAST_0_30_0=1 -I/Users/rihardspaze/anaconda3/include/python3.6m -c pdftotext.cpp -o build/temp.macosx-10.7-x86_64-3.6/pdftotext.o -Wall\n",
      "    xcode-select: note: no developer tools were found at '/Applications/Xcode.app', requesting install. Choose an option in the dialog to download the command line developer tools.\n",
      "    error: command 'gcc' failed with exit status 1\n",
      "    \n",
      "    ----------------------------------------\n",
      "\u001b[31mCommand \"/Users/rihardspaze/anaconda3/bin/python -u -c \"import setuptools, tokenize;__file__='/private/var/folders/90/8l69xzn13573q7jv426kpzpw0000gn/T/pip-build-czjzr2e7/pdftotext/setup.py';f=getattr(tokenize, 'open', open)(__file__);code=f.read().replace('\\r\\n', '\\n');f.close();exec(compile(code, __file__, 'exec'))\" install --record /var/folders/90/8l69xzn13573q7jv426kpzpw0000gn/T/pip-swsw1anw-record/install-record.txt --single-version-externally-managed --compile\" failed with error code 1 in /private/var/folders/90/8l69xzn13573q7jv426kpzpw0000gn/T/pip-build-czjzr2e7/pdftotext/\u001b[0m\n",
      "\u001b[33mYou are using pip version 9.0.1, however version 10.0.1 is available.\n",
      "You should consider upgrading via the 'pip install --upgrade pip' command.\u001b[0m\n",
      "\u001b[?25h"
     ]
    }
   ],
   "source": [
    "! pip install pdftotext"
   ]
  },
  {
   "cell_type": "code",
   "execution_count": null,
   "metadata": {},
   "outputs": [],
   "source": [
    "## Alas https://github.com/lpod/lpod-python is one of remaining 2.x packages not upgraded to 3.x"
   ]
  },
  {
   "cell_type": "code",
   "execution_count": 64,
   "metadata": {},
   "outputs": [],
   "source": [
    "## Okay another way is to simply install pdftotext as a standaloneb then use it via OS"
   ]
  },
  {
   "cell_type": "code",
   "execution_count": 118,
   "metadata": {},
   "outputs": [
    {
     "name": "stdout",
     "output_type": "stream",
     "text": [
      "\u001b[31mDEPRECATION: The default format will switch to columns in the future. You can use --format=(legacy|columns) (or define a format=(legacy|columns) in your pip.conf under the [list] section) to disable this warning.\u001b[0m\n",
      "alabaster (0.7.10)\n",
      "anaconda-client (1.6.9)\n",
      "anaconda-navigator (1.7.0)\n",
      "anaconda-project (0.8.2)\n",
      "appnope (0.1.0)\n",
      "appscript (1.0.1)\n",
      "asn1crypto (0.24.0)\n",
      "astroid (1.6.1)\n",
      "astropy (2.0.3)\n",
      "attrs (17.4.0)\n",
      "Babel (2.5.3)\n",
      "backports.shutil-get-terminal-size (1.0.0)\n",
      "beautifulsoup4 (4.6.0)\n",
      "bitarray (0.8.1)\n",
      "bkcharts (0.2)\n",
      "blaze (0.11.3)\n",
      "bleach (2.1.2)\n",
      "bokeh (0.12.13)\n",
      "boto (2.48.0)\n",
      "Bottleneck (1.2.1)\n",
      "certifi (2018.1.18)\n",
      "cffi (1.11.4)\n",
      "chardet (3.0.4)\n",
      "click (6.7)\n",
      "cloudpickle (0.5.2)\n",
      "clyent (1.2.2)\n",
      "colorama (0.3.9)\n",
      "conda (4.4.10)\n",
      "conda-build (3.4.1)\n",
      "conda-verify (2.0.0)\n",
      "contextlib2 (0.5.5)\n",
      "cryptography (2.1.4)\n",
      "cycler (0.10.0)\n",
      "Cython (0.27.3)\n",
      "cytoolz (0.9.0)\n",
      "dask (0.16.1)\n",
      "datashape (0.5.4)\n",
      "decorator (4.2.1)\n",
      "distributed (1.20.2)\n",
      "docutils (0.14)\n",
      "entrypoints (0.2.3)\n",
      "et-xmlfile (1.0.1)\n",
      "fastcache (1.0.2)\n",
      "filelock (2.0.13)\n",
      "Flask (0.12.2)\n",
      "Flask-Cors (3.0.3)\n",
      "gevent (1.2.2)\n",
      "glob2 (0.6)\n",
      "gmpy2 (2.0.8)\n",
      "greenlet (0.4.12)\n",
      "h5py (2.7.1)\n",
      "heapdict (1.0.0)\n",
      "html5lib (1.0.1)\n",
      "idna (2.6)\n",
      "imageio (2.2.0)\n",
      "imagesize (0.7.1)\n",
      "ipykernel (4.8.0)\n",
      "ipython (6.2.1)\n",
      "ipython-genutils (0.2.0)\n",
      "ipywidgets (7.1.1)\n",
      "isort (4.2.15)\n",
      "itsdangerous (0.24)\n",
      "jdcal (1.3)\n",
      "jedi (0.11.1)\n",
      "Jinja2 (2.10)\n",
      "jsonschema (2.6.0)\n",
      "jupyter (1.0.0)\n",
      "jupyter-client (5.2.2)\n",
      "jupyter-console (5.2.0)\n",
      "jupyter-core (4.4.0)\n",
      "jupyterlab (0.31.5)\n",
      "jupyterlab-launcher (0.10.2)\n",
      "lazy-object-proxy (1.3.1)\n",
      "llvmlite (0.21.0)\n",
      "locket (0.2.0)\n",
      "lxml (4.1.1)\n",
      "MarkupSafe (1.0)\n",
      "matplotlib (2.1.2)\n",
      "mccabe (0.6.1)\n",
      "mistune (0.8.3)\n",
      "mpmath (1.0.0)\n",
      "msgpack-python (0.5.1)\n",
      "multipledispatch (0.4.9)\n",
      "navigator-updater (0.1.0)\n",
      "nbconvert (5.3.1)\n",
      "nbformat (4.4.0)\n",
      "networkx (2.1)\n",
      "nltk (3.2.5)\n",
      "nose (1.3.7)\n",
      "notebook (5.4.0)\n",
      "numba (0.36.2)\n",
      "numexpr (2.6.4)\n",
      "numpy (1.14.0)\n",
      "numpydoc (0.7.0)\n",
      "odo (0.5.1)\n",
      "olefile (0.45.1)\n",
      "openpyxl (2.4.10)\n",
      "packaging (16.8)\n",
      "pandas (0.22.0)\n",
      "pandocfilters (1.4.2)\n",
      "parso (0.1.1)\n",
      "partd (0.3.8)\n",
      "path.py (10.5)\n",
      "pathlib2 (2.3.0)\n",
      "patsy (0.5.0)\n",
      "pep8 (1.7.1)\n",
      "pexpect (4.3.1)\n",
      "pickleshare (0.7.4)\n",
      "Pillow (5.0.0)\n",
      "pip (9.0.1)\n",
      "pkginfo (1.4.1)\n",
      "pluggy (0.6.0)\n",
      "ply (3.10)\n",
      "prompt-toolkit (1.0.15)\n",
      "psutil (5.4.3)\n",
      "ptyprocess (0.5.2)\n",
      "py (1.5.2)\n",
      "pycodestyle (2.3.1)\n",
      "pycosat (0.6.3)\n",
      "pycparser (2.18)\n",
      "pycrypto (2.6.1)\n",
      "pycurl (7.43.0.1)\n",
      "pyflakes (1.6.0)\n",
      "Pygments (2.2.0)\n",
      "pylint (1.8.2)\n",
      "pyodbc (4.0.22)\n",
      "pyOpenSSL (17.5.0)\n",
      "pyparsing (2.2.0)\n",
      "PyPDF2 (1.26.0)\n",
      "PySocks (1.6.7)\n",
      "pytest (3.3.2)\n",
      "python-dateutil (2.6.1)\n",
      "pytz (2017.3)\n",
      "PyWavelets (0.5.2)\n",
      "PyYAML (3.12)\n",
      "pyzmq (16.0.3)\n",
      "QtAwesome (0.4.4)\n",
      "qtconsole (4.3.1)\n",
      "QtPy (1.3.1)\n",
      "requests (2.18.4)\n",
      "rope (0.10.7)\n",
      "ruamel-yaml (0.15.35)\n",
      "scikit-image (0.13.1)\n",
      "scikit-learn (0.19.1)\n",
      "scipy (1.0.0)\n",
      "seaborn (0.8.1)\n",
      "selenium (3.12.0)\n",
      "Send2Trash (1.4.2)\n",
      "setuptools (38.4.0)\n",
      "simplegeneric (0.8.1)\n",
      "singledispatch (3.4.0.3)\n",
      "six (1.11.0)\n",
      "snowballstemmer (1.2.1)\n",
      "sortedcollections (0.5.3)\n",
      "sortedcontainers (1.5.9)\n",
      "Sphinx (1.6.6)\n",
      "sphinxcontrib-websupport (1.0.1)\n",
      "spyder (3.2.6)\n",
      "SQLAlchemy (1.2.1)\n",
      "statsmodels (0.8.0)\n",
      "sympy (1.1.1)\n",
      "tables (3.4.2)\n",
      "tblib (1.3.2)\n",
      "terminado (0.8.1)\n",
      "testpath (0.3.1)\n",
      "toolz (0.9.0)\n",
      "tornado (4.5.3)\n",
      "traitlets (4.3.2)\n",
      "typing (3.6.2)\n",
      "unicodecsv (0.14.1)\n",
      "urllib3 (1.22)\n",
      "wcwidth (0.1.7)\n",
      "webencodings (0.5.1)\n",
      "Werkzeug (0.14.1)\n",
      "wheel (0.30.0)\n",
      "widgetsnbextension (3.1.0)\n",
      "wrapt (1.10.11)\n",
      "xlrd (1.1.0)\n",
      "XlsxWriter (1.0.2)\n",
      "xlwings (0.11.5)\n",
      "xlwt (1.2.0)\n",
      "zict (0.1.3)\n",
      "\u001b[33mYou are using pip version 9.0.1, however version 10.0.1 is available.\n",
      "You should consider upgrading via the 'pip install --upgrade pip' command.\u001b[0m\n"
     ]
    }
   ],
   "source": [
    "! pip list\n"
   ]
  },
  {
   "cell_type": "code",
   "execution_count": 119,
   "metadata": {},
   "outputs": [
    {
     "name": "stdout",
     "output_type": "stream",
     "text": [
      "Collecting pdfminer.six\n",
      "  Downloading https://files.pythonhosted.org/packages/a5/4c/dfc462296ff431aa072c952560ee8e43304523b5e7be82e220fae72dc61c/pdfminer.six-20170720.tar.gz (12.0MB)\n",
      "\u001b[K    100% |████████████████████████████████| 12.0MB 109kB/s eta 0:00:01\n",
      "\u001b[?25hRequirement already satisfied: six in /Users/rihardspaze/anaconda3/lib/python3.6/site-packages (from pdfminer.six)\n",
      "Collecting pycryptodome (from pdfminer.six)\n",
      "  Downloading https://files.pythonhosted.org/packages/9c/83/8f8a9e94d3cc495dd49082ac79e366b368cd10c8d25734fbcea59de93e5a/pycryptodome-3.6.1-cp36-cp36m-macosx_10_6_intel.whl (7.2MB)\n",
      "\u001b[K    100% |████████████████████████████████| 7.2MB 176kB/s ta 0:00:011\n",
      "\u001b[?25hRequirement already satisfied: chardet in /Users/rihardspaze/anaconda3/lib/python3.6/site-packages (from pdfminer.six)\n",
      "Building wheels for collected packages: pdfminer.six\n",
      "  Running setup.py bdist_wheel for pdfminer.six ... \u001b[?25ldone\n",
      "\u001b[?25h  Stored in directory: /Users/rihardspaze/Library/Caches/pip/wheels/86/02/3a/b283a32dc7d89b140de8580ec12dff081d84052decb5c9c6c6\n",
      "Successfully built pdfminer.six\n",
      "Installing collected packages: pycryptodome, pdfminer.six\n",
      "Successfully installed pdfminer.six-20170720 pycryptodome-3.6.1\n",
      "\u001b[33mYou are using pip version 9.0.1, however version 10.0.1 is available.\n",
      "You should consider upgrading via the 'pip install --upgrade pip' command.\u001b[0m\n"
     ]
    }
   ],
   "source": [
    "! pip install pdfminer.six"
   ]
  },
  {
   "cell_type": "markdown",
   "metadata": {},
   "source": [
    "### PDF is evil. \n",
    "\n",
    "\n",
    "\n",
    "  Although it is called a PDF \"document\", it's nothing like Word or HTML document. PDF is more like a graphic representation. PDF contents are just a bunch of instructions that tell how to place the stuff at each exact position on a display or paper. In most cases, it has no logical structure such as sentences or paragraphs and it cannot adapt itself when the paper size changes. PDFMiner attempts to reconstruct some of those structures by guessing from its positioning, but there's nothing guaranteed to work. Ugly, I know. Again, PDF is evil.\n",
    "\n",
    "  Because a PDF file has such a big and complex structure, parsing a PDF file as a whole is time and memory consuming. However, not every part is needed for most PDF processing tasks. Therefore PDFMiner takes a strategy of **lazy parsing**, which is to parse the stuff only when it's necessary. \n",
    "  \n",
    "\n",
    "\n",
    "#### From PDFMiner creator  Yusuke Shinyama https://www.unixuser.org/~euske/python/pdfminer/programming.html\n"
   ]
  },
  {
   "cell_type": "markdown",
   "metadata": {},
   "source": [
    "  To parse PDF files, you need to use at least two classes: **PDFParser and PDFDocument**. \n",
    "  \n",
    "  These two objects are associated with each other. PDFParser fetches data from a file, and PDFDocument stores it. You'll also need PDFPageInterpreter to process the page contents and PDFDevice to translate it to whatever you need. PDFResourceManager is used to store shared resources such as fonts or images."
   ]
  },
  {
   "cell_type": "code",
   "execution_count": null,
   "metadata": {},
   "outputs": [],
   "source": []
  },
  {
   "cell_type": "code",
   "execution_count": null,
   "metadata": {},
   "outputs": [],
   "source": []
  },
  {
   "cell_type": "code",
   "execution_count": null,
   "metadata": {},
   "outputs": [],
   "source": []
  },
  {
   "cell_type": "code",
   "execution_count": 120,
   "metadata": {},
   "outputs": [],
   "source": [
    "import pdfminer"
   ]
  },
  {
   "cell_type": "code",
   "execution_count": 9,
   "metadata": {},
   "outputs": [
    {
     "name": "stdout",
     "output_type": "stream",
     "text": [
      " Volume in drive C is CODE\n",
      " Volume Serial Number is AC66-C9D3\n",
      "\n",
      " Directory of C:\\Users\\vdell\\Documents\\Github\\RCS_Python\n",
      "\n",
      "05/21/2018  11:00 AM           274,038 altum.pdf\n",
      "05/21/2018  10:35 AM           153,946 lemums.pdf\n",
      "               2 File(s)        427,984 bytes\n",
      "               0 Dir(s)  69,526,614,016 bytes free\n"
     ]
    }
   ],
   "source": [
    "! dir *.pdf\n"
   ]
  },
  {
   "cell_type": "code",
   "execution_count": 121,
   "metadata": {},
   "outputs": [],
   "source": [
    "fin = open('altum.pdf', 'rb')"
   ]
  },
  {
   "cell_type": "code",
   "execution_count": 12,
   "metadata": {},
   "outputs": [
    {
     "ename": "AttributeError",
     "evalue": "module 'pdfminer' has no attribute 'PDFParser'",
     "output_type": "error",
     "traceback": [
      "\u001b[1;31m---------------------------------------------------------------------------\u001b[0m",
      "\u001b[1;31mAttributeError\u001b[0m                            Traceback (most recent call last)",
      "\u001b[1;32m<ipython-input-12-c6f860b99af4>\u001b[0m in \u001b[0;36m<module>\u001b[1;34m()\u001b[0m\n\u001b[1;32m----> 1\u001b[1;33m \u001b[0mparser\u001b[0m \u001b[1;33m=\u001b[0m \u001b[0mpdfminer\u001b[0m\u001b[1;33m.\u001b[0m\u001b[0mPDFParser\u001b[0m\u001b[1;33m(\u001b[0m\u001b[0mfin\u001b[0m\u001b[1;33m)\u001b[0m\u001b[1;33m\u001b[0m\u001b[0m\n\u001b[0m",
      "\u001b[1;31mAttributeError\u001b[0m: module 'pdfminer' has no attribute 'PDFParser'"
     ]
    }
   ],
   "source": [
    "parser = pdfminer.PDFParser(fin)"
   ]
  },
  {
   "cell_type": "code",
   "execution_count": 13,
   "metadata": {},
   "outputs": [
    {
     "data": {
      "text/plain": [
       "['__builtins__',\n",
       " '__cached__',\n",
       " '__doc__',\n",
       " '__file__',\n",
       " '__loader__',\n",
       " '__name__',\n",
       " '__package__',\n",
       " '__path__',\n",
       " '__spec__',\n",
       " '__version__']"
      ]
     },
     "execution_count": 13,
     "metadata": {},
     "output_type": "execute_result"
    }
   ],
   "source": [
    "dir(pdfminer)"
   ]
  },
  {
   "cell_type": "code",
   "execution_count": 14,
   "metadata": {},
   "outputs": [
    {
     "data": {
      "text/plain": [
       "'20170720'"
      ]
     },
     "execution_count": 14,
     "metadata": {},
     "output_type": "execute_result"
    }
   ],
   "source": [
    "pdfminer.__version__\n"
   ]
  },
  {
   "cell_type": "code",
   "execution_count": 122,
   "metadata": {},
   "outputs": [],
   "source": [
    "from pdfminer.pdfparser import PDFParser\n"
   ]
  },
  {
   "cell_type": "code",
   "execution_count": 123,
   "metadata": {},
   "outputs": [],
   "source": [
    "from pdfminer.pdfdocument import PDFDocument\n",
    "from pdfminer.pdfpage import PDFPage\n",
    "from pdfminer.pdfpage import PDFTextExtractionNotAllowed\n",
    "from pdfminer.pdfinterp import PDFResourceManager\n",
    "from pdfminer.pdfinterp import PDFPageInterpreter\n",
    "from pdfminer.pdfdevice import PDFDevice"
   ]
  },
  {
   "cell_type": "markdown",
   "metadata": {},
   "source": [
    "\n",
    "\n",
    "![Figure 1. Relationships between PDFMiner classes](objrel.png)\n",
    "Relationship between the classes in PDFMiner"
   ]
  },
  {
   "cell_type": "code",
   "execution_count": 124,
   "metadata": {},
   "outputs": [],
   "source": [
    "parser = PDFParser(fin)"
   ]
  },
  {
   "cell_type": "code",
   "execution_count": 125,
   "metadata": {},
   "outputs": [
    {
     "data": {
      "text/plain": [
       "pdfminer.pdfparser.PDFParser"
      ]
     },
     "execution_count": 125,
     "metadata": {},
     "output_type": "execute_result"
    }
   ],
   "source": [
    "type(parser)"
   ]
  },
  {
   "cell_type": "code",
   "execution_count": 126,
   "metadata": {},
   "outputs": [],
   "source": [
    "# Create a PDF document object that stores the document structure.\n",
    "# Supply the password for initialization.\n",
    "document = PDFDocument(parser, None) ## no password so None supplied"
   ]
  },
  {
   "cell_type": "code",
   "execution_count": 127,
   "metadata": {},
   "outputs": [],
   "source": [
    "# Check if the document allows text extraction. If not, abort.\n",
    "if not document.is_extractable:\n",
    "    raise PDFTextExtractionNotAllowed"
   ]
  },
  {
   "cell_type": "code",
   "execution_count": 128,
   "metadata": {},
   "outputs": [],
   "source": [
    "# Create a PDF resource manager object that stores shared resources.\n",
    "rsrcmgr = PDFResourceManager()"
   ]
  },
  {
   "cell_type": "code",
   "execution_count": 129,
   "metadata": {},
   "outputs": [],
   "source": [
    "# Create a PDF device object.\n",
    "device = PDFDevice(rsrcmgr)\n"
   ]
  },
  {
   "cell_type": "code",
   "execution_count": 130,
   "metadata": {},
   "outputs": [],
   "source": [
    "# Create a PDF interpreter object.\n",
    "interpreter = PDFPageInterpreter(rsrcmgr, device)"
   ]
  },
  {
   "cell_type": "code",
   "execution_count": 131,
   "metadata": {},
   "outputs": [],
   "source": [
    "# Process each page contained in the document.\n",
    "for page in PDFPage.create_pages(document):\n",
    "    interpreter.process_page(page)"
   ]
  },
  {
   "cell_type": "code",
   "execution_count": 26,
   "metadata": {},
   "outputs": [
    {
     "data": {
      "text/plain": [
       "['__class__',\n",
       " '__delattr__',\n",
       " '__dict__',\n",
       " '__dir__',\n",
       " '__doc__',\n",
       " '__eq__',\n",
       " '__format__',\n",
       " '__ge__',\n",
       " '__getattribute__',\n",
       " '__gt__',\n",
       " '__hash__',\n",
       " '__init__',\n",
       " '__init_subclass__',\n",
       " '__le__',\n",
       " '__lt__',\n",
       " '__module__',\n",
       " '__ne__',\n",
       " '__new__',\n",
       " '__reduce__',\n",
       " '__reduce_ex__',\n",
       " '__repr__',\n",
       " '__setattr__',\n",
       " '__sizeof__',\n",
       " '__str__',\n",
       " '__subclasshook__',\n",
       " '__weakref__',\n",
       " 'argstack',\n",
       " 'csmap',\n",
       " 'ctm',\n",
       " 'curpath',\n",
       " 'device',\n",
       " 'do_B',\n",
       " 'do_BDC',\n",
       " 'do_BI',\n",
       " 'do_BMC',\n",
       " 'do_BT',\n",
       " 'do_BX',\n",
       " 'do_B_a',\n",
       " 'do_CS',\n",
       " 'do_DP',\n",
       " 'do_Do',\n",
       " 'do_EI',\n",
       " 'do_EMC',\n",
       " 'do_ET',\n",
       " 'do_EX',\n",
       " 'do_F',\n",
       " 'do_G',\n",
       " 'do_ID',\n",
       " 'do_J',\n",
       " 'do_K',\n",
       " 'do_M',\n",
       " 'do_MP',\n",
       " 'do_Q',\n",
       " 'do_RG',\n",
       " 'do_S',\n",
       " 'do_SC',\n",
       " 'do_SCN',\n",
       " 'do_TD',\n",
       " 'do_TJ',\n",
       " 'do_TL',\n",
       " 'do_T_a',\n",
       " 'do_Tc',\n",
       " 'do_Td',\n",
       " 'do_Tf',\n",
       " 'do_Tj',\n",
       " 'do_Tm',\n",
       " 'do_Tr',\n",
       " 'do_Ts',\n",
       " 'do_Tw',\n",
       " 'do_Tz',\n",
       " 'do_W',\n",
       " 'do_W_a',\n",
       " 'do__q',\n",
       " 'do__w',\n",
       " 'do_b',\n",
       " 'do_b_a',\n",
       " 'do_c',\n",
       " 'do_cm',\n",
       " 'do_cs',\n",
       " 'do_d',\n",
       " 'do_f',\n",
       " 'do_f_a',\n",
       " 'do_g',\n",
       " 'do_gs',\n",
       " 'do_h',\n",
       " 'do_i',\n",
       " 'do_j',\n",
       " 'do_k',\n",
       " 'do_l',\n",
       " 'do_m',\n",
       " 'do_n',\n",
       " 'do_q',\n",
       " 'do_re',\n",
       " 'do_rg',\n",
       " 'do_ri',\n",
       " 'do_s',\n",
       " 'do_sc',\n",
       " 'do_scn',\n",
       " 'do_sh',\n",
       " 'do_v',\n",
       " 'do_w',\n",
       " 'do_y',\n",
       " 'dup',\n",
       " 'execute',\n",
       " 'fontmap',\n",
       " 'get_current_state',\n",
       " 'graphicstate',\n",
       " 'gstack',\n",
       " 'init_resources',\n",
       " 'init_state',\n",
       " 'ncs',\n",
       " 'pop',\n",
       " 'process_page',\n",
       " 'push',\n",
       " 'render_contents',\n",
       " 'resources',\n",
       " 'rsrcmgr',\n",
       " 'scs',\n",
       " 'set_current_state',\n",
       " 'textstate',\n",
       " 'xobjmap']"
      ]
     },
     "execution_count": 26,
     "metadata": {},
     "output_type": "execute_result"
    }
   ],
   "source": [
    "dir(interpreter)"
   ]
  },
  {
   "cell_type": "code",
   "execution_count": 27,
   "metadata": {},
   "outputs": [
    {
     "data": {
      "text/plain": [
       "<PDFTextState: font=<PDFTrueTypeFont: basefont='ABCDEE+Calibri'>, fontsize=11.04, charspace=0, wordspace=0,  scaling=100, leading=0, render=0, rise=0,  matrix=(1, 0, 0, 1, 373.15, 643.06), linematrix=(0, 0)>"
      ]
     },
     "execution_count": 27,
     "metadata": {},
     "output_type": "execute_result"
    }
   ],
   "source": [
    "interpreter.textstate"
   ]
  },
  {
   "cell_type": "code",
   "execution_count": 28,
   "metadata": {},
   "outputs": [
    {
     "ename": "TypeError",
     "evalue": "render_contents() missing 1 required positional argument: 'streams'",
     "output_type": "error",
     "traceback": [
      "\u001b[1;31m---------------------------------------------------------------------------\u001b[0m",
      "\u001b[1;31mTypeError\u001b[0m                                 Traceback (most recent call last)",
      "\u001b[1;32m<ipython-input-28-f290f1a37a17>\u001b[0m in \u001b[0;36m<module>\u001b[1;34m()\u001b[0m\n\u001b[1;32m----> 1\u001b[1;33m \u001b[0minterpreter\u001b[0m\u001b[1;33m.\u001b[0m\u001b[0mrender_contents\u001b[0m\u001b[1;33m(\u001b[0m\u001b[0mall\u001b[0m\u001b[1;33m)\u001b[0m\u001b[1;33m\u001b[0m\u001b[0m\n\u001b[0m",
      "\u001b[1;31mTypeError\u001b[0m: render_contents() missing 1 required positional argument: 'streams'"
     ]
    }
   ],
   "source": [
    "interpreter.render_contents(all)"
   ]
  },
  {
   "cell_type": "code",
   "execution_count": null,
   "metadata": {},
   "outputs": [],
   "source": [
    "###Performing Layout Analysis\n",
    "### Here is a typical way to use the layout analysis function:"
   ]
  },
  {
   "cell_type": "code",
   "execution_count": 132,
   "metadata": {},
   "outputs": [],
   "source": [
    "from pdfminer.layout import LAParams\n",
    "from pdfminer.converter import PDFPageAggregator"
   ]
  },
  {
   "cell_type": "code",
   "execution_count": 133,
   "metadata": {},
   "outputs": [],
   "source": [
    "# Set parameters for analysis.\n",
    "laparams = LAParams()"
   ]
  },
  {
   "cell_type": "code",
   "execution_count": 134,
   "metadata": {},
   "outputs": [],
   "source": [
    "# Create a PDF page aggregator object.\n",
    "device = PDFPageAggregator(rsrcmgr, laparams=laparams)"
   ]
  },
  {
   "cell_type": "code",
   "execution_count": 135,
   "metadata": {},
   "outputs": [],
   "source": [
    "interpreter = PDFPageInterpreter(rsrcmgr, device)"
   ]
  },
  {
   "cell_type": "code",
   "execution_count": 144,
   "metadata": {},
   "outputs": [
    {
     "data": {
      "text/plain": [
       "7"
      ]
     },
     "execution_count": 144,
     "metadata": {},
     "output_type": "execute_result"
    }
   ],
   "source": [
    "pages = list(PDFPage.create_pages(document))\n",
    "len(pages)"
   ]
  },
  {
   "cell_type": "code",
   "execution_count": 145,
   "metadata": {},
   "outputs": [],
   "source": [
    "interpreter.process_page(pages[0])"
   ]
  },
  {
   "cell_type": "code",
   "execution_count": 152,
   "metadata": {},
   "outputs": [],
   "source": [
    "layout1=device.get_result()"
   ]
  },
  {
   "cell_type": "code",
   "execution_count": null,
   "metadata": {},
   "outputs": [],
   "source": []
  },
  {
   "cell_type": "code",
   "execution_count": 153,
   "metadata": {},
   "outputs": [
    {
     "data": {
      "text/plain": [
       "pdfminer.layout.LTPage"
      ]
     },
     "execution_count": 153,
     "metadata": {},
     "output_type": "execute_result"
    }
   ],
   "source": [
    "type(layout1)"
   ]
  },
  {
   "cell_type": "code",
   "execution_count": 156,
   "metadata": {},
   "outputs": [],
   "source": [
    "txt_layout1=layout1.groups[0]"
   ]
  },
  {
   "cell_type": "code",
   "execution_count": 158,
   "metadata": {},
   "outputs": [
    {
     "data": {
      "text/plain": [
       "89.904"
      ]
     },
     "execution_count": 158,
     "metadata": {},
     "output_type": "execute_result"
    }
   ],
   "source": [
    "txt_layout1.bbox[0]"
   ]
  },
  {
   "cell_type": "code",
   "execution_count": 160,
   "metadata": {},
   "outputs": [],
   "source": [
    "ltxt=txt_layout1.get_text()"
   ]
  },
  {
   "cell_type": "code",
   "execution_count": 162,
   "metadata": {},
   "outputs": [
    {
     "data": {
      "text/plain": [
       "[' ',\n",
       " ' ',\n",
       " '05.07.2017 ',\n",
       " '   ',\n",
       " 'GRĀMATOJUMU SHĒMAS DME PROGRAMMAS DARĪJUMU UZSKAITEI GRĀMATVEDĪBĀ ',\n",
       " 'Šī materiāla mērķis ir sniegt skaidrojumu par DME programmas darījumu atspoguļošanu iesaistīto ',\n",
       " 'pušu (pilnvarotās personas un dzīvokļa īpašnieku – saimnieciskās darbības veicēju) grāmatvedībā. ',\n",
       " 'Materiālam ir informatīvs raksturs.  Tas sagatavots, ņemot vērā spēkā esošos normatīvos aktus un ',\n",
       " 'to  piemērošanas labo praksi.  ',\n",
       " 'Scenāriju pieņēmumi ',\n",
       " 'Pieņēmums ',\n",
       " 'Kopējās projekta izmaksas, bez PVN* ',\n",
       " 'PVN ',\n",
       " 'Altum grants 43% (ieskaitot PVN) ',\n",
       " 'Altum avansa grants 90% apmērā ',\n",
       " 'Altum atlikusī granta daļa 10% apmērā ',\n",
       " 'Bankas finansējums 57% (ieskaitot PVN) ',\n",
       " 'Bankas finansējuma termiņš ',\n",
       " 'Bankas finansējuma īstermiņa daļa pirmajā gadā ',\n",
       " 'Pamatsummas atmaksa vienā mēnesī ',\n",
       " 'Pirmā mēneša procenti ',\n",
       " 'Gada procentu likme ',\n",
       " 'Dzīvokļu skaits mājā, kas pieteikusies programmai ',\n",
       " 'Viena dzīvokļa daļa no kopējām projekta izmaksām** ',\n",
       " 'Viena dzīvokļa daļas PVN ',\n",
       " 'Būvniecības rēķinu skaits  ',\n",
       " ' ',\n",
       " 'Summa, EUR ',\n",
       " '200 000 ',\n",
       " '42000 ',\n",
       " '104 060 ',\n",
       " '93 654 ',\n",
       " '10 406 ',\n",
       " '137 940 ',\n",
       " '20 gadi ',\n",
       " '6 897 ',\n",
       " '575 ',\n",
       " '690 ',\n",
       " '6% ',\n",
       " '40 ',\n",
       " '5 000 ',\n",
       " '1 050 ',\n",
       " '8 rēķini ',\n",
       " '*Ja dzīvokļa īpašnieks nav reģistrējies PVN nodokļa maksātājs, bet kvalificējas atbalstam, projekta finansēšanas summas ',\n",
       " 'aprēķinā jāiekļauj šādu dzīvokļa īpašnieku kopējā PVN summa, kas tiks  norādīta līgumā ar būvniecības pakalpojumu ',\n",
       " 'sniedzēju un rēķinos.  ',\n",
       " 'Piemēram,  daudzdzīvokļu  mājā,  kurā  visi  dzīvokļu  īpašnieki  ir  fiziskas  personas  un  savā  dzīvokļa  īpašumā  neveic ',\n",
       " 'saimniecisko darbību, kopējās projekta izmaksas būtu: EUR 242 000 (būvniecības pakalpojums EUR 200 000 un EUR ',\n",
       " '42 000 PVN) ',\n",
       " '**Ir pieņemts, ka visi dzīvokļi ir vienādā platībā. ',\n",
       " ' ',\n",
       " 'Energoefektivitātes projekta apraksts ',\n",
       " 'Pilnvarotā  persona  noslēdz  līgumus  ar  pakalpojumu  sniedzējiem  (būvnieku,  autoruzraugu,  būvuzraugu)  dzīvokļu ',\n",
       " 'īpašnieku vārdā. ',\n",
       " 'Energoefektivitātes  projekta  īstenošanas  procesā  tiek  atvērts  projekta  konts  uz  Pilnvarotās  personas  vārda,  kurā  tiek ',\n",
       " 'ieskaitīts gan finansētāja (bankas), gan granta finansējums, tiek veikti būvniecības darbi un to uzraudzība, tiek saņemts ',\n",
       " 'būvvaldes  apstiprinājums  par  energoefektivitātes  paaugstināšanas  darbu  izpildi  un  ALTUM  paziņojums  par  projekta ',\n",
       " 'īstenošanas pabeigšanu.  ',\n",
       " 'Pilnvarotā  persona,  saskaņā  ar  parakstīto  granta  un  aizdevuma  līgumu  nosacījumiem,  atver  projekta  kontu  pie ',\n",
       " 'finansētāja;  ja  nepieciešams,  dzīvokļa  īpašnieks  projekta  kontā  ieskaita  līdzfinansējumu;  pilnvarotā  persona  iesniedz ',\n",
       " 'mans.altum.lv pieprasījumu granta avansa  izmaksai.    ',\n",
       " ' ',\n",
       " '1 ',\n",
       " '']"
      ]
     },
     "execution_count": 162,
     "metadata": {},
     "output_type": "execute_result"
    }
   ],
   "source": [
    "ltxtlist=ltxt.split('\\n')\n",
    "ltxtlist"
   ]
  },
  {
   "cell_type": "code",
   "execution_count": 167,
   "metadata": {},
   "outputs": [
    {
     "name": "stdout",
     "output_type": "stream",
     "text": [
      "10\n",
      "27\n"
     ]
    }
   ],
   "source": [
    "kollonna1=ltxtlist.index('Pieņēmums ')\n",
    "kollonna2=ltxtlist.index('Summa, EUR ')\n",
    "print(kollonna1)\n",
    "print(kollonna2)"
   ]
  },
  {
   "cell_type": "code",
   "execution_count": 169,
   "metadata": {},
   "outputs": [
    {
     "data": {
      "text/plain": [
       "['Summa, EUR ',\n",
       " '200 000 ',\n",
       " '42000 ',\n",
       " '104 060 ',\n",
       " '93 654 ',\n",
       " '10 406 ',\n",
       " '137 940 ',\n",
       " '20 gadi ',\n",
       " '6 897 ',\n",
       " '575 ',\n",
       " '690 ',\n",
       " '6% ',\n",
       " '40 ',\n",
       " '5 000 ',\n",
       " '1 050 ',\n",
       " '8 rēķini ']"
      ]
     },
     "execution_count": 169,
     "metadata": {},
     "output_type": "execute_result"
    }
   ],
   "source": [
    "ltxtlist[27:43]"
   ]
  },
  {
   "cell_type": "code",
   "execution_count": 136,
   "metadata": {},
   "outputs": [],
   "source": [
    "for page in PDFPage.create_pages(document):\n",
    "    interpreter.process_page(page)\n",
    "    # receive the LTPage object for the page.\n",
    "    layout = device.get_result()"
   ]
  },
  {
   "cell_type": "markdown",
   "metadata": {},
   "source": [
    "A layout analyzer returns a LTPage object for each page in the PDF document. \n",
    "\n",
    "This object contains child objects within the page, forming a tree structure.\n",
    "\n",
    "![Layout objects and its tree structure](layout.png)\n",
    "Layout objects and its tree structure"
   ]
  },
  {
   "cell_type": "code",
   "execution_count": 137,
   "metadata": {},
   "outputs": [
    {
     "data": {
      "text/plain": [
       "16"
      ]
     },
     "execution_count": 137,
     "metadata": {},
     "output_type": "execute_result"
    }
   ],
   "source": [
    "len(layout)"
   ]
  },
  {
   "cell_type": "code",
   "execution_count": 138,
   "metadata": {},
   "outputs": [
    {
     "data": {
      "text/plain": [
       "pdfminer.layout.LTPage"
      ]
     },
     "execution_count": 138,
     "metadata": {},
     "output_type": "execute_result"
    }
   ],
   "source": [
    "type(layout)"
   ]
  },
  {
   "cell_type": "code",
   "execution_count": 37,
   "metadata": {},
   "outputs": [],
   "source": [
    "## layout.analyze(laparams) no output"
   ]
  },
  {
   "cell_type": "code",
   "execution_count": 38,
   "metadata": {},
   "outputs": [
    {
     "data": {
      "text/plain": [
       "['__class__',\n",
       " '__delattr__',\n",
       " '__dict__',\n",
       " '__dir__',\n",
       " '__doc__',\n",
       " '__eq__',\n",
       " '__format__',\n",
       " '__ge__',\n",
       " '__getattribute__',\n",
       " '__gt__',\n",
       " '__hash__',\n",
       " '__init__',\n",
       " '__init_subclass__',\n",
       " '__iter__',\n",
       " '__le__',\n",
       " '__len__',\n",
       " '__lt__',\n",
       " '__module__',\n",
       " '__ne__',\n",
       " '__new__',\n",
       " '__reduce__',\n",
       " '__reduce_ex__',\n",
       " '__repr__',\n",
       " '__setattr__',\n",
       " '__sizeof__',\n",
       " '__str__',\n",
       " '__subclasshook__',\n",
       " '__weakref__',\n",
       " '_objs',\n",
       " 'add',\n",
       " 'analyze',\n",
       " 'bbox',\n",
       " 'extend',\n",
       " 'group_objects',\n",
       " 'group_textboxes',\n",
       " 'group_textlines',\n",
       " 'groups',\n",
       " 'hdistance',\n",
       " 'height',\n",
       " 'hoverlap',\n",
       " 'is_empty',\n",
       " 'is_hoverlap',\n",
       " 'is_voverlap',\n",
       " 'pageid',\n",
       " 'rotate',\n",
       " 'set_bbox',\n",
       " 'vdistance',\n",
       " 'voverlap',\n",
       " 'width',\n",
       " 'x0',\n",
       " 'x1',\n",
       " 'y0',\n",
       " 'y1']"
      ]
     },
     "execution_count": 38,
     "metadata": {},
     "output_type": "execute_result"
    }
   ],
   "source": [
    "dir(layout)"
   ]
  },
  {
   "cell_type": "code",
   "execution_count": 143,
   "metadata": {},
   "outputs": [
    {
     "data": {
      "text/plain": [
       "7"
      ]
     },
     "execution_count": 143,
     "metadata": {},
     "output_type": "execute_result"
    }
   ],
   "source": [
    "layout.pageid"
   ]
  },
  {
   "cell_type": "code",
   "execution_count": null,
   "metadata": {},
   "outputs": [],
   "source": []
  },
  {
   "cell_type": "code",
   "execution_count": 39,
   "metadata": {},
   "outputs": [
    {
     "data": {
      "text/plain": [
       "[<LTTextGroupLRTB 89.904,35.640,526.995,804.480>]"
      ]
     },
     "execution_count": 39,
     "metadata": {},
     "output_type": "execute_result"
    }
   ],
   "source": [
    "layout.groups"
   ]
  },
  {
   "cell_type": "code",
   "execution_count": 139,
   "metadata": {},
   "outputs": [
    {
     "data": {
      "text/plain": [
       "['__add__',\n",
       " '__class__',\n",
       " '__contains__',\n",
       " '__delattr__',\n",
       " '__delitem__',\n",
       " '__dir__',\n",
       " '__doc__',\n",
       " '__eq__',\n",
       " '__format__',\n",
       " '__ge__',\n",
       " '__getattribute__',\n",
       " '__getitem__',\n",
       " '__gt__',\n",
       " '__hash__',\n",
       " '__iadd__',\n",
       " '__imul__',\n",
       " '__init__',\n",
       " '__init_subclass__',\n",
       " '__iter__',\n",
       " '__le__',\n",
       " '__len__',\n",
       " '__lt__',\n",
       " '__mul__',\n",
       " '__ne__',\n",
       " '__new__',\n",
       " '__reduce__',\n",
       " '__reduce_ex__',\n",
       " '__repr__',\n",
       " '__reversed__',\n",
       " '__rmul__',\n",
       " '__setattr__',\n",
       " '__setitem__',\n",
       " '__sizeof__',\n",
       " '__str__',\n",
       " '__subclasshook__',\n",
       " 'append',\n",
       " 'clear',\n",
       " 'copy',\n",
       " 'count',\n",
       " 'extend',\n",
       " 'index',\n",
       " 'insert',\n",
       " 'pop',\n",
       " 'remove',\n",
       " 'reverse',\n",
       " 'sort']"
      ]
     },
     "execution_count": 139,
     "metadata": {},
     "output_type": "execute_result"
    }
   ],
   "source": [
    "dir(layout.groups)"
   ]
  },
  {
   "cell_type": "code",
   "execution_count": 140,
   "metadata": {},
   "outputs": [],
   "source": [
    "txtgrp = layout.groups[0]"
   ]
  },
  {
   "cell_type": "code",
   "execution_count": 141,
   "metadata": {},
   "outputs": [
    {
     "data": {
      "text/plain": [
       "pdfminer.layout.LTTextGroupLRTB"
      ]
     },
     "execution_count": 141,
     "metadata": {},
     "output_type": "execute_result"
    }
   ],
   "source": [
    "type(txtgrp)"
   ]
  },
  {
   "cell_type": "code",
   "execution_count": 44,
   "metadata": {},
   "outputs": [
    {
     "data": {
      "text/plain": [
       "['__class__',\n",
       " '__delattr__',\n",
       " '__dict__',\n",
       " '__dir__',\n",
       " '__doc__',\n",
       " '__eq__',\n",
       " '__format__',\n",
       " '__ge__',\n",
       " '__getattribute__',\n",
       " '__gt__',\n",
       " '__hash__',\n",
       " '__init__',\n",
       " '__init_subclass__',\n",
       " '__iter__',\n",
       " '__le__',\n",
       " '__len__',\n",
       " '__lt__',\n",
       " '__module__',\n",
       " '__ne__',\n",
       " '__new__',\n",
       " '__reduce__',\n",
       " '__reduce_ex__',\n",
       " '__repr__',\n",
       " '__setattr__',\n",
       " '__sizeof__',\n",
       " '__str__',\n",
       " '__subclasshook__',\n",
       " '__weakref__',\n",
       " '_objs',\n",
       " 'add',\n",
       " 'analyze',\n",
       " 'bbox',\n",
       " 'extend',\n",
       " 'get_text',\n",
       " 'hdistance',\n",
       " 'height',\n",
       " 'hoverlap',\n",
       " 'is_empty',\n",
       " 'is_hoverlap',\n",
       " 'is_voverlap',\n",
       " 'set_bbox',\n",
       " 'vdistance',\n",
       " 'voverlap',\n",
       " 'width',\n",
       " 'x0',\n",
       " 'x1',\n",
       " 'y0',\n",
       " 'y1']"
      ]
     },
     "execution_count": 44,
     "metadata": {},
     "output_type": "execute_result"
    }
   ],
   "source": [
    "dir(txtgrp)"
   ]
  },
  {
   "cell_type": "code",
   "execution_count": 142,
   "metadata": {},
   "outputs": [
    {
     "data": {
      "text/plain": [
       "' \\n05.07.2017 \\nCR Samaksātais avanss par pamatlīdzekļa uzlabošanu \\n            756  \\n4.  Būvdarbu pabeigšana - pieņemšanas-nodošanas akta saņemšana \\nDR Pamatlīdzekļu uzlabošana \\nCR Pamatlīdzekļu izveidošana un nepabeigto celtniecības objektu izmaksas \\n         6 050  \\n         6 050  \\n \\n \\n5.  Dzīvokļa īpašnieks ik mēnesi grāmato izveidotā pamatlīdzekļa nolietojumu \\nDR Nolietojuma izmaksas, P/Z \\nCR Uzkrātais nolietojums \\n                25  \\n                25  \\n \\n \\n \\n \\n7 \\n'"
      ]
     },
     "execution_count": 142,
     "metadata": {},
     "output_type": "execute_result"
    }
   ],
   "source": [
    "txtgrp.get_text()"
   ]
  },
  {
   "cell_type": "code",
   "execution_count": 47,
   "metadata": {},
   "outputs": [],
   "source": [
    "pages=[]"
   ]
  },
  {
   "cell_type": "code",
   "execution_count": 48,
   "metadata": {},
   "outputs": [],
   "source": [
    "for page in PDFPage.create_pages(document):\n",
    "    interpreter.process_page(page)\n",
    "    # receive the LTPage object for the page.\n",
    "    pages += device.get_result() "
   ]
  },
  {
   "cell_type": "code",
   "execution_count": 55,
   "metadata": {},
   "outputs": [
    {
     "data": {
      "text/plain": [
       "365"
      ]
     },
     "execution_count": 55,
     "metadata": {},
     "output_type": "execute_result"
    }
   ],
   "source": [
    "len(pages) ## we expect to get 7 list elements but...."
   ]
  },
  {
   "cell_type": "code",
   "execution_count": 54,
   "metadata": {},
   "outputs": [
    {
     "data": {
      "text/plain": [
       "[<LTTextBoxHorizontal(0) 89.904,793.440,92.399,804.480 ' \\n'>,\n",
       " <LTTextBoxHorizontal(1) 297.530,793.440,300.025,804.480 ' \\n'>,\n",
       " <LTTextBoxHorizontal(2) 455.140,793.440,507.795,804.480 '05.07.2017 \\n'>,\n",
       " <LTTextBoxHorizontal(3) 210.410,699.940,218.666,711.196 '   \\n'>,\n",
       " <LTTextBoxHorizontal(4) 89.904,679.900,509.356,691.156 'GRĀMATOJUMU SHĒMAS DME PROGRAMMAS DARĪJUMU UZSKAITEI GRĀMATVEDĪBĀ \\n'>,\n",
       " <LTTextBoxHorizontal(5) 89.904,612.460,527.212,668.236 'Šī materiāla mērķis ir sniegt skaidrojumu par DME programmas darījumu atspoguļošanu iesaistīto \\npušu (pilnvarotās personas un dzīvokļa īpašnieku – saimnieciskās darbības veicēju) grāmatvedībā. \\nMateriālam ir informatīvs raksturs.  Tas sagatavots, ņemot vērā spēkā esošos normatīvos aktus un \\nto  piemērošanas labo praksi.  \\n'>,\n",
       " <LTTextBoxHorizontal(6) 89.904,589.540,191.786,600.796 'Scenāriju pieņēmumi \\n'>,\n",
       " <LTTextBoxHorizontal(7) 95.544,388.798,290.681,577.801 'Pieņēmums \\nKopējās projekta izmaksas, bez PVN* \\nPVN \\nAltum grants 43% (ieskaitot PVN) \\nAltum avansa grants 90% apmērā \\nAltum atlikusī granta daļa 10% apmērā \\nBankas finansējums 57% (ieskaitot PVN) \\nBankas finansējuma termiņš \\nBankas finansējuma īstermiņa daļa pirmajā gadā \\nPamatsummas atmaksa vienā mēnesī \\nPirmā mēneša procenti \\nGada procentu likme \\nDzīvokļu skaits mājā, kas pieteikusies programmai \\nViena dzīvokļa daļa no kopējām projekta izmaksām** \\nViena dzīvokļa daļas PVN \\nBūvniecības rēķinu skaits  \\n'>,\n",
       " <LTTextBoxHorizontal(8) 89.904,376.918,92.175,386.261 ' \\n'>,\n",
       " <LTTextBoxHorizontal(9) 371.710,568.458,425.461,577.801 'Summa, EUR \\n'>,\n",
       " <LTTextBoxHorizontal(10) 469.900,388.798,501.811,565.801 '200 000 \\n42000 \\n104 060 \\n93 654 \\n10 406 \\n137 940 \\n20 gadi \\n6 897 \\n575 \\n690 \\n6% \\n40 \\n5 000 \\n1 050 \\n8 rēķini \\n'>,\n",
       " <LTTextBoxHorizontal(11) 89.904,331.798,526.581,365.741 '*Ja dzīvokļa īpašnieks nav reģistrējies PVN nodokļa maksātājs, bet kvalificējas atbalstam, projekta finansēšanas summas \\naprēķinā jāiekļauj šādu dzīvokļa īpašnieku kopējā PVN summa, kas tiks  norādīta līgumā ar būvniecības pakalpojumu \\nsniedzēju un rēķinos.  \\n'>,\n",
       " <LTTextBoxHorizontal(12) 89.904,286.678,526.772,320.621 'Piemēram,  daudzdzīvokļu  mājā,  kurā  visi  dzīvokļu  īpašnieki  ir  fiziskas  personas  un  savā  dzīvokļa  īpašumā  neveic \\nsaimniecisko darbību, kopējās projekta izmaksas būtu: EUR 242 000 (būvniecības pakalpojums EUR 200 000 un EUR \\n42 000 PVN) \\n'>,\n",
       " <LTTextBoxHorizontal(13) 89.904,266.278,263.081,275.621 '**Ir pieņemts, ka visi dzīvokļi ir vienādā platībā. \\n'>,\n",
       " <LTTextBoxHorizontal(14) 89.904,243.530,92.640,254.786 ' \\n'>,\n",
       " <LTTextBoxHorizontal(15) 89.904,220.610,267.746,231.866 'Energoefektivitātes projekta apraksts \\n'>,\n",
       " <LTTextBoxHorizontal(16) 89.904,187.768,526.341,209.351 'Pilnvarotā  persona  noslēdz  līgumus  ar  pakalpojumu  sniedzējiem  (būvnieku,  autoruzraugu,  būvuzraugu)  dzīvokļu \\nīpašnieku vārdā. \\n'>,\n",
       " <LTTextBoxHorizontal(17) 89.904,130.168,526.771,176.591 'Energoefektivitātes  projekta  īstenošanas  procesā  tiek  atvērts  projekta  konts  uz  Pilnvarotās  personas  vārda,  kurā  tiek \\nieskaitīts gan finansētāja (bankas), gan granta finansējums, tiek veikti būvniecības darbi un to uzraudzība, tiek saņemts \\nbūvvaldes  apstiprinājums  par  energoefektivitātes  paaugstināšanas  darbu  izpildi  un  ALTUM  paziņojums  par  projekta \\nīstenošanas pabeigšanu.  \\n'>,\n",
       " <LTTextBoxHorizontal(18) 89.904,80.732,526.760,112.991 'Pilnvarotā  persona,  saskaņā  ar  parakstīto  granta  un  aizdevuma  līgumu  nosacījumiem,  atver  projekta  kontu  pie \\nfinansētāja;  ja  nepieciešams,  dzīvokļa  īpašnieks  projekta  kontā  ieskaita  līdzfinansējumu;  pilnvarotā  persona  iesniedz \\nmans.altum.lv pieprasījumu granta avansa  izmaksai.    \\n'>,\n",
       " <LTTextBoxHorizontal(19) 89.904,35.640,92.399,46.680 ' \\n'>,\n",
       " <LTTextBoxHorizontal(20) 518.980,49.104,526.995,60.144 '1 \\n'>,\n",
       " <LTRect 90.384,568.150,366.074,579.694>,\n",
       " <LTRect 95.544,568.150,360.914,579.694>,\n",
       " <LTRect 366.670,568.150,504.690,579.694>,\n",
       " <LTRect 371.710,568.150,499.650,579.694>,\n",
       " <LTRect 89.904,579.700,90.384,580.180>,\n",
       " <LTRect 89.904,579.700,90.384,580.180>,\n",
       " <LTRect 90.384,579.700,366.194,580.180>,\n",
       " <LTRect 366.190,579.700,366.670,580.180>,\n",
       " <LTRect 366.670,579.700,504.810,580.180>,\n",
       " <LTRect 504.820,579.700,505.300,580.180>,\n",
       " <LTRect 504.820,579.700,505.300,580.180>,\n",
       " <LTRect 89.904,568.150,90.384,579.694>,\n",
       " <LTRect 366.190,568.150,366.670,579.694>,\n",
       " <LTRect 504.820,568.150,505.300,579.694>,\n",
       " <LTRect 89.904,567.670,90.384,568.150>,\n",
       " <LTRect 90.384,567.670,366.194,568.150>,\n",
       " <LTRect 366.190,567.670,366.670,568.150>,\n",
       " <LTRect 366.670,567.670,504.810,568.150>,\n",
       " <LTRect 504.820,567.670,505.300,568.150>,\n",
       " <LTRect 89.904,556.150,90.384,567.670>,\n",
       " <LTRect 366.190,556.150,366.670,567.670>,\n",
       " <LTRect 504.820,556.150,505.300,567.670>,\n",
       " <LTRect 89.904,555.670,90.384,556.150>,\n",
       " <LTRect 90.384,555.670,366.194,556.150>,\n",
       " <LTRect 366.190,555.670,366.670,556.150>,\n",
       " <LTRect 366.670,555.670,504.810,556.150>,\n",
       " <LTRect 504.820,555.670,505.300,556.150>,\n",
       " <LTRect 89.904,544.150,90.384,555.670>,\n",
       " <LTRect 366.190,544.150,366.670,555.670>,\n",
       " <LTRect 504.820,544.150,505.300,555.670>,\n",
       " <LTRect 89.904,543.670,90.384,544.150>,\n",
       " <LTRect 90.384,543.670,366.194,544.150>,\n",
       " <LTRect 366.190,543.670,366.670,544.150>,\n",
       " <LTRect 366.670,543.670,504.810,544.150>,\n",
       " <LTRect 504.820,543.670,505.300,544.150>,\n",
       " <LTRect 89.904,532.270,90.384,543.670>,\n",
       " <LTRect 366.190,532.270,366.670,543.670>,\n",
       " <LTRect 504.820,532.270,505.300,543.670>,\n",
       " <LTRect 89.904,531.790,90.384,532.270>,\n",
       " <LTRect 90.384,531.790,366.194,532.270>,\n",
       " <LTRect 366.190,531.790,366.670,532.270>,\n",
       " <LTRect 366.670,531.790,504.810,532.270>,\n",
       " <LTRect 504.820,531.790,505.300,532.270>,\n",
       " <LTRect 89.904,520.270,90.384,531.790>,\n",
       " <LTRect 366.190,520.270,366.670,531.790>,\n",
       " <LTRect 504.820,520.270,505.300,531.790>,\n",
       " <LTRect 89.904,519.790,90.384,520.270>,\n",
       " <LTRect 90.384,519.790,366.194,520.270>,\n",
       " <LTRect 366.190,519.790,366.670,520.270>,\n",
       " <LTRect 366.670,519.790,504.810,520.270>,\n",
       " <LTRect 504.820,519.790,505.300,520.270>,\n",
       " <LTRect 89.904,508.270,90.384,519.790>,\n",
       " <LTRect 366.190,508.270,366.670,519.790>,\n",
       " <LTRect 504.820,508.270,505.300,519.790>,\n",
       " <LTRect 89.904,507.790,90.384,508.270>,\n",
       " <LTRect 90.384,507.790,366.194,508.270>,\n",
       " <LTRect 366.190,507.790,366.670,508.270>,\n",
       " <LTRect 366.670,507.790,504.810,508.270>,\n",
       " <LTRect 504.820,507.790,505.300,508.270>,\n",
       " <LTRect 89.904,496.270,90.384,507.790>,\n",
       " <LTRect 366.190,496.270,366.670,507.790>,\n",
       " <LTRect 504.820,496.270,505.300,507.790>,\n",
       " <LTRect 89.904,495.790,90.384,496.270>,\n",
       " <LTRect 90.384,495.790,366.194,496.270>,\n",
       " <LTRect 366.190,495.790,366.670,496.270>,\n",
       " <LTRect 366.670,495.790,504.810,496.270>,\n",
       " <LTRect 504.820,495.790,505.300,496.270>,\n",
       " <LTRect 89.904,484.270,90.384,495.790>,\n",
       " <LTRect 366.190,484.270,366.670,495.790>,\n",
       " <LTRect 504.820,484.270,505.300,495.790>,\n",
       " <LTRect 89.904,483.790,90.384,484.270>,\n",
       " <LTRect 90.384,483.790,366.194,484.270>,\n",
       " <LTRect 366.190,483.790,366.670,484.270>,\n",
       " <LTRect 366.670,483.790,504.810,484.270>,\n",
       " <LTRect 504.820,483.790,505.300,484.270>,\n",
       " <LTRect 89.904,472.390,90.384,483.790>,\n",
       " <LTRect 366.190,472.390,366.670,483.790>,\n",
       " <LTRect 504.820,472.390,505.300,483.790>,\n",
       " <LTRect 89.904,471.910,90.384,472.390>,\n",
       " <LTRect 90.384,471.910,366.194,472.390>,\n",
       " <LTRect 366.190,471.910,366.670,472.390>,\n",
       " <LTRect 366.670,471.910,504.810,472.390>,\n",
       " <LTRect 504.820,471.910,505.300,472.390>,\n",
       " <LTRect 89.904,460.390,90.384,471.910>,\n",
       " <LTRect 366.190,460.390,366.670,471.910>,\n",
       " <LTRect 504.820,460.390,505.300,471.910>,\n",
       " <LTRect 89.904,459.910,90.384,460.390>,\n",
       " <LTRect 90.384,459.910,366.194,460.390>,\n",
       " <LTRect 366.190,459.910,366.670,460.390>,\n",
       " <LTRect 366.670,459.910,504.810,460.390>,\n",
       " <LTRect 504.820,459.910,505.300,460.390>,\n",
       " <LTRect 89.904,448.390,90.384,459.910>,\n",
       " <LTRect 366.190,448.390,366.670,459.910>,\n",
       " <LTRect 504.820,448.390,505.300,459.910>,\n",
       " <LTRect 89.904,447.910,90.384,448.390>,\n",
       " <LTRect 90.384,447.910,366.194,448.390>,\n",
       " <LTRect 366.190,447.910,366.670,448.390>,\n",
       " <LTRect 366.670,447.910,504.810,448.390>,\n",
       " <LTRect 504.820,447.910,505.300,448.390>,\n",
       " <LTRect 89.904,436.390,90.384,447.910>,\n",
       " <LTRect 366.190,436.390,366.670,447.910>,\n",
       " <LTRect 504.820,436.390,505.300,447.910>,\n",
       " <LTRect 89.904,435.910,90.384,436.390>,\n",
       " <LTRect 90.384,435.910,366.194,436.390>,\n",
       " <LTRect 366.190,435.910,366.670,436.390>,\n",
       " <LTRect 366.670,435.910,504.810,436.390>,\n",
       " <LTRect 504.820,435.910,505.300,436.390>,\n",
       " <LTRect 89.904,424.510,90.384,435.910>,\n",
       " <LTRect 366.190,424.510,366.670,435.910>,\n",
       " <LTRect 504.820,424.510,505.300,435.910>,\n",
       " <LTRect 89.904,424.030,90.384,424.510>,\n",
       " <LTRect 90.384,424.030,366.194,424.510>,\n",
       " <LTRect 366.190,424.030,366.670,424.510>,\n",
       " <LTRect 366.670,424.030,504.810,424.510>,\n",
       " <LTRect 504.820,424.030,505.300,424.510>,\n",
       " <LTRect 89.904,412.510,90.384,424.030>,\n",
       " <LTRect 366.190,412.510,366.670,424.030>,\n",
       " <LTRect 504.820,412.510,505.300,424.030>,\n",
       " <LTRect 89.904,412.030,90.384,412.510>,\n",
       " <LTRect 90.384,412.030,366.194,412.510>,\n",
       " <LTRect 366.190,412.030,366.670,412.510>,\n",
       " <LTRect 366.670,412.030,504.810,412.510>,\n",
       " <LTRect 504.820,412.030,505.300,412.510>,\n",
       " <LTRect 89.904,400.510,90.384,412.030>,\n",
       " <LTRect 366.190,400.510,366.670,412.030>,\n",
       " <LTRect 504.820,400.510,505.300,412.030>,\n",
       " <LTRect 89.904,400.030,90.384,400.510>,\n",
       " <LTRect 90.384,400.030,366.194,400.510>,\n",
       " <LTRect 366.190,400.030,366.670,400.510>,\n",
       " <LTRect 366.670,400.030,504.810,400.510>,\n",
       " <LTRect 504.820,400.030,505.300,400.510>,\n",
       " <LTRect 89.904,388.490,90.384,400.034>,\n",
       " <LTRect 89.904,388.010,90.384,388.490>,\n",
       " <LTRect 89.904,388.010,90.384,388.490>,\n",
       " <LTRect 90.384,388.010,366.194,388.490>,\n",
       " <LTRect 366.190,388.490,366.670,400.034>,\n",
       " <LTRect 366.190,388.010,366.670,388.490>,\n",
       " <LTRect 366.670,388.010,504.810,388.490>,\n",
       " <LTRect 504.820,388.490,505.300,400.034>,\n",
       " <LTRect 504.820,388.010,505.300,388.490>,\n",
       " <LTRect 504.820,388.010,505.300,388.490>,\n",
       " <LTFigure(Image24) 89.880,703.200,210.360,769.920 matrix=[120.48,0.00,0.00,66.72, (89.88,703.20)]>,\n",
       " <LTTextBoxHorizontal(0) 89.904,793.440,92.399,804.480 ' \\n'>,\n",
       " <LTTextBoxHorizontal(1) 297.530,793.440,300.025,804.480 ' \\n'>,\n",
       " <LTTextBoxHorizontal(2) 455.140,793.440,507.795,804.480 '05.07.2017 \\n'>,\n",
       " <LTTextBoxHorizontal(3) 89.904,747.168,526.477,768.051 'Ja  projekta  finansētājs  ir  banka,  tā  elektroniski  nosūta  ALTUM  apliecinājumu  par  augstāk  minēto  nosacījumu  un  citu \\naizdevuma līguma nosacījumu izpildi.  \\n'>,\n",
       " <LTTextBoxHorizontal(4) 89.904,721.728,512.011,731.071 'ALTUM, pārbaudot granta līguma sākotnējo nosacījumu izpildi, projekta kontā ieskaita granta avansu 90% apmērā.  \\n'>,\n",
       " <LTTextBoxHorizontal(5) 89.904,671.568,526.659,705.631 'Zemāk minētajā piemērā tiek pieņemts, ka Altum sniedz granta finansējumu 43% apmērā no kopējām projekta izmaksām; \\npārējie  57%  no  projekta  izmaksām  tiek  segti  no  finansētāja  (bankas)  izsniegta  aizdevuma.  Pilnvarotā  persona  atver \\nprojekta kontu pie finansētāja (bankas). \\n'>,\n",
       " <LTTextBoxHorizontal(6) 107.900,648.940,412.006,660.196 '1.  Darījuma atspoguļojums pilnvarotās personas grāmatvedībā \\n'>,\n",
       " <LTTextBoxHorizontal(7) 89.904,591.168,526.743,637.591 'Zemāk norādītajā scenārijā tiek pieņemts, ka visi dzīvokļa īpašnieki ir fiziskas personas un savā dzīvokļa īpašumā neveic \\nsaimniecisko darbību i, līdz ar to aizņēmuma summa un saistītie grāmatojumu ietver sevī PVN. Ja dzīvokļa īpašnieks ir \\nreģistrējies  PVN  maksātājs  un  dzīvokļa  īpašumā  veic  ar  PVN  apliekamus  darījumus,  projekta  finansēšanas  summas \\naprēķinā netiek  iekļauta šādu dzīvokļa īpašnieku kopējā PVN summa. \\n'>,\n",
       " <LTTextBoxHorizontal(8) 107.900,570.858,450.091,580.201 '1.  Pilnvarotā persona noformē aizņēmumu bankā; aizņēmums tiek ieskaitīts projekta kontā: \\n'>,\n",
       " <LTTextBoxHorizontal(9) 95.304,523.578,257.081,558.361 'DR Norēķinu konti bankās  \\nCR Ilgtermiņa aizņēmumi no kredītiestādēm \\nCR Īstermiņa aizņēmumi no kredītiestādēm \\n'>,\n",
       " <LTTextBoxHorizontal(10) 343.390,523.578,393.541,558.361 '       137940 \\n131043  \\n            6897  \\n'>,\n",
       " <LTTextBoxHorizontal(11) 107.900,506.058,526.470,515.401 '2.  Pēc  granta  līguma  sākotnējo  nosacījumu  izpildes  pārbaudes,  Altum  ieskaita  Pilnvarotās  personas  projekta \\n'>,\n",
       " <LTTextBoxHorizontal(12) 125.900,493.818,253.601,503.161 'kontā granta avansu 90% apmērā: \\n'>,\n",
       " <LTTextBoxHorizontal(13) 95.304,459.258,270.761,481.321 'DR Norēķinu konti bankās  \\nCR Nākamo periodu ieņēmumi (Granta avanss) \\n'>,\n",
       " <LTTextBoxHorizontal(14) 343.390,459.258,382.141,481.321 '     93654  \\n93654 \\n'>,\n",
       " <LTTextBoxHorizontal(15) 107.900,417.138,526.617,451.081 '3.  Būvniecības pakalpojumu veicējs vienreiz mēnesī piestāda rēķinu* par paveiktajiem pakalpojumiem projekta \\nietvaros. Pilnvarotā persona savos grāmatvedības reģistros grāmato saistības pret būvniecības pakalpojumu \\nveicēju un prasījumu no dzīvokļu īpašniekiem: \\n'>,\n",
       " <LTTextBoxHorizontal(16) 95.304,335.058,473.011,404.761 'DR Norēķini ar citiem debitoriem (īstermiņa) \\nDR Norēķini ar citiem debitoriem (ilgtermiņa) \\nCR  Norēķini  ar  piegādātājiem  un  darbuzņēmējiem  (saistības  pret \\nbūvnieku) \\n \\n*Projekta realizācijas laikā izstādot 8 rēķinus par kopējo summu 242 000 EUR (200000 EUR un 42000 EUR PVN).. \\n'>,\n",
       " <LTTextBoxHorizontal(17) 369.910,348.118,413.221,370.301 '       30250  \\n \\n'>,\n",
       " <LTTextBoxHorizontal(18) 369.910,383.878,413.221,404.761 '         1513  \\n       28737  \\n'>,\n",
       " <LTTextBoxHorizontal(19) 107.900,318.118,424.501,327.461 '4.  Pilnvarotā persona veic ikmēneša būvniecības rēķinu apmaksu no projekta konta: \\n'>,\n",
       " <LTTextBoxHorizontal(20) 95.304,273.358,341.625,306.941 'DR  Norēķini  ar  piegādātājiem  un  darbuzņēmējiem  (saistības  pret \\nbūvnieku) \\nCR Norēķinu konti bankās  \\n'>,\n",
       " <LTTextBoxHorizontal(21) 350.470,273.358,393.781,295.421 '30250  \\n       30250  \\n'>,\n",
       " <LTTextBoxHorizontal(22) 107.900,255.838,117.509,265.181 '5. \\n'>,\n",
       " <LTTextBoxHorizontal(23) 125.900,231.238,526.771,265.181 'Ikmēnesi Pilnvarotā persona saņem rēķinu no bankas par pamatsummas un procentu atmaksu (veic norēķinus \\nun  grāmatojumus  saskaņā  ar  aizņēmuma  grafiku  par  pamatsummas  un  aprēķināto  procentu  apmaksu). \\nPilnvarotā persona iegrāmato ikmēneša apmaksājamos procentus: \\n'>,\n",
       " <LTTextBoxHorizontal(24) 95.304,186.448,257.201,218.711 'DR Norēķini ar citiem debitoriem (īstermiņa) \\nCR \\nkredītiestādēm (%) \\n'>,\n",
       " <LTTextBoxHorizontal(25) 116.658,197.968,341.934,207.311 'Īstermiņa  saistības  par  procentu  maksājumiem  pret \\n'>,\n",
       " <LTTextBoxHorizontal(26) 350.470,209.368,393.781,218.711 '            690 \\n'>,\n",
       " <LTTextBoxHorizontal(27) 350.470,186.448,396.061,195.791 '            690  \\n'>,\n",
       " <LTTextBoxHorizontal(28) 107.900,169.168,333.421,178.511 '6.  Pilnvarotā persona veic aizdevuma dzēšanu pēc grafika: \\n'>,\n",
       " <LTTextBoxHorizontal(29) 95.304,121.888,267.641,156.671 'DR Īstermiņa aizņēmumi no kredītiestādēm \\nDR Īstermiņa saistības pret kredītiestādēm (%) \\nCR Norēķinu konti bankās  \\n'>,\n",
       " <LTTextBoxHorizontal(30) 319.030,121.888,339.541,156.671 '575 \\n690 \\n1265 \\n'>,\n",
       " <LTTextBoxHorizontal(31) 107.900,104.368,526.412,113.711 '7.  Pilnvarotā persona saņem apstiprinājumu, ka projekts ir pieņemts, un tiek ieskaitīts granta avansa atlikums \\n'>,\n",
       " <LTTextBoxHorizontal(32) 125.900,92.132,211.601,101.475 '10% apmērā no Altum: \\n'>,\n",
       " <LTTextBoxHorizontal(33) 89.904,35.640,92.399,46.680 ' \\n'>,\n",
       " <LTTextBoxHorizontal(34) 518.980,49.104,526.995,60.144 '2 \\n'>,\n",
       " <LTTextBoxHorizontal(0) 297.530,793.440,300.025,804.480 ' \\n'>,\n",
       " <LTTextBoxHorizontal(1) 455.140,793.440,507.795,804.480 '05.07.2017 \\n'>,\n",
       " <LTTextBoxHorizontal(2) 95.304,744.648,270.761,766.731 'DR Norēķinu konti bankās  \\nCR Nākamo periodu ieņēmumi (Granta avanss) \\n'>,\n",
       " <LTTextBoxHorizontal(3) 343.390,744.648,391.261,766.731 '10406  \\n         10406  \\n'>,\n",
       " <LTTextBoxHorizontal(4) 107.900,727.128,117.509,736.471 '8. \\n'>,\n",
       " <LTTextBoxHorizontal(5) 125.900,714.888,526.431,736.471 'Ikmēnesi Pilnvarotā persona izraksta rēķinu dzīvokļa īpašniekam par aizdevuma pamatsummas un % atmaksu \\nun saņem maksājumu \\n'>,\n",
       " <LTTextBoxHorizontal(6) 95.304,680.448,257.201,702.511 'DR Norēķinu konti bankās  \\nCR Norēķini ar citiem debitoriem (īstermiņa) \\n'>,\n",
       " <LTTextBoxHorizontal(7) 343.390,680.448,363.901,702.511 '1265 \\n1265 \\n'>,\n",
       " <LTTextBoxHorizontal(8) 107.900,662.928,526.483,672.271 '9.  Pēc  granta  apstiprināšanas  no  Altum  puses  Pilnvarotā  persona  veic  debitoru  parāda  dzēšanu  par  granta \\n'>,\n",
       " <LTTextBoxHorizontal(9) 125.900,650.688,156.011,660.031 'apmēru \\n'>,\n",
       " <LTTextBoxHorizontal(10) 95.304,616.128,270.761,638.191 'DR Nākamo periodu ieņēmumi (Granta avanss) \\nCR Norēķini ar citiem debitoriem (īstermiņa) \\n'>,\n",
       " <LTTextBoxHorizontal(11) 343.390,616.128,388.981,638.191 '      104060  \\n104060 \\n'>,\n",
       " <LTTextBoxHorizontal(12) 89.904,793.440,92.399,804.480 ' \\n'>,\n",
       " <LTTextBoxHorizontal(13) 89.904,598.728,92.175,608.071 ' \\n'>,\n",
       " <LTTextBoxHorizontal(14) 89.904,565.938,526.644,587.671 'Papildus  veicamie  grāmatojumi  Pilnvarotās  personas  grāmatvedības  reģistros  gadījumos,  kad  dzīvokļa \\nīpašnieks nekvalificējas atbalsta saņemšanai (dzīvokļa īpašnieks ir PVN maksātājs): \\n'>,\n",
       " <LTTextBoxHorizontal(15) 107.900,545.418,526.766,554.761 '10.  Dzīvokļa īpašniekam, kas nekvalificējas atbalsta saņemšanai, Pilnvarotā persona pirms projekta uzsākšanas \\n'>,\n",
       " <LTTextBoxHorizontal(16) 125.900,533.178,450.931,542.521 'izraksta avansa rēķinu par pilno summu, kas attiecināma uz konkrēto dzīvokļa īpašnieku: \\n'>,\n",
       " <LTTextBoxHorizontal(17) 95.304,498.738,222.041,520.801 'DR Norēķinu konti bankās \\nCR Saistības par saņemto avansu \\n'>,\n",
       " <LTTextBoxHorizontal(18) 343.390,498.738,386.701,520.801 '        5 000  \\n        5 000  \\n'>,\n",
       " <LTTextBoxHorizontal(19) 107.900,456.618,526.627,490.561 '11.  Saņemot  ik  mēnesi  rēķinu  no  būvnieka  par  būvdarbu  veikšanu,  Pilnvarotā  persona  savos  grāmatvedības \\nreģistros  dzēš  saņemto  avansu  no  dzīvokļa  īpašnieka,  kas  nekvalificējas  atbalsta  saņemšanai,  par  uz  viņu \\nattiecināmo daļu (pieņemts, ka projekta realizācijas laikā tiek saņemti 8 rēķini): \\n'>,\n",
       " <LTTextBoxHorizontal(20) 95.304,411.858,334.693,444.121 'DR Saistības par saņemto avansu \\nCR Norēķini ar piegādātājiem un darbuzņēmējiem (saistības pret \\nbūvnieku) \\n'>,\n",
       " <LTTextBoxHorizontal(21) 343.390,434.778,384.421,444.121 '          625  \\n'>,\n",
       " <LTTextBoxHorizontal(22) 343.390,411.858,382.141,421.201 '          625 \\n'>,\n",
       " <LTTextBoxHorizontal(23) 107.900,394.458,110.171,403.801 ' \\n'>,\n",
       " <LTTextBoxHorizontal(24) 107.900,371.690,506.716,382.946 '2.  Darījuma atspoguļojums dzīvokļa īpašnieka, kas ir PVN maksātājs, grāmatvedībā \\n'>,\n",
       " <LTTextBoxHorizontal(25) 125.900,356.930,128.636,368.186 ' \\n'>,\n",
       " <LTTextBoxHorizontal(26) 89.904,344.398,318.541,353.741 '1.  Dzīvokļa īpašnieks saņem rēķinu* par būvdarbu veikšanu \\n'>,\n",
       " <LTTextBoxHorizontal(27) 95.304,239.038,497.752,331.901 'DR Pamatlīdzekļu izveidošana un nepabeigto celtniecības objektu izmaksas \\nDR Reversais PVN priekšnodoklis \\nCR Norēķini ar piegādātājiem un darbuzņēmējiem (īstermiņa) \\nCR Reversais aprēķinātais PVN būvniecībā \\n \\n*Projekta realizācijas laikā saņemot 8 rēķinus par kopējo summu 200 000 EUR, neskaitot PVN, kas sadalīti proporcionāli \\nvienādās daļās starp 40 dzīvokļu īpašniekiem. Līdz ar to katrs dzīvokļa īpašnieks saņem 8 rēķinus. Šis dzīvokļa īpašnieks \\nsaņem rēķinu par kopējo summu 5 000 EUR, neskaitot PVN. \\n'>,\n",
       " <LTTextBoxHorizontal(28) 383.350,271.558,435.811,331.901 '              625  \\n              131  \\n                625 \\n              131  \\n \\n'>,\n",
       " <LTTextBoxHorizontal(29) 89.904,221.998,526.640,231.341 '2.  Saņemtā  rēķina  summa  tiek  sadalīta  proporcionāli  starp  aizņēmumu  no  bankas  (57%)  un  saņemamo  grantu  no \\n'>,\n",
       " <LTTextBoxHorizontal(30) 107.900,209.728,157.571,219.071 'Altum (43%): \\n'>,\n",
       " <LTTextBoxHorizontal(31) 95.304,149.608,320.581,197.231 'DR Norēķini ar piegādātājiem un darbuzņēmējiem (īstermiņa) \\nCR Aizņēmums no bankas, īstermiņa \\nCR Aizņēmums no bankas, ilgtermiņa \\nCR Saistības pret Altum grantu \\n'>,\n",
       " <LTTextBoxHorizontal(32) 383.350,149.608,426.661,197.231 '           625  \\n             18  \\n           338 \\n           269 \\n'>,\n",
       " <LTTextBoxHorizontal(33) 89.904,132.328,94.455,141.671 '  \\n'>,\n",
       " <LTTextBoxHorizontal(34) 89.904,111.928,351.421,121.271 '3.  Būvdarbu pabeigšana - pieņemšanas-nodošanas akta saņemšana \\n'>,\n",
       " <LTTextBoxHorizontal(35) 95.304,77.372,373.981,99.435 'DR Pamatlīdzekļu uzlabošana \\nCR Pamatlīdzekļu izveidošana un nepabeigto celtniecības objektu izmaksas \\n'>,\n",
       " <LTTextBoxHorizontal(36) 383.350,77.372,433.531,99.435 '           5 000  \\n           5 000  \\n'>,\n",
       " <LTTextBoxHorizontal(37) 89.904,35.640,92.399,46.680 ' \\n'>,\n",
       " <LTTextBoxHorizontal(38) 518.980,49.104,526.995,60.144 '3 \\n'>,\n",
       " <LTTextBoxHorizontal(0) 89.904,793.440,92.399,804.480 ' \\n'>,\n",
       " <LTTextBoxHorizontal(1) 297.530,793.440,300.025,804.480 ' \\n'>,\n",
       " <LTTextBoxHorizontal(2) 455.140,793.440,507.795,804.480 '05.07.2017 \\n'>,\n",
       " <LTTextBoxHorizontal(3) 89.904,709.248,526.737,768.051 '4.  Pēc projekta pabeigšanas un granta apstiprināšanas Pilnvarotā persona saņem apstiprinājuma vēstuli no Altum par \\npiešķirtā granta kopējo apmēru. Pilnvarotā persona veic granta apmēra sadali pa dzīvokļa īpašniekiem, balstoties \\nuz  attiecināmo  platību,  un  nosūta  informatīvu  vēstuli  katram  dzīvokļa  īpašniekam  par  uz  to  attiecināmo  granta \\napmēru.  Pamatojoties    uz  šo  vēstuli,  dzīvokļa  īpašnieks  grāmato  saņemto  grantu  un  noraksta  to  izveidotā \\npamatlīdzekļa lietderīgās lietošanas laikā. \\n'>,\n",
       " <LTTextBoxHorizontal(4) 95.304,674.688,242.081,696.871 'DR  Saistības pret Altum grantu \\nCR Nākamo periodu ieņēmumi (Grants) \\n'>,\n",
       " <LTTextBoxHorizontal(5) 383.350,674.688,433.531,696.871 '           2 150  \\n           2150  \\n'>,\n",
       " <LTTextBoxHorizontal(6) 89.904,657.408,99.513,666.751 '5. \\n'>,\n",
       " <LTTextBoxHorizontal(7) 107.900,657.408,427.981,666.751 'Ikmēneša rēķina par % grāmatošana (par aizdevuma atmaksu caur Pilnvaroto personu) \\n'>,\n",
       " <LTTextBoxHorizontal(8) 95.304,622.848,260.321,644.911 'DR % izmaksas P/Z \\nCR Saistības par % maksājumiem, īstermiņa \\n'>,\n",
       " <LTTextBoxHorizontal(9) 89.904,605.568,373.261,614.911 '6.  Dzīvokļa īpašnieks veic ikmēneša rēķina samaksu Pilnvarotajai personai \\n'>,\n",
       " <LTTextBoxHorizontal(10) 95.304,558.258,260.321,593.071 'DR Aizņēmums no bankas  (īstermiņa) \\nDR Saistības par % maksājumiem, īstermiņa \\nCR Norēķinu konti bankās  \\n'>,\n",
       " <LTTextBoxHorizontal(11) 383.350,622.848,433.531,644.911 '                14  \\n                14  \\n'>,\n",
       " <LTTextBoxHorizontal(12) 383.350,558.258,433.531,593.071 '                12 \\n                14  \\n                26  \\n'>,\n",
       " <LTTextBoxHorizontal(13) 89.904,540.738,526.671,550.081 '7.  Dzīvokļa īpašnieks ik mēnesi atzīst ieņēmumos daļu no Altum granta. Grants tiek atzīts lineāri laikā, kas ir ekvivalents \\n'>,\n",
       " <LTTextBoxHorizontal(14) 107.900,528.498,276.161,537.841 'izveidotā pamatlīdzekļa nolietojuma periodam \\n'>,\n",
       " <LTTextBoxHorizontal(15) 95.304,493.938,175.091,516.001 'DR Grants \\nCR Pārējie ieņēmumi \\n'>,\n",
       " <LTTextBoxHorizontal(16) 89.904,476.538,379.621,485.881 '8.  Dzīvokļa īpašnieks ik mēnesi grāmato izveidotā pamatlīdzekļa nolietojumu \\n'>,\n",
       " <LTTextBoxHorizontal(17) 95.304,442.098,208.841,464.161 'DR Nolietojuma izmaksas, P/Z \\nCR Uzkrātais nolietojums \\n'>,\n",
       " <LTTextBoxHorizontal(18) 89.904,424.698,92.175,434.041 ' \\n'>,\n",
       " <LTTextBoxHorizontal(19) 383.350,493.938,428.941,516.001 '                9  \\n               9  \\n'>,\n",
       " <LTTextBoxHorizontal(20) 383.350,442.098,433.531,464.161 '                21  \\n                21  \\n'>,\n",
       " <LTTextBoxHorizontal(21) 89.904,391.918,526.609,413.521 'Papildus  veicamie  grāmatojumi  gadījumos,  kad  dzīvokļa  īpašnieks,  kas  ir  PVN  maksātājs,  veic  ar  PVN \\napliekamos darījumus dzīvokļa īpašumā: \\n'>,\n",
       " <LTTextBoxHorizontal(22) 89.904,297.238,526.771,380.741 '9.  Dzīvokļa īpašnieks, kas ir PVN maksātājs un veic ar PVN apliekamos darījumus dzīvokļa īpašumā, var atgūt PVN, \\nkas  uzskatāms  par  neattiecināmajam  projekta  izmaksām,  no  budžeta  par  DME  siltināšanas  programmas \\npasākumiem.  Šajā  gadījumā  dzīvokļa  īpašnieks,  saņemot  rēķinu,  veic  PVN  samaksu  uz  pakalpojumu  sniedzēju \\nkontu, kas norādīts rēķinā, savukārt pārējā rēķina summa ir attiecināmās izmaksas un tiek apmaksāta no Pilnvarotās \\npersonas projekta konta. Ilustrācijas nolūkos zemāk minētajā piemērā tiek pieņemts, ka dzīvokļa īpašnieks saņem \\nrēķinu par būvuzraudzību par summu 121 EUR, ieskaitot PVN 21 EUR apmērā: \\n9.1.   Dzīvokļa īpašnieks saņem rēķinu: \\n'>,\n",
       " <LTTextBoxHorizontal(23) 95.304,249.958,373.981,284.741 'DR Pamatlīdzekļu izveidošana un nepabeigto celtniecības objektu izmaksas \\nDR PVN priekšnodoklis \\nCR Norēķini ar piegādātājiem un darbuzņēmējiem (īstermiņa) \\n'>,\n",
       " <LTTextBoxHorizontal(24) 383.350,249.958,435.811,284.741 '               100  \\n                 21  \\n               121 \\n'>,\n",
       " <LTTextBoxHorizontal(25) 107.900,231.252,526.719,241.607 '9.2.   Saņemtā rēķina summa bez PVN tiek sadalīta proporcionāli starp aizņēmumu no bankas (57%) un saņemamo \\n'>,\n",
       " <LTTextBoxHorizontal(26) 129.500,219.012,216.407,229.367 'grantu no Altum (43%): \\n'>,\n",
       " <LTTextBoxHorizontal(27) 95.304,159.208,320.581,206.831 'DR Norēķini ar piegādātājiem un darbuzņēmējiem (īstermiņa) \\nCR Aizņēmums no bankas, īstermiņa \\nCR Aizņēmums no bankas, ilgtermiņa \\nCR Saistības pret Altum grantu \\n'>,\n",
       " <LTTextBoxHorizontal(28) 383.350,159.208,438.091,206.831 '               100  \\n                    3  \\n                  54 \\n                  43 \\n'>,\n",
       " <LTTextBoxHorizontal(29) 107.900,140.622,424.267,150.977 '9.3.  Dzīvokļa īpašnieks veic PVN samaksu uz būvuzraudzības rēķinā norādīto kontu: \\n'>,\n",
       " <LTTextBoxHorizontal(30) 95.304,106.408,320.581,128.471 'DR Norēķini ar piegādātājiem un darbuzņēmējiem (īstermiņa) \\nCR Norēķinu konti bankās \\n'>,\n",
       " <LTTextBoxHorizontal(31) 383.350,106.408,433.531,128.471 '                21  \\n                21  \\n'>,\n",
       " <LTTextBoxHorizontal(32) 89.904,87.586,92.421,97.941 ' \\n'>,\n",
       " <LTTextBoxHorizontal(33) 89.904,35.640,92.399,46.680 ' \\n'>,\n",
       " <LTTextBoxHorizontal(34) 518.980,49.104,526.995,60.144 '4 \\n'>,\n",
       " <LTTextBoxHorizontal(0) 297.530,793.440,300.025,804.480 ' \\n'>,\n",
       " <LTTextBoxHorizontal(1) 455.140,793.440,507.795,804.480 '05.07.2017 \\n'>,\n",
       " <LTTextBoxHorizontal(2) 107.900,756.480,297.590,767.736 '3.  Darījuma  atspoguļojums  dzīvokļa \\n'>,\n",
       " <LTTextBoxHorizontal(3) 303.722,756.480,365.806,767.736 'īpašnieka  – \\n'>,\n",
       " <LTTextBoxHorizontal(4) 372.070,756.480,527.188,767.736 'juridiskas  personas,  kas  nav \\n'>,\n",
       " <LTTextBoxHorizontal(5) 125.900,726.700,349.126,752.836 'reģistrējusies kā PVN maksātājs, grāmatvedībā \\n \\n'>,\n",
       " <LTTextBoxHorizontal(6) 107.900,714.288,333.421,723.631 '1.  Dzīvokļa īpašnieks saņem rēķinu par būvdarbu veikšanu \\n'>,\n",
       " <LTTextBoxHorizontal(7) 95.304,635.568,490.582,701.791 'DR Pamatlīdzekļu izveidošana un nepabeigto celtniecības objektu izmaksas \\nCR Norēķini ar piegādātājiem un darbuzņēmējiem \\n \\n*Projekta realizācijas laikā saņemot 8 rēķinus par kopējo summu 200 000 EUR, neskaitot PVN, kas sadalīti proporcionāli \\nvienādās daļās starp 40 dzīvokļu īpašniekiem. Līdz ar to katrs dzīvokļa īpašnieks saņem 8 rēķinus par kopējo summu \\n5 000 EUR, neskaitot PVN. Šajā gadījumā rēķins būs ar PVN (625 EUR un 131 EUR PVN). \\n'>,\n",
       " <LTTextBoxHorizontal(8) 430.270,679.728,446.251,701.791 '756 \\n756 \\n'>,\n",
       " <LTTextBoxHorizontal(9) 385.870,667.008,388.141,676.351 ' \\n'>,\n",
       " <LTTextBoxHorizontal(10) 107.900,618.528,526.700,627.871 '2.  Saņemtā rēķina summa tiek sadalīta proporcionāli starp aizņēmumu no bankas (57%) un saņemamo grantu no \\n'>,\n",
       " <LTTextBoxHorizontal(11) 125.900,606.288,175.571,615.631 'Altum (43%): \\n'>,\n",
       " <LTTextBoxHorizontal(12) 95.304,546.138,320.581,593.791 'DR Norēķini ar piegādātājiem un darbuzņēmējiem (īstermiņa) \\nCR Aizņēmums no bankas, īstermiņa \\nCR Aizņēmums no bankas, ilgtermiņa \\nCR Saistības pret Altum grantu \\n'>,\n",
       " <LTTextBoxHorizontal(13) 411.310,546.138,427.261,593.791 '756 \\n22 \\n409 \\n325 \\n'>,\n",
       " <LTTextBoxHorizontal(14) 107.900,508.458,369.421,517.801 '3.  Būvdarbu pabeigšana - pieņemšanas-nodošanas akta saņemšana \\n'>,\n",
       " <LTTextBoxHorizontal(15) 95.304,473.898,373.981,495.961 'DR Pamatlīdzekļu uzlabošana \\nCR Pamatlīdzekļu izveidošana un nepabeigto celtniecības objektu izmaksas \\n'>,\n",
       " <LTTextBoxHorizontal(16) 385.870,473.898,433.771,495.961 '          6 050  \\n          6 050  \\n'>,\n",
       " <LTTextBoxHorizontal(17) 110.180,407.058,526.471,465.721 '3.  Pēc  projekta  pabeigšanas  un  granta  apstiprināšanas  dzīvokļa  īpašnieks  caur  Pilnvaroto  personu  saņem \\napstiprinājum vēstuli no Altum par piešķirtā granta apmēru. Pilnvarotā persona veic granta apmēra sadali pa \\ndzīvokļa  īpašniekiem,  balstoties  uz  attiecināmo  platību,  un  nosūta  informatīvu  vēstuli  katram  dzīvokļa \\nīpašniekam  par  uz  to  attiecināmo  granta  apmēru.  Balstoties  uz  šīs  vēstules,  dzīvokļa  īpašnieks  grāmato \\nsaņemto grantu un noraksta to izveidotā pamatlīdzekļa lietošanas laikā. \\n'>,\n",
       " <LTTextBoxHorizontal(18) 95.304,372.478,210.641,394.541 'DR Saistības pret Altum grantu \\nCR Grants \\n'>,\n",
       " <LTTextBoxHorizontal(19) 417.550,372.478,438.091,394.541 '2602 \\n2602 \\n'>,\n",
       " <LTTextBoxHorizontal(20) 107.900,355.078,117.509,364.421 '4. \\n'>,\n",
       " <LTTextBoxHorizontal(21) 125.900,355.078,446.011,364.421 'Ikmēneša rēķina par % grāmatošana (par aizdevuma atmaksu caur Pilnvaroto personu) \\n'>,\n",
       " <LTTextBoxHorizontal(22) 95.304,320.638,260.321,342.701 'DR % izmaksas P/Z \\nCR Saistības par % maksājumiem, īstermiņa \\n'>,\n",
       " <LTTextBoxHorizontal(23) 385.870,320.638,431.461,342.701 '              17  \\n              17  \\n'>,\n",
       " <LTTextBoxHorizontal(24) 107.900,303.238,391.261,312.581 '5.  Dzīvokļa īpašnieks veic ikmēneša rēķina samaksu Pilnvarotajai personai \\n'>,\n",
       " <LTTextBoxHorizontal(25) 95.304,255.958,260.321,290.741 'DR Aizņēmums no bankas, īstermiņa \\nDR Saistības par % maksājumiem, īstermiņa \\nCR Norēķinu konti bankās  \\n'>,\n",
       " <LTTextBoxHorizontal(26) 385.870,255.958,431.461,290.741 '              14  \\n              17  \\n              31  \\n'>,\n",
       " <LTTextBoxHorizontal(27) 107.900,238.438,526.518,247.781 '6.  Dzīvokļa  īpašnieks  ik  mēnesi  atzīst  ieņēmumos  daļu  no  Altum  granta.  Grants  tiek  atzīts  lineāri  laikā,  kas  ir \\n'>,\n",
       " <LTTextBoxHorizontal(28) 125.900,226.198,337.021,235.541 'ekvivalents izveidotā pamatlīdzekļa nolietojuma periodam \\n'>,\n",
       " <LTTextBoxHorizontal(29) 95.304,191.608,175.091,213.791 'DR Grants \\nCR Pārējie ieņēmumi \\n'>,\n",
       " <LTTextBoxHorizontal(30) 383.350,191.608,433.531,213.791 '                11  \\n                11  \\n'>,\n",
       " <LTTextBoxHorizontal(31) 107.900,174.328,397.621,183.671 '7.  Dzīvokļa īpašnieks ik mēnesi grāmato izveidotā pamatlīdzekļa nolietojumu \\n'>,\n",
       " <LTTextBoxHorizontal(32) 95.304,139.768,208.841,161.831 'DR Nolietojuma izmaksas, P/Z \\nCR Uzkrātais nolietojums \\n'>,\n",
       " <LTTextBoxHorizontal(33) 383.350,139.768,433.531,161.831 '                25  \\n                25  \\n'>,\n",
       " <LTTextBoxHorizontal(34) 110.180,98.420,527.116,109.676 '4.  Darījuma atspoguļojums dzīvokļa īpašnieka (juridiskās personas), kas nekvalificējas \\n'>,\n",
       " <LTTextBoxHorizontal(35) 128.180,83.544,296.786,94.800 'atbalsta saņemšanai, grāmatvedībā \\n'>,\n",
       " <LTTextBoxHorizontal(36) 518.980,49.104,526.995,60.144 '5 \\n'>,\n",
       " <LTTextBoxHorizontal(37) 89.904,793.440,92.399,804.480 ' \\n'>,\n",
       " <LTTextBoxHorizontal(38) 89.904,528.858,92.175,538.201 ' \\n'>,\n",
       " <LTTextBoxHorizontal(39) 89.904,120.942,92.421,131.297 ' \\n'>,\n",
       " <LTTextBoxHorizontal(40) 89.904,35.640,92.399,46.680 ' \\n'>,\n",
       " <LTTextBoxHorizontal(0) 89.904,793.440,92.399,804.480 ' \\n'>,\n",
       " <LTTextBoxHorizontal(1) 297.530,793.440,300.025,804.480 ' \\n'>,\n",
       " <LTTextBoxHorizontal(2) 455.140,793.440,507.795,804.480 '05.07.2017 \\n'>,\n",
       " <LTTextBoxHorizontal(3) 89.904,757.402,253.487,767.757 'I Dzīvokļa īpašnieks ir PVN maksātājs \\n'>,\n",
       " <LTTextBoxHorizontal(4) 107.900,712.368,526.771,746.431 '1.  Dzīvokļa  īpašnieks,  kas  nekvalificējas  atbalsta  saņemšanai,  piedalās  programmā  tajā  gadījumā,  ja  no  sava \\nfinansējuma pilnībā sedz uz sevi attiecināmās projekta izmaksas. Nepieciešams veikt avansa maksājumu pilnā \\napmērā uz Pilnvarotās personas projekta kontu, pamatojoties uz Pilnvarotās personas izrakstīto avansa rēķinu. \\n'>,\n",
       " <LTTextBoxHorizontal(5) 95.304,677.928,298.121,699.991 'DR Samaksātais avanss par pamatlīdzekļa uzlabošanu \\nCR Norēķinu konti bankās  \\n'>,\n",
       " <LTTextBoxHorizontal(6) 89.904,661.468,91.956,669.892 ' \\n'>,\n",
       " <LTTextBoxHorizontal(7) 107.900,641.448,338.821,650.791 '2.  Dzīvokļa īpašnieks saņem rēķinu* par būvdarbu veikšanu: \\n'>,\n",
       " <LTTextBoxHorizontal(8) 95.304,581.328,373.981,628.951 'DR Pamatlīdzekļu izveidošana un nepabeigto celtniecības objektu izmaksas \\nDR Reversais PVN priekšnodoklis \\nCR Norēķini ar piegādātājiem un darbuzņēmējiem, īstermiņa \\nCR Reversais aprēķinātais PVN būvniecībā \\n'>,\n",
       " <LTTextBoxHorizontal(9) 416.350,677.928,439.171,699.991 '5 000 \\n5 000 \\n'>,\n",
       " <LTTextBoxHorizontal(10) 419.830,581.328,435.811,628.951 '625 \\n131 \\n625 \\n131 \\n'>,\n",
       " <LTTextBoxHorizontal(11) 89.904,542.638,526.510,573.382 '*Projekta realizācijas laikā saņemot 8 rēķinus par kopējo summu 200 000 EUR, neskaitot PVN, kas sadalīti proporcionāli vienādās \\ndaļās starp 40 dzīvokļu īpašniekiem. Līdz ar to katrs dzīvokļa īpašnieks saņem 8 rēķinus par kopējo summu 5 000 EUR, neskaitot \\nPVN. \\n'>,\n",
       " <LTTextBoxHorizontal(12) 107.900,522.498,526.771,531.841 '3.  Samaksātais avanss Pilnvarotajai personai tiek samazināts par saņemtā rēķina par būvdarbu veikšanu summu: \\n'>,\n",
       " <LTTextBoxHorizontal(13) 95.304,488.058,317.341,510.121 'DR Norēķini ar piegādātājiem un darbuzņēmējiem, īstermiņa \\nCR Samaksātais avanss par pamatlīdzekļa uzlabošanu \\n'>,\n",
       " <LTTextBoxHorizontal(14) 419.830,488.058,435.811,510.121 '625 \\n625 \\n'>,\n",
       " <LTTextBoxHorizontal(15) 107.900,470.658,371.701,480.001 '4.  Būvdarbu pabeigšana - pieņemšanas-nodošanas akta saņemšana: \\n'>,\n",
       " <LTTextBoxHorizontal(16) 95.304,436.098,373.981,458.281 'DR Pamatlīdzekļu uzlabošana \\nCR Pamatlīdzekļu izveidošana un nepabeigto celtniecības objektu izmaksas \\n'>,\n",
       " <LTTextBoxHorizontal(17) 427.030,436.098,449.851,458.281 '5 000 \\n5000 \\n'>,\n",
       " <LTTextBoxHorizontal(18) 492.220,437.418,494.491,459.481 ' \\n \\n'>,\n",
       " <LTTextBoxHorizontal(19) 107.900,418.818,397.621,428.161 '5.  Dzīvokļa īpašnieks ik mēnesi grāmato izveidotā pamatlīdzekļa nolietojumu \\n'>,\n",
       " <LTTextBoxHorizontal(20) 95.304,384.238,208.841,406.321 'DR Nolietojuma izmaksas, P/Z \\nCR Uzkrātais nolietojums \\n'>,\n",
       " <LTTextBoxHorizontal(21) 89.904,365.412,92.421,375.767 ' \\n'>,\n",
       " <LTTextBoxHorizontal(22) 383.350,384.238,433.531,406.321 '                21  \\n                21  \\n'>,\n",
       " <LTTextBoxHorizontal(23) 89.904,343.812,351.187,354.167 'II Dzīvokļa īpašnieks, kas nav reģistrējies kā PVN maksātājs  \\n'>,\n",
       " <LTTextBoxHorizontal(24) 107.900,286.438,526.722,332.861 '1.  Dzīvokļa  īpašnieks,  kas  nekvalificējas  atbalsta  saņemšanai,  piedalās  programmā  tajā  gadījumā,  ja  no  sava \\nfinansējuma pilnībā sedz uz sevi attiecināmās projekta izmaksas, ieskaitot PVN. Nepieciešams veikts avansa \\nmaksājumu  pilnā  apmērā  uz  Pilnvarotās  personas  projekta  kontu,  pamatojoties  uz  Pilnvarotās  personas \\nizrakstīto avansa rēķinu. \\n'>,\n",
       " <LTTextBoxHorizontal(25) 95.304,240.478,298.121,274.061 'DR Samaksātais avanss par pamatlīdzekļa uzlabošanu \\nCR Norēķinu konti bankās  \\n \\n'>,\n",
       " <LTTextBoxHorizontal(26) 393.070,251.998,438.691,274.061 '         6 050  \\n         6 050  \\n'>,\n",
       " <LTTextBoxHorizontal(27) 107.900,217.078,336.541,226.421 '2.  Dzīvokļa īpašnieks saņem rēķinu* par būvdarbu veikšanu \\n'>,\n",
       " <LTTextBoxHorizontal(28) 95.304,169.768,373.981,204.671 'DR Pamatlīdzekļu izveidošana un nepabeigto celtniecības objektu izmaksas \\nCR Norēķini ar piegādātājiem un darbuzņēmējiem, īstermiņa \\n \\n'>,\n",
       " <LTTextBoxHorizontal(29) 393.070,169.768,438.691,204.671 '            756  \\n            756  \\n \\n'>,\n",
       " <LTTextBoxHorizontal(30) 95.304,130.888,504.829,161.852 '*Projekta realizācijas laikā saņemot  8 rēķinus par kopējo summu 200 000 EUR, neskaitot PVN, kas sadalīti  proporcionāli \\nvienādās daļās starp 40 dzīvokļu īpašniekiem. Līdz ar to katrs dzīvokļa īpašnieks saņem 8 rēķinus par kopējo summu 5 000 \\nEUR, neskaitot PVN. \\n'>,\n",
       " <LTTextBoxHorizontal(31) 107.900,105.088,526.771,114.431 '3.  Samaksātais avanss Pilnvarotajai personai tiek samazināts par saņemtā rēķina par būvdarbu veikšanu summu: \\n'>,\n",
       " <LTTextBoxHorizontal(32) 95.304,83.252,317.341,92.595 'DR Norēķini ar piegādātājiem un darbuzņēmējiem, īstermiņa \\n'>,\n",
       " <LTTextBoxHorizontal(33) 393.070,83.252,438.691,92.595 '            756  \\n'>,\n",
       " <LTTextBoxHorizontal(34) 89.904,35.640,92.399,46.680 ' \\n'>,\n",
       " <LTTextBoxHorizontal(35) 518.980,49.104,526.995,60.144 '6 \\n'>,\n",
       " <LTTextBoxHorizontal(0) 297.530,793.440,300.025,804.480 ' \\n'>,\n",
       " <LTTextBoxHorizontal(1) 455.140,793.440,507.795,804.480 '05.07.2017 \\n'>,\n",
       " <LTTextBoxHorizontal(2) 95.304,757.388,298.121,766.731 'CR Samaksātais avanss par pamatlīdzekļa uzlabošanu \\n'>,\n",
       " <LTTextBoxHorizontal(3) 393.070,757.388,438.691,766.731 '            756  \\n'>,\n",
       " <LTTextBoxHorizontal(4) 107.900,740.088,369.421,749.431 '4.  Būvdarbu pabeigšana - pieņemšanas-nodošanas akta saņemšana \\n'>,\n",
       " <LTTextBoxHorizontal(5) 95.304,705.528,373.981,727.591 'DR Pamatlīdzekļu uzlabošana \\nCR Pamatlīdzekļu izveidošana un nepabeigto celtniecības objektu izmaksas \\n'>,\n",
       " <LTTextBoxHorizontal(6) 393.070,705.528,438.691,727.591 '         6 050  \\n         6 050  \\n'>,\n",
       " <LTTextBoxHorizontal(7) 492.220,706.848,494.491,728.911 ' \\n \\n'>,\n",
       " <LTTextBoxHorizontal(8) 107.900,688.128,397.621,697.471 '5.  Dzīvokļa īpašnieks ik mēnesi grāmato izveidotā pamatlīdzekļa nolietojumu \\n'>,\n",
       " <LTTextBoxHorizontal(9) 95.304,653.688,208.841,675.751 'DR Nolietojuma izmaksas, P/Z \\nCR Uzkrātais nolietojums \\n'>,\n",
       " <LTTextBoxHorizontal(10) 383.350,653.688,433.531,675.751 '                25  \\n                25  \\n'>,\n",
       " <LTTextBoxHorizontal(11) 373.150,640.300,375.645,651.340 ' \\n'>,\n",
       " <LTTextBoxHorizontal(12) 89.904,793.440,92.399,804.480 ' \\n'>,\n",
       " <LTTextBoxHorizontal(13) 89.904,640.300,92.399,651.340 ' \\n'>,\n",
       " <LTTextBoxHorizontal(14) 89.904,35.640,92.399,46.680 ' \\n'>,\n",
       " <LTTextBoxHorizontal(15) 518.980,49.104,526.995,60.144 '7 \\n'>]"
      ]
     },
     "execution_count": 54,
     "metadata": {},
     "output_type": "execute_result"
    }
   ],
   "source": [
    "pages"
   ]
  },
  {
   "cell_type": "code",
   "execution_count": 50,
   "metadata": {},
   "outputs": [],
   "source": [
    "rawpages = PDFPage.create_pages(document)"
   ]
  },
  {
   "cell_type": "code",
   "execution_count": 51,
   "metadata": {},
   "outputs": [
    {
     "data": {
      "text/plain": [
       "generator"
      ]
     },
     "execution_count": 51,
     "metadata": {},
     "output_type": "execute_result"
    }
   ],
   "source": [
    "type(rawpages)"
   ]
  },
  {
   "cell_type": "code",
   "execution_count": 52,
   "metadata": {},
   "outputs": [],
   "source": [
    "rawlist = list(rawpages)"
   ]
  },
  {
   "cell_type": "code",
   "execution_count": 53,
   "metadata": {},
   "outputs": [
    {
     "data": {
      "text/plain": [
       "7"
      ]
     },
     "execution_count": 53,
     "metadata": {},
     "output_type": "execute_result"
    }
   ],
   "source": [
    "len(rawlist)"
   ]
  },
  {
   "cell_type": "code",
   "execution_count": 56,
   "metadata": {},
   "outputs": [
    {
     "data": {
      "text/plain": [
       "[<PDFPage: Resources={'Font': {'F1': <PDFObjRef:5>, 'F2': <PDFObjRef:9>, 'F3': <PDFObjRef:11>, 'F4': <PDFObjRef:16>, 'F5': <PDFObjRef:21>}, 'ExtGState': {'GS7': <PDFObjRef:7>, 'GS8': <PDFObjRef:8>}, 'XObject': {'Image24': <PDFObjRef:24>}, 'ProcSet': [/'PDF', /'Text', /'ImageB', /'ImageC', /'ImageI']}, MediaBox=[0, 0, 595.32, 841.92]>,\n",
       " <PDFPage: Resources={'Font': {'F1': <PDFObjRef:5>, 'F4': <PDFObjRef:16>, 'F5': <PDFObjRef:21>, 'F2': <PDFObjRef:9>, 'F6': <PDFObjRef:27>, 'F3': <PDFObjRef:11>, 'F7': <PDFObjRef:29>, 'F8': <PDFObjRef:31>, 'F9': <PDFObjRef:36>}, 'ExtGState': {'GS7': <PDFObjRef:7>, 'GS8': <PDFObjRef:8>}, 'ProcSet': [/'PDF', /'Text', /'ImageB', /'ImageC', /'ImageI']}, MediaBox=[0, 0, 595.32, 841.92]>,\n",
       " <PDFPage: Resources={'Font': {'F1': <PDFObjRef:5>, 'F4': <PDFObjRef:16>, 'F5': <PDFObjRef:21>, 'F7': <PDFObjRef:29>, 'F2': <PDFObjRef:9>, 'F3': <PDFObjRef:11>, 'F6': <PDFObjRef:27>, 'F9': <PDFObjRef:36>, 'F8': <PDFObjRef:31>}, 'ExtGState': {'GS7': <PDFObjRef:7>, 'GS8': <PDFObjRef:8>}, 'ProcSet': [/'PDF', /'Text', /'ImageB', /'ImageC', /'ImageI']}, MediaBox=[0, 0, 595.32, 841.92]>,\n",
       " <PDFPage: Resources={'Font': {'F1': <PDFObjRef:5>, 'F5': <PDFObjRef:21>, 'F7': <PDFObjRef:29>, 'F4': <PDFObjRef:16>, 'F2': <PDFObjRef:9>, 'F3': <PDFObjRef:11>}, 'ExtGState': {'GS7': <PDFObjRef:7>, 'GS8': <PDFObjRef:8>}, 'ProcSet': [/'PDF', /'Text', /'ImageB', /'ImageC', /'ImageI']}, MediaBox=[0, 0, 595.32, 841.92]>,\n",
       " <PDFPage: Resources={'Font': {'F1': <PDFObjRef:5>, 'F2': <PDFObjRef:9>, 'F6': <PDFObjRef:27>, 'F3': <PDFObjRef:11>, 'F5': <PDFObjRef:21>, 'F7': <PDFObjRef:29>, 'F4': <PDFObjRef:16>, 'F8': <PDFObjRef:31>, 'F9': <PDFObjRef:36>}, 'ProcSet': [/'PDF', /'Text', /'ImageB', /'ImageC', /'ImageI']}, MediaBox=[0, 0, 595.32, 841.92]>,\n",
       " <PDFPage: Resources={'Font': {'F1': <PDFObjRef:5>, 'F3': <PDFObjRef:11>, 'F2': <PDFObjRef:9>, 'F5': <PDFObjRef:21>, 'F7': <PDFObjRef:29>, 'F4': <PDFObjRef:16>, 'F9': <PDFObjRef:36>, 'F8': <PDFObjRef:31>}, 'ExtGState': {'GS7': <PDFObjRef:7>, 'GS8': <PDFObjRef:8>}, 'ProcSet': [/'PDF', /'Text', /'ImageB', /'ImageC', /'ImageI']}, MediaBox=[0, 0, 595.32, 841.92]>,\n",
       " <PDFPage: Resources={'Font': {'F1': <PDFObjRef:5>, 'F4': <PDFObjRef:16>, 'F5': <PDFObjRef:21>, 'F7': <PDFObjRef:29>}, 'ExtGState': {'GS7': <PDFObjRef:7>, 'GS8': <PDFObjRef:8>}, 'ProcSet': [/'PDF', /'Text', /'ImageB', /'ImageC', /'ImageI']}, MediaBox=[0, 0, 595.32, 841.92]>]"
      ]
     },
     "execution_count": 56,
     "metadata": {},
     "output_type": "execute_result"
    }
   ],
   "source": [
    "rawlist"
   ]
  },
  {
   "cell_type": "code",
   "execution_count": 57,
   "metadata": {},
   "outputs": [],
   "source": [
    "fin.close()"
   ]
  },
  {
   "cell_type": "markdown",
   "metadata": {},
   "source": [
    "Extra Deep Info Tutorial from 2012 : http://denis.papathanasiou.org/archive/2010.08.04.post.pdf (ironically a PDF)"
   ]
  },
  {
   "cell_type": "code",
   "execution_count": 61,
   "metadata": {},
   "outputs": [
    {
     "data": {
      "text/plain": [
       "pdfminer.layout.LTTextBoxHorizontal"
      ]
     },
     "execution_count": 61,
     "metadata": {},
     "output_type": "execute_result"
    }
   ],
   "source": [
    "type(pages[6])"
   ]
  },
  {
   "cell_type": "code",
   "execution_count": 63,
   "metadata": {},
   "outputs": [
    {
     "data": {
      "text/plain": [
       "'Scenāriju pieņēmumi \\n'"
      ]
     },
     "execution_count": 63,
     "metadata": {},
     "output_type": "execute_result"
    }
   ],
   "source": [
    "pages[6].get_text()"
   ]
  },
  {
   "cell_type": "code",
   "execution_count": 64,
   "metadata": {},
   "outputs": [
    {
     "name": "stdout",
     "output_type": "stream",
     "text": [
      "GRĀMATOJUMU SHĒMAS DME PROGRAMMAS DARĪJUMU UZSKAITEI GRĀMATVEDĪBĀ \n",
      "\n",
      "Šī materiāla mērķis ir sniegt skaidrojumu par DME programmas darījumu atspoguļošanu iesaistīto \n",
      "pušu (pilnvarotās personas un dzīvokļa īpašnieku – saimnieciskās darbības veicēju) grāmatvedībā. \n",
      "Materiālam ir informatīvs raksturs.  Tas sagatavots, ņemot vērā spēkā esošos normatīvos aktus un \n",
      "to  piemērošanas labo praksi.  \n",
      "\n",
      "Scenāriju pieņēmumi \n",
      "\n",
      "Pieņēmums \n",
      "Kopējās projekta izmaksas, bez PVN* \n",
      "PVN \n",
      "Altum grants 43% (ieskaitot PVN) \n",
      "Altum avansa grants 90% apmērā \n",
      "Altum atlikusī granta daļa 10% apmērā \n",
      "Bankas finansējums 57% (ieskaitot PVN) \n",
      "Bankas finansējuma termiņš \n",
      "Bankas finansējuma īstermiņa daļa pirmajā gadā \n",
      "Pamatsummas atmaksa vienā mēnesī \n",
      "Pirmā mēneša procenti \n",
      "Gada procentu likme \n",
      "Dzīvokļu skaits mājā, kas pieteikusies programmai \n",
      "Viena dzīvokļa daļa no kopējām projekta izmaksām** \n",
      "Viena dzīvokļa daļas PVN \n",
      "Būvniecības rēķinu skaits  \n",
      "\n"
     ]
    }
   ],
   "source": [
    "for x in range(4,8):\n",
    "    print(pages[x].get_text())"
   ]
  }
 ],
 "metadata": {
  "kernelspec": {
   "display_name": "Python 3",
   "language": "python",
   "name": "python3"
  },
  "language_info": {
   "codemirror_mode": {
    "name": "ipython",
    "version": 3
   },
   "file_extension": ".py",
   "mimetype": "text/x-python",
   "name": "python",
   "nbconvert_exporter": "python",
   "pygments_lexer": "ipython3",
   "version": "3.6.4"
  }
 },
 "nbformat": 4,
 "nbformat_minor": 2
}
